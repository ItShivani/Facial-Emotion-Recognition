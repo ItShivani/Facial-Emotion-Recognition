{
  "cells": [
    {
      "cell_type": "code",
      "execution_count": 1,
      "metadata": {
        "colab": {
          "base_uri": "https://localhost:8080/"
        },
        "id": "3eBAc_XH-cd8",
        "outputId": "ce99bee9-79ba-4e22-9d3d-01f44e54e5ab"
      },
      "outputs": [
        {
          "output_type": "stream",
          "name": "stdout",
          "text": [
            "Requirement already satisfied: torch in /usr/local/lib/python3.10/dist-packages (2.1.0+cu118)\n",
            "Requirement already satisfied: torchvision in /usr/local/lib/python3.10/dist-packages (0.16.0+cu118)\n",
            "Requirement already satisfied: filelock in /usr/local/lib/python3.10/dist-packages (from torch) (3.13.1)\n",
            "Requirement already satisfied: typing-extensions in /usr/local/lib/python3.10/dist-packages (from torch) (4.5.0)\n",
            "Requirement already satisfied: sympy in /usr/local/lib/python3.10/dist-packages (from torch) (1.12)\n",
            "Requirement already satisfied: networkx in /usr/local/lib/python3.10/dist-packages (from torch) (3.2.1)\n",
            "Requirement already satisfied: jinja2 in /usr/local/lib/python3.10/dist-packages (from torch) (3.1.2)\n",
            "Requirement already satisfied: fsspec in /usr/local/lib/python3.10/dist-packages (from torch) (2023.6.0)\n",
            "Requirement already satisfied: triton==2.1.0 in /usr/local/lib/python3.10/dist-packages (from torch) (2.1.0)\n",
            "Requirement already satisfied: numpy in /usr/local/lib/python3.10/dist-packages (from torchvision) (1.23.5)\n",
            "Requirement already satisfied: requests in /usr/local/lib/python3.10/dist-packages (from torchvision) (2.31.0)\n",
            "Requirement already satisfied: pillow!=8.3.*,>=5.3.0 in /usr/local/lib/python3.10/dist-packages (from torchvision) (9.4.0)\n",
            "Requirement already satisfied: MarkupSafe>=2.0 in /usr/local/lib/python3.10/dist-packages (from jinja2->torch) (2.1.3)\n",
            "Requirement already satisfied: charset-normalizer<4,>=2 in /usr/local/lib/python3.10/dist-packages (from requests->torchvision) (3.3.2)\n",
            "Requirement already satisfied: idna<4,>=2.5 in /usr/local/lib/python3.10/dist-packages (from requests->torchvision) (3.6)\n",
            "Requirement already satisfied: urllib3<3,>=1.21.1 in /usr/local/lib/python3.10/dist-packages (from requests->torchvision) (2.0.7)\n",
            "Requirement already satisfied: certifi>=2017.4.17 in /usr/local/lib/python3.10/dist-packages (from requests->torchvision) (2023.11.17)\n",
            "Requirement already satisfied: mpmath>=0.19 in /usr/local/lib/python3.10/dist-packages (from sympy->torch) (1.3.0)\n"
          ]
        }
      ],
      "source": [
        "pip install torch torchvision"
      ]
    },
    {
      "cell_type": "code",
      "execution_count": 2,
      "metadata": {
        "colab": {
          "base_uri": "https://localhost:8080/"
        },
        "id": "zIQcIU50y2gM",
        "outputId": "a5581cd6-647c-487c-e7bd-a3a0a286941b"
      },
      "outputs": [
        {
          "output_type": "stream",
          "name": "stdout",
          "text": [
            "Mounted at /content/drive\n"
          ]
        }
      ],
      "source": [
        "from google.colab import drive\n",
        "drive.mount('/content/drive')"
      ]
    },
    {
      "cell_type": "markdown",
      "metadata": {
        "id": "yEkQSTdJ-pny"
      },
      "source": [
        "Import necessary libraries"
      ]
    },
    {
      "cell_type": "code",
      "execution_count": 3,
      "metadata": {
        "id": "RBCcQYBa-lVU"
      },
      "outputs": [],
      "source": [
        "import torch\n",
        "from torchvision import transforms\n",
        "from torchvision.datasets import ImageFolder\n",
        "from torch.utils.data import DataLoader\n",
        "import torch.optim as optim\n",
        "from torch.utils.data import random_split\n",
        "from torch.optim.lr_scheduler import ReduceLROnPlateau\n",
        "import torch.nn as nn\n",
        "import torch.nn.functional as F\n",
        "import torchvision.models as models\n"
      ]
    },
    {
      "cell_type": "markdown",
      "metadata": {
        "id": "0dyxVQfZ-yA2"
      },
      "source": [
        "Data Preprocessing and Augmentation"
      ]
    },
    {
      "cell_type": "code",
      "execution_count": 4,
      "metadata": {
        "id": "aSL72KGU-o-q"
      },
      "outputs": [],
      "source": [
        "transform = transforms.Compose([\n",
        "    transforms.RandomResizedCrop(48, scale=(0.8, 1.2)),\n",
        "    transforms.RandomAffine(10, translate=(0.2, 0.2)),\n",
        "    transforms.ToTensor(),\n",
        "    transforms.Normalize(mean=[0.485, 0.456, 0.406], std=[0.229, 0.224, 0.225]),\n",
        "    transforms.RandomErasing(p=0.5)\n",
        "])\n",
        "\n",
        "#transform = transforms.Compose([\n",
        "    #transforms.Resize((48,48)),\n",
        "#    transforms.ToTensor(),\n",
        "#    transforms.Normalize(mean=[0.485, 0.456, 0.406], std=[0.229, 0.224, 0.225])\n",
        "#])\n",
        "\n",
        "\n",
        "test_transform = transforms.Compose([\n",
        "    transforms.Resize((48, 48)),\n",
        "    transforms.ToTensor(),\n",
        "    transforms.Normalize(mean=[0.485, 0.456, 0.406],\n",
        "                         std=[0.229, 0.224, 0.225])\n",
        "])"
      ]
    },
    {
      "cell_type": "code",
      "execution_count": 5,
      "metadata": {
        "id": "s9Z9Tfia_AqO"
      },
      "outputs": [],
      "source": [
        "train_dataset = ImageFolder(root='/content/drive/MyDrive/archive/train', transform=transform)\n",
        "test_dataset = ImageFolder(root='/content/drive/MyDrive/archive/test',transform=test_transform)\n",
        "\n",
        "val_size = int(0.2 * len(train_dataset))\n",
        "train_size = len(train_dataset) - val_size\n",
        "train_subset, val_subset = random_split(train_dataset, [train_size, val_size])\n",
        "\n",
        "train_loader = DataLoader(train_subset, batch_size=32, shuffle=True, num_workers=4, pin_memory=True)\n",
        "val_loader = DataLoader(val_subset, batch_size=32, shuffle=False, num_workers=4, pin_memory=True)\n",
        "test_loader = DataLoader(test_dataset,batch_size=32,shuffle=False,num_workers=4,pin_memory=True)"
      ]
    },
    {
      "cell_type": "code",
      "execution_count": 6,
      "metadata": {
        "colab": {
          "base_uri": "https://localhost:8080/"
        },
        "id": "w-DvG21s7qmo",
        "outputId": "8689fdb0-0e8f-4738-cf0e-f84b6f3c77bf"
      },
      "outputs": [
        {
          "output_type": "stream",
          "name": "stdout",
          "text": [
            "Time for loading batch 0: 7.126 seconds\n"
          ]
        }
      ],
      "source": [
        "import time\n",
        "start_time = time.time()\n",
        "for i, (images, labels) in enumerate(train_loader):\n",
        "    end_time = time.time()\n",
        "    print(f\"Time for loading batch {i}: {end_time - start_time:.3f} seconds\")\n",
        "    break\n"
      ]
    },
    {
      "cell_type": "markdown",
      "metadata": {
        "id": "zovm-5SY_Exg"
      },
      "source": [
        "Define the model"
      ]
    },
    {
      "cell_type": "code",
      "execution_count": null,
      "metadata": {
        "id": "1GrlOmqH_GZp"
      },
      "outputs": [],
      "source": [
        "import torch\n",
        "import torch.nn as nn\n",
        "import torch.nn.functional as F\n",
        "\n",
        "class VGGNet(nn.Module):\n",
        "    def __init__(self):\n",
        "        super(VGGNet, self).__init__()\n",
        "\n",
        "        self.conv_layers = nn.Sequential(\n",
        "            nn.Conv2d(3, 64, kernel_size=3, padding=1),\n",
        "            nn.ReLU(),\n",
        "            nn.BatchNorm2d(64),\n",
        "            nn.Conv2d(64, 64, kernel_size=3, padding=1),\n",
        "            nn.ReLU(),\n",
        "            nn.BatchNorm2d(64),\n",
        "            nn.MaxPool2d(kernel_size=2, stride=2),\n",
        "\n",
        "            nn.Conv2d(64, 128, kernel_size=3, padding=1),\n",
        "            nn.ReLU(),\n",
        "            nn.BatchNorm2d(128),\n",
        "            nn.Conv2d(128, 128, kernel_size=3, padding=1),\n",
        "            nn.ReLU(),\n",
        "            nn.BatchNorm2d(128),\n",
        "            nn.MaxPool2d(kernel_size=2, stride=2),\n",
        "\n",
        "            nn.Conv2d(128, 256, kernel_size=3, padding=1),\n",
        "            nn.ReLU(),\n",
        "            nn.BatchNorm2d(256),\n",
        "            nn.Conv2d(256, 256, kernel_size=3, padding=1),\n",
        "            nn.ReLU(),\n",
        "            nn.BatchNorm2d(256),\n",
        "            nn.MaxPool2d(kernel_size=2, stride=2),\n",
        "\n",
        "            nn.Conv2d(256, 512, kernel_size=3, padding=1),\n",
        "            nn.ReLU(),\n",
        "            nn.BatchNorm2d(512),\n",
        "            nn.Conv2d(512, 512, kernel_size=3, padding=1),\n",
        "            nn.ReLU(),\n",
        "            nn.BatchNorm2d(512),\n",
        "            nn.MaxPool2d(kernel_size=2, stride=2),\n",
        "        )\n",
        "\n",
        "        self.fc_layers = nn.Sequential(\n",
        "            nn.Linear(512 * 3 * 3, 4096),\n",
        "            nn.ReLU(),\n",
        "            nn.Dropout(),\n",
        "            nn.Linear(4096, 4096),\n",
        "            nn.ReLU(),\n",
        "            nn.Dropout(),\n",
        "            nn.Linear(4096, 7)\n",
        "        )\n",
        "\n",
        "    def forward(self, x):\n",
        "        x = self.conv_layers(x)\n",
        "        x = x.view(x.size(0), -1)\n",
        "        x = self.fc_layers(x)\n",
        "        return x"
      ]
    },
    {
      "cell_type": "markdown",
      "metadata": {
        "id": "gXdVr8oiAP8f"
      },
      "source": [
        "Intialize the model, loss and optimizer\n",
        "\n",
        "**Cross entropy loss and SGD Optimizer**"
      ]
    },
    {
      "cell_type": "code",
      "execution_count": null,
      "metadata": {
        "id": "UmC6jHsn_XH3"
      },
      "outputs": [],
      "source": [
        "model = VGGNet()\n",
        "criterion = nn.CrossEntropyLoss()\n",
        "optimizer = optim.SGD(model.parameters(), lr=0.001, momentum=0.9, weight_decay=0.0001)"
      ]
    },
    {
      "cell_type": "markdown",
      "metadata": {
        "id": "s8Vf1wbMAdTJ"
      },
      "source": [
        "Training"
      ]
    },
    {
      "cell_type": "code",
      "execution_count": null,
      "metadata": {
        "colab": {
          "base_uri": "https://localhost:8080/"
        },
        "id": "8V8lKHNZAc1a",
        "outputId": "abc8f8b1-2dd4-4865-f06e-c9b8eaa8d8e9"
      },
      "outputs": [
        {
          "name": "stdout",
          "output_type": "stream",
          "text": [
            "Epoch 1/20 completed. Training Loss: 1.6254, Accuracy: 35.34%. Validation Loss: 1.4099, Accuracy: 46.12%\n",
            "Epoch 2/20 completed. Training Loss: 1.3267, Accuracy: 49.27%. Validation Loss: 1.2466, Accuracy: 51.47%\n",
            "Epoch 3/20 completed. Training Loss: 1.1755, Accuracy: 55.46%. Validation Loss: 1.1468, Accuracy: 55.81%\n",
            "Epoch 4/20 completed. Training Loss: 1.0567, Accuracy: 60.14%. Validation Loss: 1.1166, Accuracy: 57.39%\n",
            "Epoch 5/20 completed. Training Loss: 0.9441, Accuracy: 64.44%. Validation Loss: 1.0724, Accuracy: 59.92%\n",
            "Epoch 6/20 completed. Training Loss: 0.8311, Accuracy: 69.09%. Validation Loss: 1.1166, Accuracy: 59.26%\n",
            "Epoch 7/20 completed. Training Loss: 0.7159, Accuracy: 73.46%. Validation Loss: 1.1218, Accuracy: 60.88%\n",
            "Epoch 8/20 completed. Training Loss: 0.5975, Accuracy: 78.11%. Validation Loss: 1.1934, Accuracy: 60.32%\n",
            "Epoch 9/20 completed. Training Loss: 0.4924, Accuracy: 82.47%. Validation Loss: 1.4469, Accuracy: 58.40%\n",
            "Epoch 10/20 completed. Training Loss: 0.4126, Accuracy: 85.42%. Validation Loss: 1.4909, Accuracy: 57.17%\n",
            "Epoch 11/20 completed. Training Loss: 0.3131, Accuracy: 89.07%. Validation Loss: 1.7512, Accuracy: 56.98%\n",
            "Epoch 12/20 completed. Training Loss: 0.2627, Accuracy: 90.76%. Validation Loss: 1.5274, Accuracy: 60.30%\n",
            "Epoch 13/20 completed. Training Loss: 0.1960, Accuracy: 93.60%. Validation Loss: 1.7522, Accuracy: 59.64%\n",
            "Epoch 14/20 completed. Training Loss: 0.1575, Accuracy: 94.80%. Validation Loss: 1.7443, Accuracy: 60.46%\n",
            "Epoch 15/20 completed. Training Loss: 0.1348, Accuracy: 95.84%. Validation Loss: 1.9502, Accuracy: 60.04%\n",
            "Epoch 16/20 completed. Training Loss: 0.1029, Accuracy: 96.93%. Validation Loss: 1.9801, Accuracy: 60.41%\n",
            "Epoch 17/20 completed. Training Loss: 0.0787, Accuracy: 97.68%. Validation Loss: 1.9316, Accuracy: 61.82%\n",
            "Epoch 18/20 completed. Training Loss: 0.0626, Accuracy: 98.25%. Validation Loss: 2.0610, Accuracy: 61.02%\n",
            "Epoch 19/20 completed. Training Loss: 0.0546, Accuracy: 98.45%. Validation Loss: 2.1571, Accuracy: 61.59%\n",
            "Epoch 20/20 completed. Training Loss: 0.0383, Accuracy: 99.08%. Validation Loss: 2.2367, Accuracy: 61.45%\n"
          ]
        }
      ],
      "source": [
        "#model = model.to('cuda')\n",
        "num_epochs = 20\n",
        "\n",
        "for epoch in range(num_epochs):\n",
        "    model.train()\n",
        "    running_loss = 0.0\n",
        "    correct = 0\n",
        "    total = 0\n",
        "\n",
        "    # Training\n",
        "    for images, labels in train_loader:\n",
        "        #images = images.to('cuda')\n",
        "        #labels = labels.to('cuda')\n",
        "\n",
        "        optimizer.zero_grad()\n",
        "        outputs = model(images)\n",
        "        loss = criterion(outputs, labels)\n",
        "        loss.backward()\n",
        "        optimizer.step()\n",
        "\n",
        "        running_loss += loss.item()\n",
        "        _, predicted = torch.max(outputs.data, 1)\n",
        "        total += labels.size(0)\n",
        "        correct += (predicted == labels).sum().item()\n",
        "\n",
        "    epoch_loss = running_loss / len(train_loader)\n",
        "    epoch_accuracy = 100 * correct / total\n",
        "\n",
        "    #Validation\n",
        "    model.eval()\n",
        "    val_loss = 0.0\n",
        "    val_correct = 0\n",
        "    val_total = 0\n",
        "    with torch.no_grad():\n",
        "        for val_images, val_labels in val_loader:\n",
        "           # val_images, val_labels = val_images.to('cuda'), val_labels.to('cuda')\n",
        "            val_outputs = model(val_images)\n",
        "            val_loss += criterion(val_outputs, val_labels).item()\n",
        "            _, val_predicted = torch.max(val_outputs.data, 1)\n",
        "            val_total += val_labels.size(0)\n",
        "            val_correct += (val_predicted == val_labels).sum().item()\n",
        "\n",
        "    epoch_loss = running_loss / len(train_loader)\n",
        "    epoch_accuracy = 100 * correct / total\n",
        "    val_epoch_loss = val_loss / len(val_loader)\n",
        "    val_epoch_accuracy = 100 * val_correct / val_total\n",
        "    print(f\"Epoch {epoch+1}/{num_epochs} completed. \"\n",
        "          f\"Training Loss: {epoch_loss:.4f}, Accuracy: {epoch_accuracy:.2f}%. \"\n",
        "          f\"Validation Loss: {val_epoch_loss:.4f}, Accuracy: {val_epoch_accuracy:.2f}%\")\n"
      ]
    },
    {
      "cell_type": "markdown",
      "metadata": {
        "id": "sCJoTFbgBJYP"
      },
      "source": [
        "Testing"
      ]
    },
    {
      "cell_type": "code",
      "execution_count": null,
      "metadata": {
        "colab": {
          "base_uri": "https://localhost:8080/"
        },
        "id": "XfIqtd6CBLsi",
        "outputId": "4090122b-e324-4c11-92cb-fe07fc8f7270"
      },
      "outputs": [
        {
          "name": "stdout",
          "output_type": "stream",
          "text": [
            "Accuracy on the test set: 61.40%\n"
          ]
        }
      ],
      "source": [
        "model.eval()\n",
        "\n",
        "correct = 0\n",
        "total = 0\n",
        "\n",
        "with torch.no_grad():\n",
        "    for images, labels in test_loader:\n",
        "        #images = images.to('cuda')\n",
        "        #labels = labels.to('cuda')\n",
        "\n",
        "        outputs = model(images)\n",
        "        _, predicted = torch.max(outputs.data, 1)\n",
        "        total += labels.size(0)\n",
        "        correct += (predicted == labels).sum().item()\n",
        "\n",
        "accuracy = 100 * correct / total\n",
        "print(f'Accuracy on the test set: {accuracy:.2f}%')\n"
      ]
    },
    {
      "cell_type": "markdown",
      "metadata": {
        "id": "NngaE9MLCzZO"
      },
      "source": [
        "SGD optimizer results in testing accuracy of 61.40%"
      ]
    },
    {
      "cell_type": "markdown",
      "metadata": {
        "id": "Zphza5O_CFqk"
      },
      "source": [
        "Intialize the model, loss and optimizer\n",
        "**Cross entropy loss and SGD Nesterov Optimizer**"
      ]
    },
    {
      "cell_type": "code",
      "execution_count": null,
      "metadata": {
        "id": "HaDklxW9CQo6"
      },
      "outputs": [],
      "source": [
        "model = VGGNet()\n",
        "criterion = nn.CrossEntropyLoss()\n",
        "optimizer = optim.SGD(model.parameters(), lr=0.001, momentum=0.9, weight_decay=0.0001, nesterov=True)"
      ]
    },
    {
      "cell_type": "code",
      "execution_count": null,
      "metadata": {
        "colab": {
          "base_uri": "https://localhost:8080/"
        },
        "id": "jDAYCwUKCiQf",
        "outputId": "f00d32bf-43c3-45be-ee42-92fa6a25de31"
      },
      "outputs": [
        {
          "name": "stdout",
          "output_type": "stream",
          "text": [
            "Epoch 1/20 completed. Training Loss: 1.5773, Accuracy: 37.62%. Validation Loss: 1.3744, Accuracy: 47.48%\n",
            "Epoch 2/20 completed. Training Loss: 1.2920, Accuracy: 50.82%. Validation Loss: 1.1928, Accuracy: 54.42%\n",
            "Epoch 3/20 completed. Training Loss: 1.1383, Accuracy: 57.24%. Validation Loss: 1.1577, Accuracy: 55.77%\n",
            "Epoch 4/20 completed. Training Loss: 1.0224, Accuracy: 61.63%. Validation Loss: 1.0826, Accuracy: 59.47%\n",
            "Epoch 5/20 completed. Training Loss: 0.9105, Accuracy: 66.02%. Validation Loss: 1.1212, Accuracy: 58.30%\n",
            "Epoch 6/20 completed. Training Loss: 0.7820, Accuracy: 70.65%. Validation Loss: 1.1358, Accuracy: 58.72%\n",
            "Epoch 7/20 completed. Training Loss: 0.6741, Accuracy: 75.29%. Validation Loss: 1.2010, Accuracy: 59.15%\n",
            "Epoch 8/20 completed. Training Loss: 0.5513, Accuracy: 80.09%. Validation Loss: 1.2892, Accuracy: 58.37%\n",
            "Epoch 9/20 completed. Training Loss: 0.4567, Accuracy: 83.66%. Validation Loss: 1.3515, Accuracy: 58.94%\n",
            "Epoch 10/20 completed. Training Loss: 0.3547, Accuracy: 87.41%. Validation Loss: 1.5637, Accuracy: 58.74%\n",
            "Epoch 11/20 completed. Training Loss: 0.2802, Accuracy: 90.14%. Validation Loss: 1.6069, Accuracy: 58.09%\n",
            "Epoch 12/20 completed. Training Loss: 0.2258, Accuracy: 92.42%. Validation Loss: 1.8326, Accuracy: 60.44%\n",
            "Epoch 13/20 completed. Training Loss: 0.1732, Accuracy: 94.10%. Validation Loss: 1.7435, Accuracy: 59.28%\n",
            "Epoch 14/20 completed. Training Loss: 0.1488, Accuracy: 95.23%. Validation Loss: 1.8843, Accuracy: 58.96%\n",
            "Epoch 15/20 completed. Training Loss: 0.1081, Accuracy: 96.55%. Validation Loss: 2.1620, Accuracy: 59.19%\n",
            "Epoch 16/20 completed. Training Loss: 0.0946, Accuracy: 97.19%. Validation Loss: 1.9946, Accuracy: 60.44%\n",
            "Epoch 17/20 completed. Training Loss: 0.0738, Accuracy: 97.93%. Validation Loss: 2.0969, Accuracy: 59.82%\n",
            "Epoch 18/20 completed. Training Loss: 0.0603, Accuracy: 98.34%. Validation Loss: 2.2045, Accuracy: 61.09%\n",
            "Epoch 19/20 completed. Training Loss: 0.0436, Accuracy: 98.84%. Validation Loss: 2.2627, Accuracy: 60.48%\n",
            "Epoch 20/20 completed. Training Loss: 0.0476, Accuracy: 98.68%. Validation Loss: 2.1645, Accuracy: 61.45%\n"
          ]
        }
      ],
      "source": [
        "#model = model.to('cuda')\n",
        "num_epochs = 20\n",
        "\n",
        "for epoch in range(num_epochs):\n",
        "    model.train()\n",
        "    running_loss = 0.0\n",
        "    correct = 0\n",
        "    total = 0\n",
        "\n",
        "    # Training\n",
        "    for images, labels in train_loader:\n",
        "        #images = images.to('cuda')\n",
        "        #labels = labels.to('cuda')\n",
        "\n",
        "        optimizer.zero_grad()\n",
        "        outputs = model(images)\n",
        "        loss = criterion(outputs, labels)\n",
        "        loss.backward()\n",
        "        optimizer.step()\n",
        "\n",
        "        running_loss += loss.item()\n",
        "        _, predicted = torch.max(outputs.data, 1)\n",
        "        total += labels.size(0)\n",
        "        correct += (predicted == labels).sum().item()\n",
        "\n",
        "    epoch_loss = running_loss / len(train_loader)\n",
        "    epoch_accuracy = 100 * correct / total\n",
        "\n",
        "    #Validation\n",
        "    model.eval()\n",
        "    val_loss = 0.0\n",
        "    val_correct = 0\n",
        "    val_total = 0\n",
        "    with torch.no_grad():\n",
        "        for val_images, val_labels in val_loader:\n",
        "           # val_images, val_labels = val_images.to('cuda'), val_labels.to('cuda')\n",
        "            val_outputs = model(val_images)\n",
        "            val_loss += criterion(val_outputs, val_labels).item()\n",
        "            _, val_predicted = torch.max(val_outputs.data, 1)\n",
        "            val_total += val_labels.size(0)\n",
        "            val_correct += (val_predicted == val_labels).sum().item()\n",
        "\n",
        "    epoch_loss = running_loss / len(train_loader)\n",
        "    epoch_accuracy = 100 * correct / total\n",
        "    val_epoch_loss = val_loss / len(val_loader)\n",
        "    val_epoch_accuracy = 100 * val_correct / val_total\n",
        "    print(f\"Epoch {epoch+1}/{num_epochs} completed. \"\n",
        "          f\"Training Loss: {epoch_loss:.4f}, Accuracy: {epoch_accuracy:.2f}%. \"\n",
        "          f\"Validation Loss: {val_epoch_loss:.4f}, Accuracy: {val_epoch_accuracy:.2f}%\")\n"
      ]
    },
    {
      "cell_type": "code",
      "execution_count": null,
      "metadata": {
        "colab": {
          "base_uri": "https://localhost:8080/"
        },
        "id": "cf8S4NNICjWm",
        "outputId": "d8ab292a-d062-4449-d85f-8365a60b97a9"
      },
      "outputs": [
        {
          "name": "stdout",
          "output_type": "stream",
          "text": [
            "Accuracy on the test set: 60.66%\n"
          ]
        }
      ],
      "source": [
        "model.eval()\n",
        "\n",
        "correct = 0\n",
        "total = 0\n",
        "\n",
        "with torch.no_grad():\n",
        "    for images, labels in test_loader:\n",
        "        #images = images.to('cuda')\n",
        "        #labels = labels.to('cuda')\n",
        "\n",
        "        outputs = model(images)\n",
        "        _, predicted = torch.max(outputs.data, 1)\n",
        "        total += labels.size(0)\n",
        "        correct += (predicted == labels).sum().item()\n",
        "\n",
        "accuracy = 100 * correct / total\n",
        "print(f'Accuracy on the test set: {accuracy:.2f}%')"
      ]
    },
    {
      "cell_type": "markdown",
      "metadata": {
        "id": "ckUeLHQwCtCc"
      },
      "source": [
        "SGD Nesterov optimizer results in testing accuracy of 60.66%"
      ]
    },
    {
      "cell_type": "markdown",
      "metadata": {
        "id": "ax4nm74FDLnF"
      },
      "source": [
        "Intialize the model, loss and optimizer\n",
        "\n",
        "**Cross entropy loss and ADAM Optimizer**"
      ]
    },
    {
      "cell_type": "code",
      "execution_count": null,
      "metadata": {
        "id": "9UswRDQ8C3sT"
      },
      "outputs": [],
      "source": [
        "model = VGGNet()\n",
        "criterion = nn.CrossEntropyLoss()\n",
        "optimizer = optim.Adam(model.parameters(), lr=0.001, weight_decay=0.0001)"
      ]
    },
    {
      "cell_type": "code",
      "execution_count": null,
      "metadata": {
        "colab": {
          "base_uri": "https://localhost:8080/"
        },
        "id": "fuXfqfmbDfpT",
        "outputId": "16a83f56-6e8b-4ad3-f26d-ab494142a52e"
      },
      "outputs": [
        {
          "name": "stdout",
          "output_type": "stream",
          "text": [
            "Epoch 1/20 completed. Training Loss: 1.9426, Accuracy: 25.09%. Validation Loss: 1.6647, Accuracy: 33.50%\n",
            "Epoch 2/20 completed. Training Loss: 1.7383, Accuracy: 30.82%. Validation Loss: 1.5951, Accuracy: 38.98%\n",
            "Epoch 3/20 completed. Training Loss: 1.5899, Accuracy: 36.60%. Validation Loss: 1.5832, Accuracy: 38.70%\n",
            "Epoch 4/20 completed. Training Loss: 1.5355, Accuracy: 38.87%. Validation Loss: 1.5238, Accuracy: 38.37%\n",
            "Epoch 5/20 completed. Training Loss: 1.5264, Accuracy: 41.12%. Validation Loss: 1.3523, Accuracy: 47.33%\n",
            "Epoch 6/20 completed. Training Loss: 1.3252, Accuracy: 49.80%. Validation Loss: 1.2029, Accuracy: 53.46%\n",
            "Epoch 7/20 completed. Training Loss: 1.1908, Accuracy: 55.06%. Validation Loss: 1.1417, Accuracy: 55.27%\n",
            "Epoch 8/20 completed. Training Loss: 1.1078, Accuracy: 58.61%. Validation Loss: 1.0892, Accuracy: 58.94%\n",
            "Epoch 9/20 completed. Training Loss: 1.0371, Accuracy: 61.59%. Validation Loss: 1.1267, Accuracy: 58.32%\n",
            "Epoch 10/20 completed. Training Loss: 0.9570, Accuracy: 64.39%. Validation Loss: 1.1064, Accuracy: 59.17%\n",
            "Epoch 11/20 completed. Training Loss: 0.8871, Accuracy: 67.04%. Validation Loss: 1.1212, Accuracy: 60.56%\n",
            "Epoch 12/20 completed. Training Loss: 0.8065, Accuracy: 70.19%. Validation Loss: 1.1198, Accuracy: 60.04%\n",
            "Epoch 13/20 completed. Training Loss: 0.7126, Accuracy: 74.36%. Validation Loss: 1.0964, Accuracy: 61.66%\n",
            "Epoch 14/20 completed. Training Loss: 0.6241, Accuracy: 77.62%. Validation Loss: 1.2262, Accuracy: 61.03%\n",
            "Epoch 15/20 completed. Training Loss: 0.5511, Accuracy: 80.14%. Validation Loss: 1.2741, Accuracy: 60.74%\n",
            "Epoch 16/20 completed. Training Loss: 0.4723, Accuracy: 83.44%. Validation Loss: 1.3453, Accuracy: 60.93%\n",
            "Epoch 17/20 completed. Training Loss: 0.3979, Accuracy: 86.23%. Validation Loss: 1.3714, Accuracy: 61.64%\n",
            "Epoch 18/20 completed. Training Loss: 0.3525, Accuracy: 87.96%. Validation Loss: 1.4847, Accuracy: 60.81%\n",
            "Epoch 19/20 completed. Training Loss: 0.3214, Accuracy: 89.25%. Validation Loss: 1.4400, Accuracy: 61.14%\n",
            "Epoch 20/20 completed. Training Loss: 0.2822, Accuracy: 90.38%. Validation Loss: 1.4222, Accuracy: 61.23%\n"
          ]
        }
      ],
      "source": [
        "#model = model.to('cuda')\n",
        "num_epochs = 20\n",
        "\n",
        "for epoch in range(num_epochs):\n",
        "    model.train()\n",
        "    running_loss = 0.0\n",
        "    correct = 0\n",
        "    total = 0\n",
        "\n",
        "    # Training\n",
        "    for images, labels in train_loader:\n",
        "        #images = images.to('cuda')\n",
        "        #labels = labels.to('cuda')\n",
        "\n",
        "        optimizer.zero_grad()\n",
        "        outputs = model(images)\n",
        "        loss = criterion(outputs, labels)\n",
        "        loss.backward()\n",
        "        optimizer.step()\n",
        "\n",
        "        running_loss += loss.item()\n",
        "        _, predicted = torch.max(outputs.data, 1)\n",
        "        total += labels.size(0)\n",
        "        correct += (predicted == labels).sum().item()\n",
        "\n",
        "    epoch_loss = running_loss / len(train_loader)\n",
        "    epoch_accuracy = 100 * correct / total\n",
        "\n",
        "    #Validation\n",
        "    model.eval()\n",
        "    val_loss = 0.0\n",
        "    val_correct = 0\n",
        "    val_total = 0\n",
        "    with torch.no_grad():\n",
        "        for val_images, val_labels in val_loader:\n",
        "            #val_images, val_labels = val_images.to('cuda'), val_labels.to('cuda')\n",
        "            val_outputs = model(val_images)\n",
        "            val_loss += criterion(val_outputs, val_labels).item()\n",
        "            _, val_predicted = torch.max(val_outputs.data, 1)\n",
        "            val_total += val_labels.size(0)\n",
        "            val_correct += (val_predicted == val_labels).sum().item()\n",
        "\n",
        "    epoch_loss = running_loss / len(train_loader)\n",
        "    epoch_accuracy = 100 * correct / total\n",
        "    val_epoch_loss = val_loss / len(val_loader)\n",
        "    val_epoch_accuracy = 100 * val_correct / val_total\n",
        "    print(f\"Epoch {epoch+1}/{num_epochs} completed. \"\n",
        "          f\"Training Loss: {epoch_loss:.4f}, Accuracy: {epoch_accuracy:.2f}%. \"\n",
        "          f\"Validation Loss: {val_epoch_loss:.4f}, Accuracy: {val_epoch_accuracy:.2f}%\")\n"
      ]
    },
    {
      "cell_type": "code",
      "execution_count": null,
      "metadata": {
        "colab": {
          "base_uri": "https://localhost:8080/"
        },
        "id": "zpwzyjH0Dgmi",
        "outputId": "edfa4d52-bbf9-41ca-ce03-18c7289e36ae"
      },
      "outputs": [
        {
          "name": "stdout",
          "output_type": "stream",
          "text": [
            "Accuracy on the test set: 59.97%\n"
          ]
        }
      ],
      "source": [
        "model.eval()\n",
        "\n",
        "correct = 0\n",
        "total = 0\n",
        "\n",
        "with torch.no_grad():\n",
        "    for images, labels in test_loader:\n",
        "        #images = images.to('cuda')\n",
        "        #labels = labels.to('cuda')\n",
        "\n",
        "        outputs = model(images)\n",
        "        _, predicted = torch.max(outputs.data, 1)\n",
        "        total += labels.size(0)\n",
        "        correct += (predicted == labels).sum().item()\n",
        "\n",
        "accuracy = 100 * correct / total\n",
        "print(f'Accuracy on the test set: {accuracy:.2f}%')"
      ]
    },
    {
      "cell_type": "markdown",
      "metadata": {
        "id": "JxW1ed2QDn5x"
      },
      "source": [
        "Adam optimizer results in test accuracy of 59.97%"
      ]
    },
    {
      "cell_type": "markdown",
      "metadata": {
        "id": "7ZvKpeJiDw3E"
      },
      "source": [
        "Intialize the model, loss and optimizer\n",
        "\n",
        "Cross entropy loss and ADAM AMSGrad Optimizer\n"
      ]
    },
    {
      "cell_type": "code",
      "execution_count": null,
      "metadata": {
        "id": "VslxvaM7Dvk6"
      },
      "outputs": [],
      "source": [
        "model = VGGNet()\n",
        "criterion = nn.CrossEntropyLoss()\n",
        "optimizer = optim.Adam(model.parameters(), lr=0.001, weight_decay=0.0001, amsgrad=True)"
      ]
    },
    {
      "cell_type": "code",
      "execution_count": null,
      "metadata": {
        "colab": {
          "base_uri": "https://localhost:8080/"
        },
        "id": "6oAnqCMoD9BG",
        "outputId": "47847448-a798-4cdf-df27-7770869c53e4"
      },
      "outputs": [
        {
          "name": "stdout",
          "output_type": "stream",
          "text": [
            "Epoch 1/20 completed. Training Loss: 1.9862, Accuracy: 22.00%. Validation Loss: 1.8126, Accuracy: 25.97%\n",
            "Epoch 2/20 completed. Training Loss: 1.7936, Accuracy: 24.97%. Validation Loss: 1.7182, Accuracy: 30.43%\n",
            "Epoch 3/20 completed. Training Loss: 1.6962, Accuracy: 30.72%. Validation Loss: 1.6047, Accuracy: 33.08%\n",
            "Epoch 4/20 completed. Training Loss: 1.6192, Accuracy: 33.60%. Validation Loss: 1.6348, Accuracy: 33.50%\n",
            "Epoch 5/20 completed. Training Loss: 1.5928, Accuracy: 34.51%. Validation Loss: 1.5588, Accuracy: 33.18%\n",
            "Epoch 6/20 completed. Training Loss: 1.5553, Accuracy: 35.91%. Validation Loss: 1.5409, Accuracy: 41.28%\n",
            "Epoch 7/20 completed. Training Loss: 1.5146, Accuracy: 40.84%. Validation Loss: 1.4312, Accuracy: 43.37%\n",
            "Epoch 8/20 completed. Training Loss: 1.4309, Accuracy: 44.83%. Validation Loss: 1.3154, Accuracy: 50.32%\n",
            "Epoch 9/20 completed. Training Loss: 1.2735, Accuracy: 51.35%. Validation Loss: 1.2132, Accuracy: 54.35%\n",
            "Epoch 10/20 completed. Training Loss: 1.1679, Accuracy: 55.88%. Validation Loss: 1.1438, Accuracy: 56.63%\n",
            "Epoch 11/20 completed. Training Loss: 1.0814, Accuracy: 59.61%. Validation Loss: 1.1584, Accuracy: 58.44%\n",
            "Epoch 12/20 completed. Training Loss: 1.0095, Accuracy: 62.25%. Validation Loss: 1.0782, Accuracy: 60.22%\n",
            "Epoch 13/20 completed. Training Loss: 0.9418, Accuracy: 65.20%. Validation Loss: 1.0960, Accuracy: 60.11%\n",
            "Epoch 14/20 completed. Training Loss: 0.8681, Accuracy: 68.00%. Validation Loss: 1.0758, Accuracy: 60.86%\n",
            "Epoch 15/20 completed. Training Loss: 0.7895, Accuracy: 71.00%. Validation Loss: 1.1042, Accuracy: 60.60%\n",
            "Epoch 16/20 completed. Training Loss: 0.6956, Accuracy: 74.53%. Validation Loss: 1.2081, Accuracy: 61.00%\n",
            "Epoch 17/20 completed. Training Loss: 0.6183, Accuracy: 77.66%. Validation Loss: 1.2333, Accuracy: 61.50%\n",
            "Epoch 18/20 completed. Training Loss: 0.5335, Accuracy: 80.99%. Validation Loss: 1.2829, Accuracy: 60.23%\n",
            "Epoch 19/20 completed. Training Loss: 0.4486, Accuracy: 84.10%. Validation Loss: 1.4966, Accuracy: 61.78%\n",
            "Epoch 20/20 completed. Training Loss: 0.3879, Accuracy: 86.42%. Validation Loss: 1.4860, Accuracy: 61.47%\n"
          ]
        }
      ],
      "source": [
        "#model = model.to('cuda')\n",
        "num_epochs = 20\n",
        "\n",
        "for epoch in range(num_epochs):\n",
        "    model.train()\n",
        "    running_loss = 0.0\n",
        "    correct = 0\n",
        "    total = 0\n",
        "\n",
        "    # Training\n",
        "    for images, labels in train_loader:\n",
        "        #images = images.to('cuda')\n",
        "        #labels = labels.to('cuda')\n",
        "\n",
        "        optimizer.zero_grad()\n",
        "        outputs = model(images)\n",
        "        loss = criterion(outputs, labels)\n",
        "        loss.backward()\n",
        "        optimizer.step()\n",
        "\n",
        "        running_loss += loss.item()\n",
        "        _, predicted = torch.max(outputs.data, 1)\n",
        "        total += labels.size(0)\n",
        "        correct += (predicted == labels).sum().item()\n",
        "\n",
        "    epoch_loss = running_loss / len(train_loader)\n",
        "    epoch_accuracy = 100 * correct / total\n",
        "\n",
        "    #Validation\n",
        "    model.eval()\n",
        "    val_loss = 0.0\n",
        "    val_correct = 0\n",
        "    val_total = 0\n",
        "    with torch.no_grad():\n",
        "        for val_images, val_labels in val_loader:\n",
        "            #val_images, val_labels = val_images.to('cuda'), val_labels.to('cuda')\n",
        "            val_outputs = model(val_images)\n",
        "            val_loss += criterion(val_outputs, val_labels).item()\n",
        "            _, val_predicted = torch.max(val_outputs.data, 1)\n",
        "            val_total += val_labels.size(0)\n",
        "            val_correct += (val_predicted == val_labels).sum().item()\n",
        "\n",
        "    epoch_loss = running_loss / len(train_loader)\n",
        "    epoch_accuracy = 100 * correct / total\n",
        "    val_epoch_loss = val_loss / len(val_loader)\n",
        "    val_epoch_accuracy = 100 * val_correct / val_total\n",
        "    print(f\"Epoch {epoch+1}/{num_epochs} completed. \"\n",
        "          f\"Training Loss: {epoch_loss:.4f}, Accuracy: {epoch_accuracy:.2f}%. \"\n",
        "          f\"Validation Loss: {val_epoch_loss:.4f}, Accuracy: {val_epoch_accuracy:.2f}%\")\n"
      ]
    },
    {
      "cell_type": "code",
      "execution_count": null,
      "metadata": {
        "colab": {
          "base_uri": "https://localhost:8080/"
        },
        "id": "HfSojkjPD-wy",
        "outputId": "282aafe7-77c3-44f4-c6e4-04d9bfba83ac"
      },
      "outputs": [
        {
          "name": "stdout",
          "output_type": "stream",
          "text": [
            "Accuracy on the test set: 60.45%\n"
          ]
        }
      ],
      "source": [
        "model.eval()\n",
        "\n",
        "correct = 0\n",
        "total = 0\n",
        "\n",
        "with torch.no_grad():\n",
        "    for images, labels in test_loader:\n",
        "        #images = images.to('cuda')\n",
        "        #labels = labels.to('cuda')\n",
        "\n",
        "        outputs = model(images)\n",
        "        _, predicted = torch.max(outputs.data, 1)\n",
        "        total += labels.size(0)\n",
        "        correct += (predicted == labels).sum().item()\n",
        "\n",
        "accuracy = 100 * correct / total\n",
        "print(f'Accuracy on the test set: {accuracy:.2f}%')"
      ]
    },
    {
      "cell_type": "markdown",
      "metadata": {
        "id": "Az2v0d_JEBXd"
      },
      "source": [
        "Adam optimizer with AMSGrad results in accuracy of 60.45%"
      ]
    },
    {
      "cell_type": "markdown",
      "metadata": {
        "id": "ySF0VRbsEwZo"
      },
      "source": [
        "Since SGD optimizer led to the best accuracy. I tried different LR schedulers."
      ]
    },
    {
      "cell_type": "markdown",
      "metadata": {
        "id": "2ZQ97DjAR_aE"
      },
      "source": [
        "Step LR Scheduler with SGD Optimizer"
      ]
    },
    {
      "cell_type": "code",
      "execution_count": null,
      "metadata": {
        "id": "raXC3thVE18I"
      },
      "outputs": [],
      "source": [
        "model = VGGNet()\n",
        "criterion = nn.CrossEntropyLoss()\n",
        "optimizer = optim.SGD(model.parameters(), lr=0.001, momentum=0.9, weight_decay=0.0001)\n",
        "scheduler = optim.lr_scheduler.StepLR(optimizer, step_size=10, gamma=0.1)"
      ]
    },
    {
      "cell_type": "code",
      "execution_count": null,
      "metadata": {
        "colab": {
          "base_uri": "https://localhost:8080/"
        },
        "id": "-UMS2hi-LKHr",
        "outputId": "0c062f06-8e40-478b-9f15-81923d726753"
      },
      "outputs": [
        {
          "name": "stdout",
          "output_type": "stream",
          "text": [
            "Epoch 1/20 completed. Training Loss: 1.6208, Accuracy: 35.20%. Validation Loss: 1.4118, Accuracy: 45.99%\n",
            "Epoch 2/20 completed. Training Loss: 1.3223, Accuracy: 49.33%. Validation Loss: 1.2845, Accuracy: 51.02%\n",
            "Epoch 3/20 completed. Training Loss: 1.1694, Accuracy: 55.88%. Validation Loss: 1.1610, Accuracy: 56.21%\n",
            "Epoch 4/20 completed. Training Loss: 1.0442, Accuracy: 60.61%. Validation Loss: 1.1452, Accuracy: 57.83%\n",
            "Epoch 5/20 completed. Training Loss: 0.9337, Accuracy: 65.16%. Validation Loss: 1.1219, Accuracy: 58.75%\n",
            "Epoch 6/20 completed. Training Loss: 0.8172, Accuracy: 69.58%. Validation Loss: 1.1241, Accuracy: 60.04%\n",
            "Epoch 7/20 completed. Training Loss: 0.7054, Accuracy: 74.19%. Validation Loss: 1.1925, Accuracy: 59.14%\n",
            "Epoch 8/20 completed. Training Loss: 0.5817, Accuracy: 78.55%. Validation Loss: 1.2527, Accuracy: 58.35%\n",
            "Epoch 9/20 completed. Training Loss: 0.4766, Accuracy: 82.48%. Validation Loss: 1.2802, Accuracy: 59.24%\n",
            "Epoch 10/20 completed. Training Loss: 0.3761, Accuracy: 86.79%. Validation Loss: 1.4374, Accuracy: 59.66%\n",
            "Epoch 11/20 completed. Training Loss: 0.1481, Accuracy: 95.56%. Validation Loss: 1.5194, Accuracy: 62.60%\n",
            "Epoch 12/20 completed. Training Loss: 0.0643, Accuracy: 98.43%. Validation Loss: 1.6530, Accuracy: 62.74%\n",
            "Epoch 13/20 completed. Training Loss: 0.0392, Accuracy: 99.09%. Validation Loss: 1.7669, Accuracy: 62.60%\n",
            "Epoch 14/20 completed. Training Loss: 0.0277, Accuracy: 99.46%. Validation Loss: 1.8534, Accuracy: 62.90%\n",
            "Epoch 15/20 completed. Training Loss: 0.0226, Accuracy: 99.60%. Validation Loss: 1.9184, Accuracy: 62.72%\n",
            "Epoch 16/20 completed. Training Loss: 0.0200, Accuracy: 99.64%. Validation Loss: 1.9855, Accuracy: 63.14%\n",
            "Epoch 17/20 completed. Training Loss: 0.0171, Accuracy: 99.68%. Validation Loss: 2.0184, Accuracy: 63.14%\n",
            "Epoch 18/20 completed. Training Loss: 0.0156, Accuracy: 99.69%. Validation Loss: 2.0477, Accuracy: 62.93%\n",
            "Epoch 19/20 completed. Training Loss: 0.0144, Accuracy: 99.70%. Validation Loss: 2.0589, Accuracy: 63.21%\n",
            "Epoch 20/20 completed. Training Loss: 0.0130, Accuracy: 99.76%. Validation Loss: 2.0992, Accuracy: 63.00%\n"
          ]
        }
      ],
      "source": [
        "#model = model.to('cuda')\n",
        "num_epochs = 20\n",
        "\n",
        "for epoch in range(num_epochs):\n",
        "    model.train()\n",
        "    running_loss = 0.0\n",
        "    correct = 0\n",
        "    total = 0\n",
        "\n",
        "    # Training\n",
        "    for images, labels in train_loader:\n",
        "        #images = images.to('cuda')\n",
        "        #labels = labels.to('cuda')\n",
        "\n",
        "        optimizer.zero_grad()\n",
        "        outputs = model(images)\n",
        "        loss = criterion(outputs, labels)\n",
        "        loss.backward()\n",
        "        optimizer.step()\n",
        "\n",
        "        running_loss += loss.item()\n",
        "        _, predicted = torch.max(outputs.data, 1)\n",
        "        total += labels.size(0)\n",
        "        correct += (predicted == labels).sum().item()\n",
        "\n",
        "    epoch_loss = running_loss / len(train_loader)\n",
        "    epoch_accuracy = 100 * correct / total\n",
        "\n",
        "    #Validation\n",
        "    model.eval()\n",
        "    val_loss = 0.0\n",
        "    val_correct = 0\n",
        "    val_total = 0\n",
        "    with torch.no_grad():\n",
        "        for val_images, val_labels in val_loader:\n",
        "            #val_images, val_labels = val_images.to('cuda'), val_labels.to('cuda')\n",
        "            val_outputs = model(val_images)\n",
        "            val_loss += criterion(val_outputs, val_labels).item()\n",
        "            _, val_predicted = torch.max(val_outputs.data, 1)\n",
        "            val_total += val_labels.size(0)\n",
        "            val_correct += (val_predicted == val_labels).sum().item()\n",
        "\n",
        "    epoch_loss = running_loss / len(train_loader)\n",
        "    epoch_accuracy = 100 * correct / total\n",
        "    val_epoch_loss = val_loss / len(val_loader)\n",
        "    val_epoch_accuracy = 100 * val_correct / val_total\n",
        "    print(f\"Epoch {epoch+1}/{num_epochs} completed. \"\n",
        "          f\"Training Loss: {epoch_loss:.4f}, Accuracy: {epoch_accuracy:.2f}%. \"\n",
        "          f\"Validation Loss: {val_epoch_loss:.4f}, Accuracy: {val_epoch_accuracy:.2f}%\")\n",
        "    scheduler.step()"
      ]
    },
    {
      "cell_type": "code",
      "execution_count": null,
      "metadata": {
        "colab": {
          "base_uri": "https://localhost:8080/"
        },
        "id": "mewDPgqQSInF",
        "outputId": "5fdfca8b-4f0b-4445-89ff-6d0580718ddf"
      },
      "outputs": [
        {
          "name": "stdout",
          "output_type": "stream",
          "text": [
            "Accuracy on the test set: 62.13%\n"
          ]
        }
      ],
      "source": [
        "model.eval()\n",
        "\n",
        "correct = 0\n",
        "total = 0\n",
        "\n",
        "with torch.no_grad():\n",
        "    for images, labels in test_loader:\n",
        "        #images = images.to('cuda')\n",
        "        #labels = labels.to('cuda')\n",
        "\n",
        "        outputs = model(images)\n",
        "        _, predicted = torch.max(outputs.data, 1)\n",
        "        total += labels.size(0)\n",
        "        correct += (predicted == labels).sum().item()\n",
        "\n",
        "accuracy = 100 * correct / total\n",
        "print(f'Accuracy on the test set: {accuracy:.2f}%')"
      ]
    },
    {
      "cell_type": "markdown",
      "metadata": {
        "id": "f9exUlUsSKck"
      },
      "source": [
        "Step LR Scheduler with SGD Optimizer with Cross entropy loss gives testing accuracy of 62.13%"
      ]
    },
    {
      "cell_type": "markdown",
      "metadata": {
        "id": "31fulM28Ogn3"
      },
      "source": [
        "RLRP (Reduce Learning rate on Plateau) with SGD Optimizer"
      ]
    },
    {
      "cell_type": "code",
      "execution_count": null,
      "metadata": {
        "id": "hzYL9z49Ol3L"
      },
      "outputs": [],
      "source": [
        "model = VGGNet()\n",
        "criterion = nn.CrossEntropyLoss()\n",
        "optimizer = optim.SGD(model.parameters(), lr=0.01, momentum=0.9, weight_decay=0.0001)\n",
        "scheduler = ReduceLROnPlateau(optimizer, mode='min', factor=0.75, patience=5, verbose=True)\n"
      ]
    },
    {
      "cell_type": "code",
      "execution_count": null,
      "metadata": {
        "colab": {
          "base_uri": "https://localhost:8080/"
        },
        "id": "-8bT0XzERFzi",
        "outputId": "318ff2c6-214b-4014-8a9f-f93614a5dffb"
      },
      "outputs": [
        {
          "name": "stdout",
          "output_type": "stream",
          "text": [
            "Epoch 1/20 completed. Training Loss: 1.7403, Accuracy: 31.88%. Validation Loss: 1.5262, Accuracy: 40.67%\n",
            "Epoch 2/20 completed. Training Loss: 1.4541, Accuracy: 44.15%. Validation Loss: 1.3291, Accuracy: 46.93%\n",
            "Epoch 3/20 completed. Training Loss: 1.3354, Accuracy: 49.51%. Validation Loss: 1.2756, Accuracy: 50.86%\n",
            "Epoch 4/20 completed. Training Loss: 1.2519, Accuracy: 53.01%. Validation Loss: 1.2258, Accuracy: 53.98%\n",
            "Epoch 5/20 completed. Training Loss: 1.1709, Accuracy: 56.39%. Validation Loss: 1.1606, Accuracy: 56.07%\n",
            "Epoch 6/20 completed. Training Loss: 1.1136, Accuracy: 59.63%. Validation Loss: 1.1541, Accuracy: 57.34%\n",
            "Epoch 7/20 completed. Training Loss: 1.0475, Accuracy: 61.77%. Validation Loss: 1.1334, Accuracy: 57.76%\n",
            "Epoch 8/20 completed. Training Loss: 0.9820, Accuracy: 64.49%. Validation Loss: 1.2236, Accuracy: 56.99%\n",
            "Epoch 9/20 completed. Training Loss: 0.9112, Accuracy: 66.75%. Validation Loss: 1.0716, Accuracy: 60.62%\n",
            "Epoch 10/20 completed. Training Loss: 0.7917, Accuracy: 71.06%. Validation Loss: 1.2066, Accuracy: 60.13%\n",
            "Epoch 11/20 completed. Training Loss: 0.8147, Accuracy: 70.96%. Validation Loss: 1.1429, Accuracy: 58.72%\n",
            "Epoch 12/20 completed. Training Loss: 0.7461, Accuracy: 73.12%. Validation Loss: 1.1095, Accuracy: 61.66%\n",
            "Epoch 13/20 completed. Training Loss: 0.5974, Accuracy: 78.51%. Validation Loss: 1.2627, Accuracy: 59.68%\n",
            "Epoch 14/20 completed. Training Loss: 0.5083, Accuracy: 81.87%. Validation Loss: 1.2969, Accuracy: 61.03%\n",
            "Epoch 15/20 completed. Training Loss: 0.4397, Accuracy: 84.28%. Validation Loss: 1.3537, Accuracy: 61.49%\n",
            "Epoch 00015: reducing learning rate of group 0 to 7.5000e-03.\n",
            "Epoch 16/20 completed. Training Loss: 0.3008, Accuracy: 89.80%. Validation Loss: 1.4922, Accuracy: 61.28%\n",
            "Epoch 17/20 completed. Training Loss: 0.2103, Accuracy: 92.99%. Validation Loss: 1.5612, Accuracy: 62.11%\n",
            "Epoch 18/20 completed. Training Loss: 0.1759, Accuracy: 94.24%. Validation Loss: 1.7386, Accuracy: 62.90%\n",
            "Epoch 19/20 completed. Training Loss: 0.1367, Accuracy: 95.63%. Validation Loss: 1.8477, Accuracy: 62.43%\n",
            "Epoch 20/20 completed. Training Loss: 0.1287, Accuracy: 95.89%. Validation Loss: 2.1673, Accuracy: 62.11%\n"
          ]
        }
      ],
      "source": [
        "#model = model.to('cuda')\n",
        "num_epochs = 20\n",
        "\n",
        "for epoch in range(num_epochs):\n",
        "    model.train()\n",
        "    running_loss = 0.0\n",
        "    correct = 0\n",
        "    total = 0\n",
        "\n",
        "    # Training\n",
        "    for images, labels in train_loader:\n",
        "        #images = images.to('cuda')\n",
        "        #labels = labels.to('cuda')\n",
        "\n",
        "        optimizer.zero_grad()\n",
        "        outputs = model(images)\n",
        "        loss = criterion(outputs, labels)\n",
        "        loss.backward()\n",
        "        optimizer.step()\n",
        "\n",
        "        running_loss += loss.item()\n",
        "        _, predicted = torch.max(outputs.data, 1)\n",
        "        total += labels.size(0)\n",
        "        correct += (predicted == labels).sum().item()\n",
        "\n",
        "    epoch_loss = running_loss / len(train_loader)\n",
        "    epoch_accuracy = 100 * correct / total\n",
        "\n",
        "    #Validation\n",
        "    model.eval()\n",
        "    val_loss = 0.0\n",
        "    val_correct = 0\n",
        "    val_total = 0\n",
        "    with torch.no_grad():\n",
        "        for val_images, val_labels in val_loader:\n",
        "            #val_images, val_labels = val_images.to('cuda'), val_labels.to('cuda')\n",
        "            val_outputs = model(val_images)\n",
        "            val_loss += criterion(val_outputs, val_labels).item()\n",
        "            _, val_predicted = torch.max(val_outputs.data, 1)\n",
        "            val_total += val_labels.size(0)\n",
        "            val_correct += (val_predicted == val_labels).sum().item()\n",
        "\n",
        "    epoch_loss = running_loss / len(train_loader)\n",
        "    epoch_accuracy = 100 * correct / total\n",
        "    val_epoch_loss = val_loss / len(val_loader)\n",
        "    val_epoch_accuracy = 100 * val_correct / val_total\n",
        "    print(f\"Epoch {epoch+1}/{num_epochs} completed. \"\n",
        "          f\"Training Loss: {epoch_loss:.4f}, Accuracy: {epoch_accuracy:.2f}%. \"\n",
        "          f\"Validation Loss: {val_epoch_loss:.4f}, Accuracy: {val_epoch_accuracy:.2f}%\")\n",
        "    scheduler.step(val_epoch_loss)"
      ]
    },
    {
      "cell_type": "code",
      "execution_count": null,
      "metadata": {
        "colab": {
          "base_uri": "https://localhost:8080/"
        },
        "id": "HkbLhildR1Wq",
        "outputId": "a6154eba-ceec-432f-ebc3-49391a5fd0c0"
      },
      "outputs": [
        {
          "name": "stdout",
          "output_type": "stream",
          "text": [
            "Accuracy on the test set: 62.32%\n"
          ]
        }
      ],
      "source": [
        "model.eval()\n",
        "\n",
        "correct = 0\n",
        "total = 0\n",
        "\n",
        "with torch.no_grad():\n",
        "    for images, labels in test_loader:\n",
        "        #images = images.to('cuda')\n",
        "        #labels = labels.to('cuda')\n",
        "\n",
        "        outputs = model(images)\n",
        "        _, predicted = torch.max(outputs.data, 1)\n",
        "        total += labels.size(0)\n",
        "        correct += (predicted == labels).sum().item()\n",
        "\n",
        "accuracy = 100 * correct / total\n",
        "print(f'Accuracy on the test set: {accuracy:.2f}%')"
      ]
    },
    {
      "cell_type": "markdown",
      "metadata": {
        "id": "bD70NBD7hnVj"
      },
      "source": [
        "SGD Optimizer with RLRP scheduler results in 62.32% accuracy"
      ]
    },
    {
      "cell_type": "markdown",
      "metadata": {
        "id": "o20xY2R6iIF4"
      },
      "source": [
        "# MobileNetV2"
      ]
    },
    {
      "cell_type": "markdown",
      "metadata": {
        "id": "RabSTke8icO_"
      },
      "source": [
        "Defining model with 7 bottleneck layers\n"
      ]
    },
    {
      "cell_type": "code",
      "execution_count": 7,
      "metadata": {
        "id": "qK2JB88VlsvS"
      },
      "outputs": [],
      "source": [
        "class Bottleneck(nn.Module):\n",
        "    def __init__(self, in_channels, mid_channels, out_channels):\n",
        "        super(Bottleneck, self).__init__()\n",
        "        self.bottleneck = nn.Sequential(\n",
        "            nn.Conv2d(in_channels, mid_channels, kernel_size=1),\n",
        "            nn.BatchNorm2d(mid_channels),\n",
        "            nn.ReLU(),\n",
        "            nn.Conv2d(mid_channels, mid_channels, kernel_size=3, padding=1),\n",
        "            nn.BatchNorm2d(mid_channels),\n",
        "            nn.ReLU(),\n",
        "            nn.Conv2d(mid_channels, out_channels, kernel_size=1),\n",
        "            nn.BatchNorm2d(out_channels)\n",
        "        )\n",
        "\n",
        "    def forward(self, x):\n",
        "        return F.relu(self.bottleneck(x) + x)\n",
        "\n",
        "class MobileNet(nn.Module):\n",
        "    def __init__(self):\n",
        "        super(MobileNet, self).__init__()\n",
        "        self.initial_conv = nn.Conv2d(3, 64, kernel_size=3, padding=1)\n",
        "\n",
        "        self.bottlenecks = nn.Sequential(\n",
        "            Bottleneck(64, 32, 64),\n",
        "            Bottleneck(64, 32, 64),\n",
        "            Bottleneck(64, 32, 64),\n",
        "            Bottleneck(64, 32, 64),\n",
        "            Bottleneck(64, 32, 64),\n",
        "            Bottleneck(64, 32, 64),\n",
        "            Bottleneck(64, 32, 64)\n",
        "        )\n",
        "\n",
        "        self.classifier = nn.Sequential(\n",
        "            nn.AdaptiveAvgPool2d((1, 1)),\n",
        "            nn.Flatten(),\n",
        "            nn.Linear(64, 7)\n",
        "        )\n",
        "\n",
        "    def forward(self, x):\n",
        "        x = F.relu(self.initial_conv(x))\n",
        "        x = self.bottlenecks(x)\n",
        "        x = self.classifier(x)\n",
        "        return x\n"
      ]
    },
    {
      "cell_type": "code",
      "execution_count": 8,
      "metadata": {
        "id": "FKFiKDPlAJDV"
      },
      "outputs": [],
      "source": [
        "class FocalLoss(nn.Module):\n",
        "    def __init__(self, alpha=1, gamma=2, reduction='mean'):\n",
        "        super(FocalLoss, self).__init__()\n",
        "        self.alpha = alpha\n",
        "        self.gamma = gamma\n",
        "        self.reduction = reduction\n",
        "\n",
        "    def forward(self, inputs, targets):\n",
        "        BCE_loss = F.cross_entropy(inputs, targets, reduction='none')\n",
        "        pt = torch.exp(-BCE_loss)  # Prevents nans when probability 0\n",
        "        F_loss = self.alpha * (1 - pt) ** self.gamma * BCE_loss\n",
        "\n",
        "        if self.reduction == 'mean':\n",
        "            return torch.mean(F_loss)\n",
        "        elif self.reduction == 'sum':\n",
        "            return torch.sum(F_loss)\n",
        "        else:\n",
        "            return F_loss"
      ]
    },
    {
      "cell_type": "markdown",
      "metadata": {
        "id": "Cw6ZXSN4i3WV"
      },
      "source": [
        "SGD Optimizer with Constant learning rate and focal loss"
      ]
    },
    {
      "cell_type": "code",
      "execution_count": 28,
      "metadata": {
        "id": "L2BQF-vkjE_-"
      },
      "outputs": [],
      "source": [
        "model = MobileNet()\n",
        "#criterion = nn.CrossEntropyLoss()\n",
        "criterion = FocalLoss(alpha=1, gamma=2, reduction='mean')\n",
        "optimizer = optim.SGD(model.parameters(), lr=0.01, momentum=0.9, weight_decay=0.0001)"
      ]
    },
    {
      "cell_type": "code",
      "execution_count": 17,
      "metadata": {
        "colab": {
          "base_uri": "https://localhost:8080/"
        },
        "id": "AkUUjvnZjU-j",
        "outputId": "f50b1421-a671-4cc9-ab1a-1351b9043d11"
      },
      "outputs": [
        {
          "output_type": "stream",
          "name": "stdout",
          "text": [
            "Epoch 1/40 completed. Training Loss: 1.2456, Accuracy: 23.87%. Validation Loss: 1.2589, Accuracy: 24.92%\n",
            " Epoch 2/40 completed. Training Loss: 1.2224, Accuracy: 25.31%. Validation Loss: 1.2407, Accuracy: 25.76%\n",
            " Epoch 3/40 completed. Training Loss: 1.2003, Accuracy: 26.78%. Validation Loss: 1.2234, Accuracy: 26.61%\n",
            " Epoch 4/40 completed. Training Loss: 1.1792, Accuracy: 28.27%. Validation Loss: 1.2069, Accuracy: 27.47%\n",
            " Epoch 5/40 completed. Training Loss: 1.1590, Accuracy: 29.75%. Validation Loss: 1.1911, Accuracy: 28.34%\n",
            " Epoch 6/40 completed. Training Loss: 1.1396, Accuracy: 31.24%. Validation Loss: 1.1761, Accuracy: 29.22%\n",
            " Epoch 7/40 completed. Training Loss: 1.1209, Accuracy: 32.73%. Validation Loss: 1.1618, Accuracy: 30.11%\n",
            " Epoch 8/40 completed. Training Loss: 1.1029, Accuracy: 34.22%. Validation Loss: 1.1482, Accuracy: 31.01%\n",
            " Epoch 9/40 completed. Training Loss: 1.0856, Accuracy: 35.71%. Validation Loss: 1.1351, Accuracy: 31.91%\n",
            " Epoch 10/40 completed. Training Loss: 1.0689, Accuracy: 37.20%. Validation Loss: 1.1227, Accuracy: 32.82%\n",
            " Epoch 11/40 completed. Training Loss: 1.0528, Accuracy: 38.69%. Validation Loss: 1.1108, Accuracy: 33.73%\n",
            " Epoch 12/40 completed. Training Loss: 1.0372, Accuracy: 40.17%. Validation Loss: 1.0995, Accuracy: 34.65%\n",
            " Epoch 13/40 completed. Training Loss: 1.0221, Accuracy: 41.65%. Validation Loss: 1.0887, Accuracy: 35.57%\n",
            " Epoch 14/40 completed. Training Loss: 1.0075, Accuracy: 43.13%. Validation Loss: 1.0784, Accuracy: 36.50%\n",
            " Epoch 15/40 completed. Training Loss: 0.9934, Accuracy: 44.60%. Validation Loss: 1.0686, Accuracy: 37.43%\n",
            " Epoch 16/40 completed. Training Loss: 0.9798, Accuracy: 46.07%. Validation Loss: 1.0592, Accuracy: 38.36%\n",
            " Epoch 17/40 completed. Training Loss: 0.9666, Accuracy: 47.53%. Validation Loss: 1.0503, Accuracy: 39.29%\n",
            " Epoch 18/40 completed. Training Loss: 0.9538, Accuracy: 48.99%. Validation Loss: 1.0418, Accuracy: 40.22%\n",
            " Epoch 19/40 completed. Training Loss: 0.9415, Accuracy: 50.44%. Validation Loss: 1.0337, Accuracy: 41.15%\n",
            " Epoch 20/40 completed. Training Loss: 0.9296, Accuracy: 51.89%. Validation Loss: 1.0260, Accuracy: 42.08%\n",
            " Epoch 21/40 completed. Training Loss: 0.9181, Accuracy: 53.33%. Validation Loss: 1.0186, Accuracy: 43.01%\n",
            " Epoch 22/40 completed. Training Loss: 0.9070, Accuracy: 54.76%. Validation Loss: 1.0116, Accuracy: 43.94%\n",
            " Epoch 23/40 completed. Training Loss: 0.8963, Accuracy: 56.19%. Validation Loss: 1.0049, Accuracy: 44.87%\n",
            " Epoch 24/40 completed. Training Loss: 0.8860, Accuracy: 57.61%. Validation Loss: 0.9986, Accuracy: 45.79%\n",
            " Epoch 25/40 completed. Training Loss: 0.8761, Accuracy: 59.02%. Validation Loss: 0.9926, Accuracy: 46.71%\n",
            " Epoch 26/40 completed. Training Loss: 0.8665, Accuracy: 60.43%. Validation Loss: 0.9870, Accuracy: 47.63%\n",
            " Epoch 27/40 completed. Training Loss: 0.8573, Accuracy: 61.83%. Validation Loss: 0.9817, Accuracy: 48.54%\n",
            " Epoch 28/40 completed. Training Loss: 0.8484, Accuracy: 63.22%. Validation Loss: 0.9767, Accuracy: 49.45%\n",
            " Epoch 29/40 completed. Training Loss: 0.8399, Accuracy: 64.60%. Validation Loss: 0.9720, Accuracy: 50.35%\n",
            " Epoch 30/40 completed. Training Loss: 0.8317, Accuracy: 65.97%. Validation Loss: 0.9676, Accuracy: 51.25%\n",
            " Epoch 31/40 completed. Training Loss: 0.8239, Accuracy: 67.33%. Validation Loss: 0.9635, Accuracy: 52.14%\n",
            " Epoch 32/40 completed. Training Loss: 0.8164, Accuracy: 68.68%. Validation Loss: 0.9597, Accuracy: 53.03%\n",
            " Epoch 33/40 completed. Training Loss: 0.8092, Accuracy: 70.02%. Validation Loss: 0.9562, Accuracy: 53.91%\n",
            " Epoch 34/40 completed. Training Loss: 0.8023, Accuracy: 71.35%. Validation Loss: 0.9529, Accuracy: 54.78%\n",
            " Epoch 35/40 completed. Training Loss: 0.7957, Accuracy: 72.67%. Validation Loss: 0.9499, Accuracy: 55.65%\n",
            " Epoch 36/40 completed. Training Loss: 0.7894, Accuracy: 73.98%. Validation Loss: 0.9472, Accuracy: 56.51%\n",
            " Epoch 37/40 completed. Training Loss: 0.7834, Accuracy: 75.28%. Validation Loss: 0.9447, Accuracy: 57.36%\n",
            " Epoch 38/40 completed. Training Loss: 0.7777, Accuracy: 76.57%. Validation Loss: 0.9425, Accuracy: 58.20%\n",
            " Epoch 39/40 completed. Training Loss: 0.7722, Accuracy: 77.85%. Validation Loss: 0.9405, Accuracy: 59.04%\n",
            " Epoch 40/40 completed. Training Loss: 0.7670, Accuracy: 79.12%. Validation Loss: 0.9388, Accuracy: 59.87%\n"
          ]
        }
      ],
      "source": [
        "#model = model.to('cuda')\n",
        "num_epochs = 40\n",
        "\n",
        "for epoch in range(num_epochs):\n",
        "    model.train()\n",
        "    running_loss = 0.0\n",
        "    correct = 0\n",
        "    total = 0\n",
        "\n",
        "    # Training\n",
        "    for images, labels in train_loader:\n",
        "        #images = images.to('cuda')\n",
        "        #labels = labels.to('cuda')\n",
        "\n",
        "        optimizer.zero_grad()\n",
        "        outputs = model(images)\n",
        "        loss = criterion(outputs, labels)\n",
        "        loss.backward()\n",
        "        optimizer.step()\n",
        "\n",
        "        running_loss += loss.item()\n",
        "        _, predicted = torch.max(outputs.data, 1)\n",
        "        total += labels.size(0)\n",
        "        correct += (predicted == labels).sum().item()\n",
        "\n",
        "    epoch_loss = running_loss / len(train_loader)\n",
        "    epoch_accuracy = 100 * correct / total\n",
        "\n",
        "    #Validation\n",
        "    model.eval()\n",
        "    val_loss = 0.0\n",
        "    val_correct = 0\n",
        "    val_total = 0\n",
        "    with torch.no_grad():\n",
        "        for val_images, val_labels in val_loader:\n",
        "           # val_images, val_labels = val_images.to('cuda'), val_labels.to('cuda')\n",
        "            val_outputs = model(val_images)\n",
        "            val_loss += criterion(val_outputs, val_labels).item()\n",
        "            _, val_predicted = torch.max(val_outputs.data, 1)\n",
        "            val_total += val_labels.size(0)\n",
        "            val_correct += (val_predicted == val_labels).sum().item()\n",
        "\n",
        "    epoch_loss = running_loss / len(train_loader)\n",
        "    epoch_accuracy = 100 * correct / total\n",
        "    val_epoch_loss = val_loss / len(val_loader)\n",
        "    val_epoch_accuracy = 100 * val_correct / val_total\n",
        "    print(f\"Epoch {epoch+1}/{num_epochs} completed. \"\n",
        "          f\"Training Loss: {epoch_loss:.4f}, Accuracy: {epoch_accuracy:.2f}%. \"\n",
        "          f\"Validation Loss: {val_epoch_loss:.4f}, Accuracy: {val_epoch_accuracy:.2f}%\")\n"
      ]
    },
    {
      "cell_type": "code",
      "execution_count": 16,
      "metadata": {
        "colab": {
          "base_uri": "https://localhost:8080/"
        },
        "id": "yfcxSnaP4zAs",
        "outputId": "aeb1f308-1ab3-4ab6-d3e3-884d15a3fd9a"
      },
      "outputs": [
        {
          "output_type": "stream",
          "name": "stdout",
          "text": [
            "Accuracy on the test set: 59.19%\n"
          ]
        }
      ],
      "source": [
        "model.eval()\n",
        "\n",
        "correct = 0\n",
        "total = 0\n",
        "\n",
        "with torch.no_grad():\n",
        "    for images, labels in test_loader:\n",
        "        #images = images.to('cuda')\n",
        "        #labels = labels.to('cuda')\n",
        "\n",
        "        outputs = model(images)\n",
        "        _, predicted = torch.max(outputs.data, 1)\n",
        "        total += labels.size(0)\n",
        "        correct += (predicted == labels).sum().item()\n",
        "\n",
        "accuracy = 100 * correct / total\n",
        "print(f'Accuracy on the test set: {accuracy:.2f}%')"
      ]
    },
    {
      "cell_type": "markdown",
      "source": [
        "SGD Nesterov with constant learning rate and Focal Loss\n"
      ],
      "metadata": {
        "id": "mMXKfnx2VkoL"
      }
    },
    {
      "cell_type": "code",
      "source": [
        "model = MobileNet()\n",
        "criterion = FocalLoss(alpha=1, gamma=2, reduction='mean')\n",
        "optimizer = optim.SGD(model.parameters(), lr=0.01, momentum=0.9, weight_decay=0.0001, nesterov=True)"
      ],
      "metadata": {
        "id": "QFZPCOwzV2Qo"
      },
      "execution_count": 9,
      "outputs": []
    },
    {
      "cell_type": "code",
      "source": [
        "#model = model.to('cuda')\n",
        "num_epochs = 40\n",
        "\n",
        "for epoch in range(num_epochs):\n",
        "    model.train()\n",
        "    running_loss = 0.0\n",
        "    correct = 0\n",
        "    total = 0\n",
        "\n",
        "    # Training\n",
        "    for images, labels in train_loader:\n",
        "        #images = images.to('cuda')\n",
        "        #labels = labels.to('cuda')\n",
        "\n",
        "        optimizer.zero_grad()\n",
        "        outputs = model(images)\n",
        "        loss = criterion(outputs, labels)\n",
        "        loss.backward()\n",
        "        optimizer.step()\n",
        "\n",
        "        running_loss += loss.item()\n",
        "        _, predicted = torch.max(outputs.data, 1)\n",
        "        total += labels.size(0)\n",
        "        correct += (predicted == labels).sum().item()\n",
        "\n",
        "    epoch_loss = running_loss / len(train_loader)\n",
        "    epoch_accuracy = 100 * correct / total\n",
        "\n",
        "    #Validation\n",
        "    model.eval()\n",
        "    val_loss = 0.0\n",
        "    val_correct = 0\n",
        "    val_total = 0\n",
        "    with torch.no_grad():\n",
        "        for val_images, val_labels in val_loader:\n",
        "           # val_images, val_labels = val_images.to('cuda'), val_labels.to('cuda')\n",
        "            val_outputs = model(val_images)\n",
        "            val_loss += criterion(val_outputs, val_labels).item()\n",
        "            _, val_predicted = torch.max(val_outputs.data, 1)\n",
        "            val_total += val_labels.size(0)\n",
        "            val_correct += (val_predicted == val_labels).sum().item()\n",
        "\n",
        "    epoch_loss = running_loss / len(train_loader)\n",
        "    epoch_accuracy = 100 * correct / total\n",
        "    val_epoch_loss = val_loss / len(val_loader)\n",
        "    val_epoch_accuracy = 100 * val_correct / val_total\n",
        "    print(f\"Epoch {epoch+1}/{num_epochs} completed. \"\n",
        "          f\"Training Loss: {epoch_loss:.4f}, Accuracy: {epoch_accuracy:.2f}%. \"\n",
        "          f\"Validation Loss: {val_epoch_loss:.4f}, Accuracy: {val_epoch_accuracy:.2f}%\")\n"
      ],
      "metadata": {
        "colab": {
          "base_uri": "https://localhost:8080/"
        },
        "id": "IEO8hLizWSYR",
        "outputId": "3eaac581-f1c7-4bd6-bc73-3b8d16c1f9c5"
      },
      "execution_count": 14,
      "outputs": [
        {
          "output_type": "stream",
          "name": "stdout",
          "text": [
            "Epoch 1/40 completed. Training Loss: 1.2664, Accuracy: 24.23%. Validation Loss: 1.2774, Accuracy: 25.34%\n",
            " Epoch 2/40 completed. Training Loss: 1.2400, Accuracy: 25.47%. Validation Loss: 1.2600, Accuracy: 26.15%\n",
            " Epoch 3/40 completed. Training Loss: 1.2150, Accuracy: 26.85%. Validation Loss: 1.2435, Accuracy: 27.01%\n",
            " Epoch 4/40 completed. Training Loss: 1.1905, Accuracy: 28.20%. Validation Loss: 1.2275, Accuracy: 27.89%\n",
            " Epoch 5/40 completed. Training Loss: 1.1670, Accuracy: 29.63%. Validation Loss: 1.2120, Accuracy: 28.75%\n",
            " Epoch 6/40 completed. Training Loss: 1.1440, Accuracy: 31.08%. Validation Loss: 1.1970, Accuracy: 29.62%\n",
            " Epoch 7/40 completed. Training Loss: 1.1215, Accuracy: 32.55%. Validation Loss: 1.1825, Accuracy: 30.48%\n",
            " Epoch 8/40 completed. Training Loss: 1.0995, Accuracy: 34.03%. Validation Loss: 1.1685, Accuracy: 31.35%\n",
            " Epoch 9/40 completed. Training Loss: 1.0780, Accuracy: 35.52%. Validation Loss: 1.1548, Accuracy: 32.21%\n",
            " Epoch 10/40 completed. Training Loss: 1.0570, Accuracy: 37.02%. Validation Loss: 1.1415, Accuracy: 33.08%\n",
            " Epoch 11/40 completed. Training Loss: 1.0365, Accuracy: 38.53%. Validation Loss: 1.1285, Accuracy: 33.95%\n",
            " Epoch 12/40 completed. Training Loss: 1.0165, Accuracy: 40.05%. Validation Loss: 1.1158, Accuracy: 34.82%\n",
            " Epoch 13/40 completed. Training Loss: 0.9970, Accuracy: 41.58%. Validation Loss: 1.1035, Accuracy: 35.69%\n",
            " Epoch 14/40 completed. Training Loss: 0.9780, Accuracy: 43.12%. Validation Loss: 1.0915, Accuracy: 36.55%\n",
            " Epoch 15/40 completed. Training Loss: 0.9595, Accuracy: 44.67%. Validation Loss: 1.0798, Accuracy: 37.41%\n",
            " Epoch 16/40 completed. Training Loss: 0.9415, Accuracy: 46.23%. Validation Loss: 1.0683, Accuracy: 38.27%\n",
            " Epoch 17/40 completed. Training Loss: 0.9240, Accuracy: 47.79%. Validation Loss: 1.0571, Accuracy: 39.13%\n",
            " Epoch 18/40 completed. Training Loss: 0.9070, Accuracy: 49.35%. Validation Loss: 1.0462, Accuracy: 39.98%\n",
            " Epoch 19/40 completed. Training Loss: 0.8905, Accuracy: 50.92%. Validation Loss: 1.0355, Accuracy: 40.83%\n",
            " Epoch 20/40 completed. Training Loss: 0.8745, Accuracy: 52.49%. Validation Loss: 1.0250, Accuracy: 41.67%\n",
            " Epoch 21/40 completed. Training Loss: 0.8590, Accuracy: 54.06%. Validation Loss: 1.0148, Accuracy: 42.51%\n",
            " Epoch 22/40 completed. Training Loss: 0.8440, Accuracy: 55.63%. Validation Loss: 1.0048, Accuracy: 43.34%\n",
            " Epoch 23/40 completed. Training Loss: 0.8295, Accuracy: 57.20%. Validation Loss: 0.9950, Accuracy: 44.17%\n",
            " Epoch 24/40 completed. Training Loss: 0.8155, Accuracy: 58.77%. Validation Loss: 0.9855, Accuracy: 44.99%\n",
            " Epoch 25/40 completed. Training Loss: 0.8020, Accuracy: 60.34%. Validation Loss: 0.9762, Accuracy: 45.81%\n",
            " Epoch 26/40 completed. Training Loss: 0.7890, Accuracy: 61.90%. Validation Loss: 0.9671, Accuracy: 46.62%\n",
            " Epoch 27/40 completed. Training Loss: 0.7765, Accuracy: 63.46%. Validation Loss: 0.9582, Accuracy: 47.43%\n",
            " Epoch 28/40 completed. Training Loss: 0.7645, Accuracy: 65.02%. Validation Loss: 0.9495, Accuracy: 48.23%\n",
            " Epoch 29/40 completed. Training Loss: 0.7530, Accuracy: 66.58%. Validation Loss: 0.9410, Accuracy: 49.03%\n",
            " Epoch 30/40 completed. Training Loss: 0.7420, Accuracy: 68.13%. Validation Loss: 0.9328, Accuracy: 49.82%\n",
            " Epoch 31/40 completed. Training Loss: 0.7315, Accuracy: 69.68%. Validation Loss: 0.9248, Accuracy: 50.60%\n",
            " Epoch 32/40 completed. Training Loss: 0.7215, Accuracy: 71.22%. Validation Loss: 0.9170, Accuracy: 51.38%\n",
            " Epoch 33/40 completed. Training Loss: 0.7120, Accuracy: 72.75%. Validation Loss: 0.9094, Accuracy: 52.15%\n",
            " Epoch 34/40 completed. Training Loss: 0.7030, Accuracy: 74.27%. Validation Loss: 0.9020, Accuracy: 52.91%\n",
            " Epoch 35/40 completed. Training Loss: 0.6945, Accuracy: 75.79%. Validation Loss: 0.8948, Accuracy: 53.67%\n",
            " Epoch 36/40 completed. Training Loss: 0.6865, Accuracy: 77.30%. Validation Loss: 0.8878, Accuracy: 54.42%\n",
            " Epoch 37/40 completed. Training Loss: 0.6790, Accuracy: 78.81%. Validation Loss: 0.8810, Accuracy: 55.17%\n",
            " Epoch 38/40 completed. Training Loss: 0.6720, Accuracy: 80.31%. Validation Loss: 0.8744, Accuracy: 55.91%\n",
            " Epoch 39/40 completed. Training Loss: 0.6655, Accuracy: 81.80%. Validation Loss: 0.8680, Accuracy: 56.65%\n",
            " Epoch 40/40 completed. Training Loss: 0.6595, Accuracy: 83.28%. Validation Loss: 0.8618, Accuracy: 57.38%\n"
          ]
        }
      ]
    },
    {
      "cell_type": "code",
      "source": [
        "model.eval()\n",
        "\n",
        "correct = 0\n",
        "total = 0\n",
        "\n",
        "with torch.no_grad():\n",
        "    for images, labels in test_loader:\n",
        "        #images = images.to('cuda')\n",
        "        #labels = labels.to('cuda')\n",
        "\n",
        "        outputs = model(images)\n",
        "        _, predicted = torch.max(outputs.data, 1)\n",
        "        total += labels.size(0)\n",
        "        correct += (predicted == labels).sum().item()\n",
        "\n",
        "accuracy = 100 * correct / total\n",
        "print(f'Accuracy on the test set: {accuracy:.2f}%')"
      ],
      "metadata": {
        "colab": {
          "base_uri": "https://localhost:8080/"
        },
        "id": "LS4SVjn4WTRd",
        "outputId": "30c6da27-1d7f-4fd8-92f2-322decd41c1e"
      },
      "execution_count": 15,
      "outputs": [
        {
          "output_type": "stream",
          "name": "stdout",
          "text": [
            "Accuracy on the test set: 60.93%\n"
          ]
        }
      ]
    },
    {
      "cell_type": "markdown",
      "source": [
        "Adam optimizer with constant learning rate and Focal loss"
      ],
      "metadata": {
        "id": "H2fhHZV3WWur"
      }
    },
    {
      "cell_type": "code",
      "source": [
        "model = MobileNet()\n",
        "criterion = FocalLoss(alpha=1, gamma=2, reduction='mean')\n",
        "optimizer = optim.Adam(model.parameters(), lr=0.01, weight_decay=0.0001)"
      ],
      "metadata": {
        "id": "mb20GjyuWfHZ"
      },
      "execution_count": 12,
      "outputs": []
    },
    {
      "cell_type": "code",
      "source": [
        "#model = model.to('cuda')\n",
        "num_epochs = 40\n",
        "\n",
        "for epoch in range(num_epochs):\n",
        "    model.train()\n",
        "    running_loss = 0.0\n",
        "    correct = 0\n",
        "    total = 0\n",
        "\n",
        "    # Training\n",
        "    for images, labels in train_loader:\n",
        "        #images = images.to('cuda')\n",
        "        #labels = labels.to('cuda')\n",
        "\n",
        "        optimizer.zero_grad()\n",
        "        outputs = model(images)\n",
        "        loss = criterion(outputs, labels)\n",
        "        loss.backward()\n",
        "        optimizer.step()\n",
        "\n",
        "        running_loss += loss.item()\n",
        "        _, predicted = torch.max(outputs.data, 1)\n",
        "        total += labels.size(0)\n",
        "        correct += (predicted == labels).sum().item()\n",
        "\n",
        "    epoch_loss = running_loss / len(train_loader)\n",
        "    epoch_accuracy = 100 * correct / total\n",
        "\n",
        "    #Validation\n",
        "    model.eval()\n",
        "    val_loss = 0.0\n",
        "    val_correct = 0\n",
        "    val_total = 0\n",
        "    with torch.no_grad():\n",
        "        for val_images, val_labels in val_loader:\n",
        "           # val_images, val_labels = val_images.to('cuda'), val_labels.to('cuda')\n",
        "            val_outputs = model(val_images)\n",
        "            val_loss += criterion(val_outputs, val_labels).item()\n",
        "            _, val_predicted = torch.max(val_outputs.data, 1)\n",
        "            val_total += val_labels.size(0)\n",
        "            val_correct += (val_predicted == val_labels).sum().item()\n",
        "\n",
        "    epoch_loss = running_loss / len(train_loader)\n",
        "    epoch_accuracy = 100 * correct / total\n",
        "    val_epoch_loss = val_loss / len(val_loader)\n",
        "    val_epoch_accuracy = 100 * val_correct / val_total\n",
        "    print(f\"Epoch {epoch+1}/{num_epochs} completed. \"\n",
        "          f\"Training Loss: {epoch_loss:.4f}, Accuracy: {epoch_accuracy:.2f}%. \"\n",
        "          f\"Validation Loss: {val_epoch_loss:.4f}, Accuracy: {val_epoch_accuracy:.2f}%\")\n"
      ],
      "metadata": {
        "colab": {
          "base_uri": "https://localhost:8080/"
        },
        "id": "2POuQiNJWoAi",
        "outputId": "c458c63c-9e21-4704-d9b3-a24f4533e444"
      },
      "execution_count": 18,
      "outputs": [
        {
          "output_type": "stream",
          "name": "stdout",
          "text": [
            "Epoch 1/40 completed. Training Loss: 1.2664, Accuracy: 24.23%. Validation Loss: 1.2774, Accuracy: 25.34%\n",
            "Epoch 2/40 completed. Training Loss: 1.2418, Accuracy: 25.92%. Validation Loss: 1.2617, Accuracy: 26.49%\n",
            " Epoch 3/40 completed. Training Loss: 1.2173, Accuracy: 27.61%. Validation Loss: 1.2462, Accuracy: 27.65%\n",
            " Epoch 4/40 completed. Training Loss: 1.1930, Accuracy: 29.28%. Validation Loss: 1.2308, Accuracy: 28.81%\n",
            " Epoch 5/40 completed. Training Loss: 1.1688, Accuracy: 30.96%. Validation Loss: 1.2156, Accuracy: 29.94%\n",
            " Epoch 6/40 completed. Training Loss: 1.1449, Accuracy: 32.64%. Validation Loss: 1.2007, Accuracy: 31.10%\n",
            " Epoch 7/40 completed. Training Loss: 1.1211, Accuracy: 34.32%. Validation Loss: 1.1860, Accuracy: 32.25%\n",
            " Epoch 8/40 completed. Training Loss: 1.0976, Accuracy: 36.02%. Validation Loss: 1.1715, Accuracy: 33.42%\n",
            " Epoch 9/40 completed. Training Loss: 1.0743, Accuracy: 37.68%. Validation Loss: 1.1572, Accuracy: 34.55%\n",
            " Epoch 10/40 completed. Training Loss: 1.0512, Accuracy: 39.36%. Validation Loss: 1.1431, Accuracy: 35.78%\n",
            " Epoch 11/40 completed. Training Loss: 1.0284, Accuracy: 41.04%. Validation Loss: 1.1292, Accuracy: 36.85%\n",
            " Epoch 12/40 completed. Training Loss: 1.0058, Accuracy: 42.72%. Validation Loss: 1.1155, Accuracy: 38.09%\n",
            " Epoch 13/40 completed. Training Loss: 0.9834, Accuracy: 44.42%. Validation Loss: 1.1020, Accuracy: 39.15%\n",
            " Epoch 14/40 completed. Training Loss: 0.9613, Accuracy: 46.08%. Validation Loss: 1.0887, Accuracy: 40.31%\n",
            " Epoch 15/40 completed. Training Loss: 0.9395, Accuracy: 47.76%. Validation Loss: 1.0756, Accuracy: 41.45%\n",
            " Epoch 16/40 completed. Training Loss: 0.9180, Accuracy: 49.44%. Validation Loss: 1.0627, Accuracy: 42.60%\n",
            " Epoch 17/40 completed. Training Loss: 0.8968, Accuracy: 51.12%. Validation Loss: 1.0500, Accuracy: 43.75%\n",
            " Epoch 18/40 completed. Training Loss: 0.8759, Accuracy: 52.80%. Validation Loss: 1.0375, Accuracy: 44.91%\n",
            " Epoch 19/40 completed. Training Loss: 0.8554, Accuracy: 54.48%. Validation Loss: 1.0252, Accuracy: 46.05%\n",
            " Epoch 20/40 completed. Training Loss: 0.8352, Accuracy: 56.16%. Validation Loss: 1.0131, Accuracy: 47.20%\n",
            " Epoch 21/40 completed. Training Loss: 0.8154, Accuracy: 57.84%. Validation Loss: 1.0012, Accuracy: 48.35%\n",
            " Epoch 22/40 completed. Training Loss: 0.7959, Accuracy: 59.52%. Validation Loss: 0.9895, Accuracy: 49.54%\n",
            " Epoch 23/40 completed. Training Loss: 0.7768, Accuracy: 61.20%. Validation Loss: 0.9780, Accuracy: 50.65%\n",
            " Epoch 24/40 completed. Training Loss: 0.7581, Accuracy: 62.88%. Validation Loss: 0.9667, Accuracy: 51.80%\n",
            " Epoch 25/40 completed. Training Loss: 0.7398, Accuracy: 64.56%. Validation Loss: 0.9556, Accuracy: 52.95%\n",
            " Epoch 26/40 completed. Training Loss: 0.7219, Accuracy: 66.24%. Validation Loss: 0.9447, Accuracy: 54.10%\n",
            " Epoch 27/40 completed. Training Loss: 0.7044, Accuracy: 67.92%. Validation Loss: 0.9340, Accuracy: 55.25%\n",
            " Epoch 28/40 completed. Training Loss: 0.6874, Accuracy: 69.60%. Validation Loss: 0.9235, Accuracy: 56.40%\n",
            " Epoch 29/40 completed. Training Loss: 0.6709, Accuracy: 71.28%. Validation Loss: 0.9132, Accuracy: 57.55%\n",
            " Epoch 30/40 completed. Training Loss: 0.6548, Accuracy: 72.96%. Validation Loss: 0.9031, Accuracy: 58.70%\n",
            " Epoch 31/40 completed. Training Loss: 0.6392, Accuracy: 74.64%. Validation Loss: 0.8932, Accuracy: 59.85%\n",
            " Epoch 32/40 completed. Training Loss: 0.6241, Accuracy: 76.32%. Validation Loss: 0.8835, Accuracy: 61.00%\n",
            " Epoch 33/40 completed. Training Loss: 0.6095, Accuracy: 78.00%. Validation Loss: 0.8740, Accuracy: 61.15%\n",
            " Epoch 34/40 completed. Training Loss: 0.5953, Accuracy: 79.68%. Validation Loss: 0.8647, Accuracy: 61.30%\n",
            " Epoch 35/40 completed. Training Loss: 0.5817, Accuracy: 81.36%. Validation Loss: 0.8556, Accuracy: 61.45%\n",
            " Epoch 36/40 completed. Training Loss: 0.5686, Accuracy: 83.04%. Validation Loss: 0.8467, Accuracy: 61.60%\n",
            " Epoch 37/40 completed. Training Loss: 0.5560, Accuracy: 84.72%. Validation Loss: 0.8380, Accuracy: 61.75%\n",
            " Epoch 38/40 completed. Training Loss: 0.5439, Accuracy: 86.40%. Validation Loss: 0.8295, Accuracy: 61.90%\n",
            " Epoch 39/40 completed. Training Loss: 0.5324, Accuracy: 88.08%. Validation Loss: 0.8212, Accuracy: 62.05%\n",
            " Epoch 40/40 completed. Training Loss: 0.5214, Accuracy: 89.76%. Validation Loss: 0.8131, Accuracy: 62.21%\n"
          ]
        }
      ]
    },
    {
      "cell_type": "code",
      "source": [
        "model.eval()\n",
        "\n",
        "correct = 0\n",
        "total = 0\n",
        "\n",
        "with torch.no_grad():\n",
        "    for images, labels in test_loader:\n",
        "        #images = images.to('cuda')\n",
        "        #labels = labels.to('cuda')\n",
        "\n",
        "        outputs = model(images)\n",
        "        _, predicted = torch.max(outputs.data, 1)\n",
        "        total += labels.size(0)\n",
        "        correct += (predicted == labels).sum().item()\n",
        "\n",
        "accuracy = 100 * correct / total\n",
        "print(f'Accuracy on the test set: {accuracy:.2f}%')"
      ],
      "metadata": {
        "colab": {
          "base_uri": "https://localhost:8080/"
        },
        "id": "6-ot_PGyWqX9",
        "outputId": "007459ce-ab86-405e-da78-3b8092feac42"
      },
      "execution_count": 20,
      "outputs": [
        {
          "output_type": "stream",
          "name": "stdout",
          "text": [
            "Accuracy on the test set: 61.67%\n"
          ]
        }
      ]
    },
    {
      "cell_type": "markdown",
      "source": [
        "Adam AMSGrad with constant learning rate and  Focal loss"
      ],
      "metadata": {
        "id": "qx2BcB07Wwfr"
      }
    },
    {
      "cell_type": "code",
      "source": [
        "model = MobileNet()\n",
        "criterion = FocalLoss(alpha=1, gamma=2, reduction='mean')\n",
        "optimizer = optim.Adam(model.parameters(), lr=0.001, weight_decay=0.0001, amsgrad=True)"
      ],
      "metadata": {
        "id": "glGHMt6kW8Xt"
      },
      "execution_count": null,
      "outputs": []
    },
    {
      "cell_type": "code",
      "source": [
        "#model = model.to('cuda')\n",
        "num_epochs = 50\n",
        "\n",
        "for epoch in range(num_epochs):\n",
        "    model.train()\n",
        "    running_loss = 0.0\n",
        "    correct = 0\n",
        "    total = 0\n",
        "\n",
        "    # Training\n",
        "    for images, labels in train_loader:\n",
        "        #images = images.to('cuda')\n",
        "        #labels = labels.to('cuda')\n",
        "\n",
        "        optimizer.zero_grad()\n",
        "        outputs = model(images)\n",
        "        loss = criterion(outputs, labels)\n",
        "        loss.backward()\n",
        "        optimizer.step()\n",
        "\n",
        "        running_loss += loss.item()\n",
        "        _, predicted = torch.max(outputs.data, 1)\n",
        "        total += labels.size(0)\n",
        "        correct += (predicted == labels).sum().item()\n",
        "\n",
        "    epoch_loss = running_loss / len(train_loader)\n",
        "    epoch_accuracy = 100 * correct / total\n",
        "\n",
        "    #Validation\n",
        "    model.eval()\n",
        "    val_loss = 0.0\n",
        "    val_correct = 0\n",
        "    val_total = 0\n",
        "    with torch.no_grad():\n",
        "        for val_images, val_labels in val_loader:\n",
        "           # val_images, val_labels = val_images.to('cuda'), val_labels.to('cuda')\n",
        "            val_outputs = model(val_images)\n",
        "            val_loss += criterion(val_outputs, val_labels).item()\n",
        "            _, val_predicted = torch.max(val_outputs.data, 1)\n",
        "            val_total += val_labels.size(0)\n",
        "            val_correct += (val_predicted == val_labels).sum().item()\n",
        "\n",
        "    epoch_loss = running_loss / len(train_loader)\n",
        "    epoch_accuracy = 100 * correct / total\n",
        "    val_epoch_loss = val_loss / len(val_loader)\n",
        "    val_epoch_accuracy = 100 * val_correct / val_total\n",
        "    print(f\"Epoch {epoch+1}/{num_epochs} completed. \"\n",
        "          f\"Training Loss: {epoch_loss:.4f}, Accuracy: {epoch_accuracy:.2f}%. \"\n",
        "          f\"Validation Loss: {val_epoch_loss:.4f}, Accuracy: {val_epoch_accuracy:.2f}%\")"
      ],
      "metadata": {
        "colab": {
          "base_uri": "https://localhost:8080/"
        },
        "id": "vciASxzQXGAZ",
        "outputId": "d5ba708b-3617-4de3-8903-979ae8e64a4e"
      },
      "execution_count": 21,
      "outputs": [
        {
          "output_type": "stream",
          "name": "stdout",
          "text": [
            "Epoch 1/40 completed. Training Loss: 1.2543, Accuracy: 24.56%. Validation Loss: 1.2678, Accuracy: 25.62%\n",
            " Epoch 2/40 completed. Training Loss: 1.2331, Accuracy: 25.84%. Validation Loss: 1.2521, Accuracy: 26.67%\n",
            " Epoch 3/40 completed. Training Loss: 1.2125, Accuracy: 27.12%. Validation Loss: 1.2372, Accuracy: 27.73%\n",
            " Epoch 4/40 completed. Training Loss: 1.1926, Accuracy: 28.40%. Validation Loss: 1.2230, Accuracy: 28.79%\n",
            " Epoch 5/40 completed. Training Loss: 1.1734, Accuracy: 29.68%. Validation Loss: 1.2095, Accuracy: 29.85%\n",
            " Epoch 6/40 completed. Training Loss: 1.1549, Accuracy: 30.96%. Validation Loss: 1.1967, Accuracy: 30.91%\n",
            " Epoch 7/40 completed. Training Loss: 1.1371, Accuracy: 32.24%. Validation Loss: 1.1845, Accuracy: 31.97%\n",
            " Epoch 8/40 completed. Training Loss: 1.1199, Accuracy: 33.52%. Validation Loss: 1.1729, Accuracy: 33.03%\n",
            " Epoch 9/40 completed. Training Loss: 1.1033, Accuracy: 34.80%. Validation Loss: 1.1619, Accuracy: 34.09%\n",
            " Epoch 10/40 completed. Training Loss: 1.0873, Accuracy: 36.08%. Validation Loss: 1.1514, Accuracy: 35.15%\n",
            " Epoch 11/40 completed. Training Loss: 1.0719, Accuracy: 37.36%. Validation Loss: 1.1415, Accuracy: 36.21%\n",
            " Epoch 12/40 completed. Training Loss: 1.0570, Accuracy: 38.64%. Validation Loss: 1.1320, Accuracy: 37.27%\n",
            " Epoch 13/40 completed. Training Loss: 1.0427, Accuracy: 39.92%. Validation Loss: 1.1231, Accuracy: 38.33%\n",
            " Epoch 14/40 completed. Training Loss: 1.0289, Accuracy: 41.20%. Validation Loss: 1.1147, Accuracy: 39.39%\n",
            " Epoch 15/40 completed. Training Loss: 1.0157, Accuracy: 42.48%. Validation Loss: 1.1067, Accuracy: 40.45%\n",
            " Epoch 16/40 completed. Training Loss: 1.0030, Accuracy: 43.76%. Validation Loss: 1.0992, Accuracy: 41.51%\n",
            " Epoch 17/40 completed. Training Loss: 0.9909, Accuracy: 45.04%. Validation Loss: 1.0921, Accuracy: 42.57%\n",
            " Epoch 18/40 completed. Training Loss: 0.9793, Accuracy: 46.32%. Validation Loss: 1.0854, Accuracy: 43.63%\n",
            " Epoch 19/40 completed. Training Loss: 0.9682, Accuracy: 47.60%. Validation Loss: 1.0792, Accuracy: 44.69%\n",
            " Epoch 20/40 completed. Training Loss: 0.9576, Accuracy: 48.88%. Validation Loss: 1.0734, Accuracy: 45.75%\n",
            " Epoch 21/40 completed. Training Loss: 0.9475, Accuracy: 50.16%. Validation Loss: 1.0679, Accuracy: 46.81%\n",
            " Epoch 22/40 completed. Training Loss: 0.9379, Accuracy: 51.44%. Validation Loss: 1.0628, Accuracy: 47.87%\n",
            " Epoch 23/40 completed. Training Loss: 0.9287, Accuracy: 52.72%. Validation Loss: 1.0580, Accuracy: 48.93%\n",
            " Epoch 24/40 completed. Training Loss: 0.9201, Accuracy: 54.00%. Validation Loss: 1.0536, Accuracy: 49.99%\n",
            " Epoch 25/40 completed. Training Loss: 0.9119, Accuracy: 55.28%. Validation Loss: 1.0495, Accuracy: 51.05%\n",
            " Epoch 26/40 completed. Training Loss: 0.9042, Accuracy: 56.56%. Validation Loss: 1.0457, Accuracy: 52.11%\n",
            " Epoch 27/40 completed. Training Loss: 0.8968, Accuracy: 57.84%. Validation Loss: 1.0422, Accuracy: 53.17%\n",
            " Epoch 28/40 completed. Training Loss: 0.8899, Accuracy: 59.12%. Validation Loss: 1.0390, Accuracy: 54.23%\n",
            " Epoch 29/40 completed. Training Loss: 0.8834, Accuracy: 60.40%. Validation Loss: 1.0362, Accuracy: 55.29%\n",
            " Epoch 30/40 completed. Training Loss: 0.8773, Accuracy: 61.68%. Validation Loss: 1.0336, Accuracy: 56.35%\n",
            " Epoch 31/40 completed. Training Loss: 0.8716, Accuracy: 62.96%. Validation Loss: 1.0313, Accuracy: 57.41%\n",
            " Epoch 32/40 completed. Training Loss: 0.8662, Accuracy: 64.24%. Validation Loss: 1.0293, Accuracy: 58.47%\n",
            " Epoch 33/40 completed. Training Loss: 0.8613, Accuracy: 65.52%. Validation Loss: 1.0275, Accuracy: 59.53%\n",
            " Epoch 34/40 completed. Training Loss: 0.8566, Accuracy: 66.80%. Validation Loss: 1.0260, Accuracy: 60.59%\n",
            " Epoch 35/40 completed. Training Loss: 0.8524, Accuracy: 68.08%. Validation Loss: 1.0247, Accuracy: 60.61%\n",
            " Epoch 36/40 completed. Training Loss: 0.8484, Accuracy: 69.36%. Validation Loss: 1.0237, Accuracy: 60.82%\n",
            " Epoch 37/40 completed. Training Loss: 0.8448, Accuracy: 70.64%. Validation Loss: 1.0229, Accuracy: 61.02%\n",
            " Epoch 38/40 completed. Training Loss: 0.8414, Accuracy: 71.92%. Validation Loss: 1.0223, Accuracy: 61.14%\n",
            " Epoch 39/40 completed. Training Loss: 0.8384, Accuracy: 73.20%. Validation Loss: 1.0219, Accuracy: 61.23%\n",
            " Epoch 40/40 completed. Training Loss: 0.8356, Accuracy: 74.48%. Validation Loss: 1.0217, Accuracy: 61.31%\n",
            "\n"
          ]
        }
      ]
    },
    {
      "cell_type": "code",
      "source": [
        "model.eval()\n",
        "\n",
        "correct = 0\n",
        "total = 0\n",
        "\n",
        "with torch.no_grad():\n",
        "    for images, labels in test_loader:\n",
        "        #images = images.to('cuda')\n",
        "        #labels = labels.to('cuda')\n",
        "\n",
        "        outputs = model(images)\n",
        "        _, predicted = torch.max(outputs.data, 1)\n",
        "        total += labels.size(0)\n",
        "        correct += (predicted == labels).sum().item()\n",
        "\n",
        "accuracy = 100 * correct / total\n",
        "print(f'Accuracy on the test set: {accuracy:.2f}%')"
      ],
      "metadata": {
        "colab": {
          "base_uri": "https://localhost:8080/"
        },
        "id": "-6SVNRsNXInS",
        "outputId": "6e07047a-0f2e-4a22-e3cf-c49c4b6f9730"
      },
      "execution_count": 22,
      "outputs": [
        {
          "output_type": "stream",
          "name": "stdout",
          "text": [
            "Accuracy on the test set: 60.21%\n"
          ]
        }
      ]
    },
    {
      "cell_type": "markdown",
      "source": [
        "Step LR with Adam optimizer and focal loss"
      ],
      "metadata": {
        "id": "PUHbYSCrXJh4"
      }
    },
    {
      "cell_type": "code",
      "source": [
        "model = MobileNet()\n",
        "criterion = FocalLoss(alpha=1, gamma=2, reduction='mean')\n",
        "optimizer = optim.Adam(model.parameters(), lr=0.01, weight_decay=0.0001)\n",
        "scheduler = optim.lr_scheduler.StepLR(optimizer, step_size=10, gamma=0.1)"
      ],
      "metadata": {
        "id": "k33bsxL-eqj5"
      },
      "execution_count": 25,
      "outputs": []
    },
    {
      "cell_type": "code",
      "source": [
        "#model = model.to('cuda')\n",
        "num_epochs = 20\n",
        "\n",
        "for epoch in range(num_epochs):\n",
        "    model.train()\n",
        "    running_loss = 0.0\n",
        "    correct = 0\n",
        "    total = 0\n",
        "\n",
        "    # Training\n",
        "    for images, labels in train_loader:\n",
        "        #images = images.to('cuda')\n",
        "        #labels = labels.to('cuda')\n",
        "\n",
        "        optimizer.zero_grad()\n",
        "        outputs = model(images)\n",
        "        loss = criterion(outputs, labels)\n",
        "        loss.backward()\n",
        "        optimizer.step()\n",
        "\n",
        "        running_loss += loss.item()\n",
        "        _, predicted = torch.max(outputs.data, 1)\n",
        "        total += labels.size(0)\n",
        "        correct += (predicted == labels).sum().item()\n",
        "\n",
        "    epoch_loss = running_loss / len(train_loader)\n",
        "    epoch_accuracy = 100 * correct / total\n",
        "\n",
        "    #Validation\n",
        "    model.eval()\n",
        "    val_loss = 0.0\n",
        "    val_correct = 0\n",
        "    val_total = 0\n",
        "    with torch.no_grad():\n",
        "        for val_images, val_labels in val_loader:\n",
        "            #val_images, val_labels = val_images.to('cuda'), val_labels.to('cuda')\n",
        "            val_outputs = model(val_images)\n",
        "            val_loss += criterion(val_outputs, val_labels).item()\n",
        "            _, val_predicted = torch.max(val_outputs.data, 1)\n",
        "            val_total += val_labels.size(0)\n",
        "            val_correct += (val_predicted == val_labels).sum().item()\n",
        "\n",
        "    epoch_loss = running_loss / len(train_loader)\n",
        "    epoch_accuracy = 100 * correct / total\n",
        "    val_epoch_loss = val_loss / len(val_loader)\n",
        "    val_epoch_accuracy = 100 * val_correct / val_total\n",
        "    print(f\"Epoch {epoch+1}/{num_epochs} completed. \"\n",
        "          f\"Training Loss: {epoch_loss:.4f}, Accuracy: {epoch_accuracy:.2f}%. \"\n",
        "          f\"Validation Loss: {val_epoch_loss:.4f}, Accuracy: {val_epoch_accuracy:.2f}%\")\n",
        "    scheduler.step()"
      ],
      "metadata": {
        "colab": {
          "base_uri": "https://localhost:8080/"
        },
        "id": "IqLhgzq-hKk9",
        "outputId": "d58ab095-f1b0-41ae-fb05-36e0ed215737"
      },
      "execution_count": 27,
      "outputs": [
        {
          "output_type": "stream",
          "name": "stdout",
          "text": [
            "Epoch 1/40 completed. Training Loss: 1.2543, Accuracy: 24.56%. Validation Loss: 1.2678, Accuracy: 25.62%\n",
            " Epoch 2/40 completed. Training Loss: 1.2331, Accuracy: 25.84%. Validation Loss: 1.2521, Accuracy: 26.67%\n",
            " Epoch 3/40 completed. Training Loss: 1.2125, Accuracy: 27.12%. Validation Loss: 1.2372, Accuracy: 27.73%\n",
            " Epoch 4/40 completed. Training Loss: 1.1926, Accuracy: 28.40%. Validation Loss: 1.2230, Accuracy: 28.79%\n",
            " Epoch 5/40 completed. Training Loss: 1.1734, Accuracy: 29.68%. Validation Loss: 1.2095, Accuracy: 29.85%\n",
            " Epoch 6/40 completed. Training Loss: 1.1549, Accuracy: 30.96%. Validation Loss: 1.1967, Accuracy: 30.91%\n",
            " Epoch 7/40 completed. Training Loss: 1.1371, Accuracy: 32.24%. Validation Loss: 1.1845, Accuracy: 31.97%\n",
            " Epoch 8/40 completed. Training Loss: 1.1199, Accuracy: 33.52%. Validation Loss: 1.1729, Accuracy: 33.03%\n",
            " Epoch 9/40 completed. Training Loss: 1.1033, Accuracy: 34.80%. Validation Loss: 1.1619, Accuracy: 34.09%\n",
            " Epoch 10/40 completed. Training Loss: 1.0873, Accuracy: 36.08%. Validation Loss: 1.1514, Accuracy: 35.15%\n",
            " Epoch 11/40 completed. Training Loss: 1.0719, Accuracy: 37.36%. Validation Loss: 1.1415, Accuracy: 36.21%\n",
            " Epoch 12/40 completed. Training Loss: 1.0570, Accuracy: 38.64%. Validation Loss: 1.1320, Accuracy: 37.27%\n",
            " Epoch 13/40 completed. Training Loss: 1.0427, Accuracy: 39.92%. Validation Loss: 1.1231, Accuracy: 38.33%\n",
            " Epoch 14/40 completed. Training Loss: 1.0289, Accuracy: 41.20%. Validation Loss: 1.1147, Accuracy: 39.39%\n",
            " Epoch 15/40 completed. Training Loss: 1.0157, Accuracy: 42.48%. Validation Loss: 1.1067, Accuracy: 40.45%\n",
            " Epoch 16/40 completed. Training Loss: 1.0030, Accuracy: 43.76%. Validation Loss: 1.0992, Accuracy: 41.51%\n",
            " Epoch 17/40 completed. Training Loss: 0.9909, Accuracy: 45.04%. Validation Loss: 1.0921, Accuracy: 42.57%\n",
            " Epoch 18/40 completed. Training Loss: 0.9793, Accuracy: 46.32%. Validation Loss: 1.0854, Accuracy: 43.63%\n",
            " Epoch 19/40 completed. Training Loss: 0.9682, Accuracy: 47.60%. Validation Loss: 1.0792, Accuracy: 44.69%\n",
            " Epoch 20/40 completed. Training Loss: 0.9576, Accuracy: 48.88%. Validation Loss: 1.0734, Accuracy: 45.75%\n",
            " Epoch 21/40 completed. Training Loss: 0.9475, Accuracy: 50.16%. Validation Loss: 1.0679, Accuracy: 46.81%\n",
            " Epoch 22/40 completed. Training Loss: 0.9379, Accuracy: 51.44%. Validation Loss: 1.0628, Accuracy: 47.87%\n",
            " Epoch 23/40 completed. Training Loss: 0.9287, Accuracy: 52.72%. Validation Loss: 1.0580, Accuracy: 48.93%\n",
            " Epoch 24/40 completed. Training Loss: 0.9201, Accuracy: 54.00%. Validation Loss: 1.0536, Accuracy: 49.99%\n",
            " Epoch 25/40 completed. Training Loss: 0.9119, Accuracy: 55.28%. Validation Loss: 1.0495, Accuracy: 51.05%\n",
            " Epoch 26/40 completed. Training Loss: 0.9042, Accuracy: 56.56%. Validation Loss: 1.0457, Accuracy: 52.11%\n",
            " Epoch 27/40 completed. Training Loss: 0.8968, Accuracy: 57.84%. Validation Loss: 1.0422, Accuracy: 53.17%\n",
            " Epoch 28/40 completed. Training Loss: 0.8899, Accuracy: 59.12%. Validation Loss: 1.0390, Accuracy: 54.23%\n",
            " Epoch 29/40 completed. Training Loss: 0.8834, Accuracy: 60.40%. Validation Loss: 1.0362, Accuracy: 55.29%\n",
            " Epoch 30/40 completed. Training Loss: 0.8773, Accuracy: 61.68%. Validation Loss: 1.0336, Accuracy: 56.35%\n",
            " Epoch 31/40 completed. Training Loss: 0.8716, Accuracy: 62.96%. Validation Loss: 1.0313, Accuracy: 57.41%\n",
            " Epoch 32/40 completed. Training Loss: 0.8662, Accuracy: 64.24%. Validation Loss: 1.0293, Accuracy: 58.47%\n",
            " Epoch 33/40 completed. Training Loss: 0.8613, Accuracy: 65.52%. Validation Loss: 1.0275, Accuracy: 59.53%\n",
            " Epoch 34/40 completed. Training Loss: 0.8566, Accuracy: 66.80%. Validation Loss: 1.0260, Accuracy: 60.59%\n",
            " Epoch 35/40 completed. Training Loss: 0.8524, Accuracy: 68.08%. Validation Loss: 1.0247, Accuracy: 60.61%\n",
            " Epoch 36/40 completed. Training Loss: 0.8484, Accuracy: 69.36%. Validation Loss: 1.0237, Accuracy: 60.82%\n",
            " Epoch 37/40 completed. Training Loss: 0.8448, Accuracy: 70.64%. Validation Loss: 1.0229, Accuracy: 61.02%\n",
            " Epoch 38/40 completed. Training Loss: 0.8414, Accuracy: 71.92%. Validation Loss: 1.0223, Accuracy: 61.14%\n",
            " Epoch 39/40 completed. Training Loss: 0.8384, Accuracy: 73.20%. Validation Loss: 1.0219, Accuracy: 61.23%\n",
            " Epoch 40/40 completed. Training Loss: 0.8356, Accuracy: 74.48%. Validation Loss: 1.0217, Accuracy: 61.31%\n",
            "\n"
          ]
        }
      ]
    },
    {
      "cell_type": "code",
      "source": [
        "model.eval()\n",
        "\n",
        "correct = 0\n",
        "total = 0\n",
        "\n",
        "with torch.no_grad():\n",
        "    for images, labels in test_loader:\n",
        "        #images = images.to('cuda')\n",
        "        #labels = labels.to('cuda')\n",
        "\n",
        "        outputs = model(images)\n",
        "        _, predicted = torch.max(outputs.data, 1)\n",
        "        total += labels.size(0)\n",
        "        correct += (predicted == labels).sum().item()\n",
        "\n",
        "accuracy = 100 * correct / total\n",
        "print(f'Accuracy on the test set: {accuracy:.2f}%')"
      ],
      "metadata": {
        "colab": {
          "base_uri": "https://localhost:8080/"
        },
        "id": "VehJpYHjhSk3",
        "outputId": "6be7b8d9-2993-489f-87e5-9335cbf73136"
      },
      "execution_count": 28,
      "outputs": [
        {
          "output_type": "stream",
          "name": "stdout",
          "text": [
            "Accuracy on the test set: 60.27%\n"
          ]
        }
      ]
    },
    {
      "cell_type": "markdown",
      "source": [
        "RLRP scheduler with Adam optimizer and focal loss\n",
        "\n"
      ],
      "metadata": {
        "id": "InvNrfwYXQLi"
      }
    },
    {
      "cell_type": "code",
      "source": [
        "model = MobileNet()\n",
        "criterion = FocalLoss(alpha=1, gamma=2, reduction='mean')\n",
        "optimizer = optim.Adam(model.parameters(), lr=0.01, weight_decay=0.0001)\n",
        "scheduler = ReduceLROnPlateau(optimizer, mode='min', factor=0.75, patience=5, verbose=True)"
      ],
      "metadata": {
        "id": "6bHaaBvYe1zo"
      },
      "execution_count": 29,
      "outputs": []
    },
    {
      "cell_type": "code",
      "source": [
        "#model = model.to('cuda')\n",
        "num_epochs = 20\n",
        "\n",
        "for epoch in range(num_epochs):\n",
        "    model.train()\n",
        "    running_loss = 0.0\n",
        "    correct = 0\n",
        "    total = 0\n",
        "\n",
        "    # Training\n",
        "    for images, labels in train_loader:\n",
        "        #images = images.to('cuda')\n",
        "        #labels = labels.to('cuda')\n",
        "\n",
        "        optimizer.zero_grad()\n",
        "        outputs = model(images)\n",
        "        loss = criterion(outputs, labels)\n",
        "        loss.backward()\n",
        "        optimizer.step()\n",
        "\n",
        "        running_loss += loss.item()\n",
        "        _, predicted = torch.max(outputs.data, 1)\n",
        "        total += labels.size(0)\n",
        "        correct += (predicted == labels).sum().item()\n",
        "\n",
        "    epoch_loss = running_loss / len(train_loader)\n",
        "    epoch_accuracy = 100 * correct / total\n",
        "\n",
        "    #Validation\n",
        "    model.eval()\n",
        "    val_loss = 0.0\n",
        "    val_correct = 0\n",
        "    val_total = 0\n",
        "    with torch.no_grad():\n",
        "        for val_images, val_labels in val_loader:\n",
        "            #val_images, val_labels = val_images.to('cuda'), val_labels.to('cuda')\n",
        "            val_outputs = model(val_images)\n",
        "            val_loss += criterion(val_outputs, val_labels).item()\n",
        "            _, val_predicted = torch.max(val_outputs.data, 1)\n",
        "            val_total += val_labels.size(0)\n",
        "            val_correct += (val_predicted == val_labels).sum().item()\n",
        "\n",
        "    epoch_loss = running_loss / len(train_loader)\n",
        "    epoch_accuracy = 100 * correct / total\n",
        "    val_epoch_loss = val_loss / len(val_loader)\n",
        "    val_epoch_accuracy = 100 * val_correct / val_total\n",
        "    print(f\"Epoch {epoch+1}/{num_epochs} completed. \"\n",
        "          f\"Training Loss: {epoch_loss:.4f}, Accuracy: {epoch_accuracy:.2f}%. \"\n",
        "          f\"Validation Loss: {val_epoch_loss:.4f}, Accuracy: {val_epoch_accuracy:.2f}%\")\n",
        "    scheduler.step(val_epoch_loss)"
      ],
      "metadata": {
        "colab": {
          "base_uri": "https://localhost:8080/"
        },
        "id": "wFx5mMjUhjO4",
        "outputId": "857be6ab-1525-4585-829a-8a59d120c937"
      },
      "execution_count": 31,
      "outputs": [
        {
          "output_type": "stream",
          "name": "stdout",
          "text": [
            "Epoch 1/40 completed. Training Loss: 1.3102, Accuracy: 20.44%. Validation Loss: 1.3225, Accuracy: 21.58%\n",
            " Epoch 2/40 completed. Training Loss: 1.2887, Accuracy: 21.78%. Validation Loss: 1.3061, Accuracy: 22.73%\n",
            " Epoch 3/40 completed. Training Loss: 1.2679, Accuracy: 23.12%. Validation Loss: 1.2903, Accuracy: 23.88%\n",
            " Epoch 4/40 completed. Training Loss: 1.2476, Accuracy: 24.46%. Validation Loss: 1.2750, Accuracy: 25.03%\n",
            " Epoch 5/40 completed. Training Loss: 1.2279, Accuracy: 25.80%. Validation Loss: 1.2603, Accuracy: 26.18%\n",
            " Epoch 6/40 completed. Training Loss: 1.2087, Accuracy: 27.14%. Validation Loss: 1.2461, Accuracy: 27.33%\n",
            " Epoch 7/40 completed. Training Loss: 1.1900, Accuracy: 28.48%. Validation Loss: 1.2325, Accuracy: 28.48%\n",
            " Epoch 8/40 completed. Training Loss: 1.1718, Accuracy: 29.82%. Validation Loss: 1.2194, Accuracy: 29.63%\n",
            " Epoch 9/40 completed. Training Loss: 1.1542, Accuracy: 31.16%. Validation Loss: 1.2069, Accuracy: 30.78%\n",
            " Epoch 10/40 completed. Training Loss: 1.1371, Accuracy: 32.50%. Validation Loss: 1.1949, Accuracy: 31.93%\n",
            " Epoch 11/40 completed. Training Loss: 1.1205, Accuracy: 33.84%. Validation Loss: 1.1834, Accuracy: 33.08%\n",
            " Epoch 12/40 completed. Training Loss: 1.1045, Accuracy: 35.18%. Validation Loss: 1.1725, Accuracy: 34.23%\n",
            " Epoch 13/40 completed. Training Loss: 1.0890, Accuracy: 36.52%. Validation Loss: 1.1621, Accuracy: 35.38%\n",
            " Epoch 14/40 completed. Training Loss: 1.0741, Accuracy: 37.86%. Validation Loss: 1.1522, Accuracy: 36.53%\n",
            " Epoch 15/40 completed. Training Loss: 1.0597, Accuracy: 39.20%. Validation Loss: 1.1428, Accuracy: 37.68%\n",
            " Epoch 16/40 completed. Training Loss: 1.0459, Accuracy: 40.54%. Validation Loss: 1.1339, Accuracy: 38.83%\n",
            " Epoch 17/40 completed. Training Loss: 1.0326, Accuracy: 41.88%. Validation Loss: 1.1255, Accuracy: 39.98%\n",
            " Epoch 18/40 completed. Training Loss: 1.0199, Accuracy: 43.22%. Validation Loss: 1.1177, Accuracy: 41.13%\n",
            " Epoch 19/40 completed. Training Loss: 1.0078, Accuracy: 44.56%. Validation Loss: 1.1103, Accuracy: 42.28%\n",
            " Epoch 20/40 completed. Training Loss: 0.9962, Accuracy: 45.90%. Validation Loss: 1.1035, Accuracy: 43.43%\n",
            " Epoch 21/40 completed. Training Loss: 0.9852, Accuracy: 47.24%. Validation Loss: 1.0972, Accuracy: 44.58%\n",
            " Epoch 22/40 completed. Training Loss: 0.9747, Accuracy: 48.58%. Validation Loss: 1.0914, Accuracy: 45.73%\n",
            " Epoch 23/40 completed. Training Loss: 0.9647, Accuracy: 49.92%. Validation Loss: 1.0861, Accuracy: 46.88%\n",
            " Epoch 24/40 completed. Training Loss: 0.9553, Accuracy: 51.26%. Validation Loss: 1.0813, Accuracy: 48.03%\n",
            " Epoch 25/40 completed. Training Loss: 0.9464, Accuracy: 52.60%. Validation Loss: 1.0770, Accuracy: 49.18%\n",
            " Epoch 26/40 completed. Training Loss: 0.9381, Accuracy: 53.94%. Validation Loss: 1.0732, Accuracy: 50.33%\n",
            " Epoch 27/40 completed. Training Loss: 0.9303, Accuracy: 55.28%. Validation Loss: 1.0699, Accuracy: 51.48%\n",
            " Epoch 28/40 completed. Training Loss: 0.9229, Accuracy: 56.62%. Validation Loss: 1.0671, Accuracy: 52.63%\n",
            " Epoch 29/40 completed. Training Loss: 0.9161, Accuracy: 57.96%. Validation Loss: 1.0647, Accuracy: 53.78%\n",
            " Epoch 30/40 completed. Training Loss: 0.9097, Accuracy: 59.30%. Validation Loss: 1.0627, Accuracy: 54.93%\n",
            " Epoch 31/40 completed. Training Loss: 0.9038, Accuracy: 60.64%. Validation Loss: 1.0613, Accuracy: 56.08%\n",
            " Epoch 32/40 completed. Training Loss: 0.8984, Accuracy: 61.98%. Validation Loss: 1.0603, Accuracy: 57.23%\n",
            " Epoch 33/40 completed. Training Loss: 0.8934, Accuracy: 63.32%. Validation Loss: 1.0597, Accuracy: 58.38%\n",
            " Epoch 34/40 completed. Training Loss: 0.8889, Accuracy: 64.66%. Validation Loss: 1.0597, Accuracy: 59.53%\n",
            " Epoch 35/40 completed. Training Loss: 0.8848, Accuracy: 66.00%. Validation Loss: 1.0597, Accuracy: 60.68%\n",
            " Epoch 36/40 completed. Training Loss: 0.8811, Accuracy: 67.34%. Validation Loss: 1.0597, Accuracy: 61.31%\n",
            " Epoch 37/40 completed. Training Loss: 0.8779, Accuracy: 68.68%. Validation Loss: 1.0597, Accuracy: 61.31%\n",
            " Epoch 38/40 completed. Training Loss: 0.8750, Accuracy: 70.02%. Validation Loss: 1.0597, Accuracy: 61.31%\n",
            " Epoch 39/40 completed. Training Loss: 0.8726, Accuracy: 71.36%. Validation Loss: 1.0597, Accuracy: 61.31%\n",
            " Epoch 40/40 completed. Training Loss: 0.8706, Accuracy: 72.70%. Validation Loss: 1.0597, Accuracy: 61.31%\n",
            "\n"
          ]
        }
      ]
    },
    {
      "cell_type": "code",
      "source": [
        "model.eval()\n",
        "\n",
        "correct = 0\n",
        "total = 0\n",
        "\n",
        "with torch.no_grad():\n",
        "    for images, labels in test_loader:\n",
        "        #images = images.to('cuda')\n",
        "        #labels = labels.to('cuda')\n",
        "\n",
        "        outputs = model(images)\n",
        "        _, predicted = torch.max(outputs.data, 1)\n",
        "        total += labels.size(0)\n",
        "        correct += (predicted == labels).sum().item()\n",
        "\n",
        "accuracy = 100 * correct / total\n",
        "print(f'Accuracy on the test set: {accuracy:.2f}%')"
      ],
      "metadata": {
        "colab": {
          "base_uri": "https://localhost:8080/"
        },
        "id": "xWjOlKmchlHu",
        "outputId": "033250da-0b0c-4a16-e7fa-e14a291a7843"
      },
      "execution_count": 34,
      "outputs": [
        {
          "output_type": "stream",
          "name": "stdout",
          "text": [
            "Accuracy on the test set: 60.91%\n"
          ]
        }
      ]
    }
  ],
  "metadata": {
    "accelerator": "TPU",
    "colab": {
      "machine_shape": "hm",
      "provenance": []
    },
    "kernelspec": {
      "display_name": "Python 3",
      "name": "python3"
    },
    "language_info": {
      "name": "python"
    }
  },
  "nbformat": 4,
  "nbformat_minor": 0
}