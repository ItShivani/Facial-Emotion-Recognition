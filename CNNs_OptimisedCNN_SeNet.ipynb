{
  "cells": [
    {
      "cell_type": "code",
      "source": [
        "from google.colab import drive\n",
        "drive.mount('/content/drive')"
      ],
      "metadata": {
        "id": "MA_pdgEXZrIn",
        "colab": {
          "base_uri": "https://localhost:8080/"
        },
        "outputId": "362cd90a-938a-4a0b-c9a4-c881554832d2"
      },
      "id": "MA_pdgEXZrIn",
      "execution_count": 1,
      "outputs": [
        {
          "output_type": "stream",
          "name": "stdout",
          "text": [
            "Mounted at /content/drive\n"
          ]
        }
      ]
    },
    {
      "cell_type": "code",
      "source": [
        "import os\n",
        "os.chdir('/content/drive/MyDrive/Colab Notebooks')"
      ],
      "metadata": {
        "id": "P-xVYSi5Zudx"
      },
      "id": "P-xVYSi5Zudx",
      "execution_count": 2,
      "outputs": []
    },
    {
      "cell_type": "code",
      "source": [
        "pip install --upgrade keras\n"
      ],
      "metadata": {
        "colab": {
          "base_uri": "https://localhost:8080/"
        },
        "id": "yWb5glR-aIv0",
        "outputId": "397e74c4-9940-4126-953f-d0236ac61135"
      },
      "id": "yWb5glR-aIv0",
      "execution_count": null,
      "outputs": [
        {
          "output_type": "stream",
          "name": "stdout",
          "text": [
            "Requirement already satisfied: keras in /usr/local/lib/python3.10/dist-packages (3.0.0)\n",
            "Requirement already satisfied: absl-py in /usr/local/lib/python3.10/dist-packages (from keras) (1.4.0)\n",
            "Requirement already satisfied: numpy in /usr/local/lib/python3.10/dist-packages (from keras) (1.23.5)\n",
            "Requirement already satisfied: rich in /usr/local/lib/python3.10/dist-packages (from keras) (13.7.0)\n",
            "Requirement already satisfied: namex in /usr/local/lib/python3.10/dist-packages (from keras) (0.0.7)\n",
            "Requirement already satisfied: h5py in /usr/local/lib/python3.10/dist-packages (from keras) (3.9.0)\n",
            "Requirement already satisfied: dm-tree in /usr/local/lib/python3.10/dist-packages (from keras) (0.1.8)\n",
            "Requirement already satisfied: markdown-it-py>=2.2.0 in /usr/local/lib/python3.10/dist-packages (from rich->keras) (3.0.0)\n",
            "Requirement already satisfied: pygments<3.0.0,>=2.13.0 in /usr/local/lib/python3.10/dist-packages (from rich->keras) (2.16.1)\n",
            "Requirement already satisfied: mdurl~=0.1 in /usr/local/lib/python3.10/dist-packages (from markdown-it-py>=2.2.0->rich->keras) (0.1.2)\n"
          ]
        }
      ]
    },
    {
      "cell_type": "code",
      "execution_count": 3,
      "id": "19ce7749",
      "metadata": {
        "id": "19ce7749"
      },
      "outputs": [],
      "source": [
        "from keras.utils import to_categorical\n",
        "from keras.preprocessing.image import load_img\n",
        "from keras.models import Sequential\n",
        "from keras.layers import Dense, Conv2D, Dropout, Flatten, MaxPooling2D\n",
        "import os\n",
        "import pandas as pd\n",
        "import numpy as np\n",
        "from tqdm.notebook import tqdm\n",
        "from sklearn.preprocessing import LabelEncoder\n",
        "from keras.preprocessing.image import load_img"
      ]
    },
    {
      "cell_type": "code",
      "source": [
        "os.getcwd()"
      ],
      "metadata": {
        "colab": {
          "base_uri": "https://localhost:8080/",
          "height": 35
        },
        "id": "LJKI5epNa5GC",
        "outputId": "3af3d59a-7a89-4ea6-bfd7-5c438892778f"
      },
      "id": "LJKI5epNa5GC",
      "execution_count": 4,
      "outputs": [
        {
          "output_type": "execute_result",
          "data": {
            "text/plain": [
              "'/content/drive/MyDrive/Colab Notebooks'"
            ],
            "application/vnd.google.colaboratory.intrinsic+json": {
              "type": "string"
            }
          },
          "metadata": {},
          "execution_count": 4
        }
      ]
    },
    {
      "cell_type": "code",
      "source": [
        "# !unzip /content/drive/MyDrive/DLP.zip"
      ],
      "metadata": {
        "id": "mgJk9z2AHqLA"
      },
      "id": "mgJk9z2AHqLA",
      "execution_count": 5,
      "outputs": []
    },
    {
      "cell_type": "code",
      "execution_count": 6,
      "id": "02e9c221",
      "metadata": {
        "id": "02e9c221"
      },
      "outputs": [],
      "source": [
        "TRAIN_DIR = '/content/drive/MyDrive/Colab Notebooks/train'\n",
        "TEST_DIR = '/content/drive/MyDrive/Colab Notebooks/test'"
      ]
    },
    {
      "cell_type": "code",
      "execution_count": 7,
      "id": "ede9c1f1",
      "metadata": {
        "id": "ede9c1f1"
      },
      "outputs": [],
      "source": [
        "def createdataframe(dir):\n",
        "    image_paths = []\n",
        "    labels = []\n",
        "    for label in os.listdir(dir):\n",
        "        for imagename in os.listdir(os.path.join(dir,label)):\n",
        "            image_paths.append(os.path.join(dir,label,imagename))\n",
        "            labels.append(label)\n",
        "        print(label, \"completed\")\n",
        "    return image_paths,labels\n"
      ]
    },
    {
      "cell_type": "code",
      "execution_count": 8,
      "id": "a3a8f1a9",
      "metadata": {
        "colab": {
          "base_uri": "https://localhost:8080/"
        },
        "id": "a3a8f1a9",
        "outputId": "fe9b6d8b-c935-41fe-a85b-f3e0ba15df06"
      },
      "outputs": [
        {
          "output_type": "stream",
          "name": "stdout",
          "text": [
            "angry completed\n",
            "disgust completed\n",
            "fear completed\n",
            "happy completed\n",
            "neutral completed\n",
            "sad completed\n",
            "surprise completed\n"
          ]
        }
      ],
      "source": [
        "train = pd.DataFrame()\n",
        "train['image'], train['label'] = createdataframe(TRAIN_DIR)"
      ]
    },
    {
      "cell_type": "code",
      "execution_count": null,
      "id": "c8a0cd29",
      "metadata": {
        "id": "c8a0cd29"
      },
      "outputs": [],
      "source": [
        "print(train)"
      ]
    },
    {
      "cell_type": "code",
      "execution_count": 10,
      "id": "7f9688fc",
      "metadata": {
        "colab": {
          "base_uri": "https://localhost:8080/"
        },
        "id": "7f9688fc",
        "outputId": "b482076f-c87b-44b4-8550-4a87e074d948"
      },
      "outputs": [
        {
          "output_type": "stream",
          "name": "stdout",
          "text": [
            "angry completed\n",
            "disgust completed\n",
            "fear completed\n",
            "happy completed\n",
            "neutral completed\n",
            "sad completed\n",
            "surprise completed\n"
          ]
        }
      ],
      "source": [
        "test = pd.DataFrame()\n",
        "test['image'], test['label'] = createdataframe(TEST_DIR)"
      ]
    },
    {
      "cell_type": "code",
      "execution_count": null,
      "id": "7f504f5d",
      "metadata": {
        "id": "7f504f5d"
      },
      "outputs": [],
      "source": [
        "print(test)\n",
        "print(test['image'])"
      ]
    },
    {
      "cell_type": "code",
      "execution_count": null,
      "id": "f52ccbbe",
      "metadata": {
        "id": "f52ccbbe"
      },
      "outputs": [],
      "source": [
        "def extract_features(images):\n",
        "    features = []\n",
        "    for image in tqdm(images):\n",
        "        img = load_img(image, color_mode='grayscale')\n",
        "        img = np.array(img)\n",
        "        features.append(img)\n",
        "    return features"
      ]
    },
    {
      "cell_type": "code",
      "execution_count": null,
      "id": "942a9d40",
      "metadata": {
        "id": "942a9d40",
        "colab": {
          "base_uri": "https://localhost:8080/",
          "height": 49,
          "referenced_widgets": [
            "64e83aa04bbe46a3be2854291d29fca4",
            "55d4a7cb614a4a2cbe9c4e8a30417711",
            "751017b1322946d2aef4ed4968eaa2e8",
            "5f0e0b8d2e58436ebb7c7e306613e415",
            "cc70a66bb84a4ca099436e977f75ffed",
            "01e8056a530e411ea2bf88e77166fe6d",
            "831d177ac5824bbda47b56c2d34a6d14",
            "5127ccbc13154b03ac529c0d85e59641",
            "47a37198e6fc4e4f8ecac6fa826e3d2a",
            "b0ce69a86be84b9b8ba308155e3bebf1",
            "d2601c3275ea405bacf5db1df709e415"
          ]
        },
        "outputId": "88c21ef6-ca1d-448f-8a24-0ff3ab1151aa"
      },
      "outputs": [
        {
          "output_type": "display_data",
          "data": {
            "text/plain": [
              "  0%|          | 0/28709 [00:00<?, ?it/s]"
            ],
            "application/vnd.jupyter.widget-view+json": {
              "version_major": 2,
              "version_minor": 0,
              "model_id": "64e83aa04bbe46a3be2854291d29fca4"
            }
          },
          "metadata": {}
        }
      ],
      "source": [
        "train_features = extract_features(train['image'])"
      ]
    },
    {
      "cell_type": "code",
      "execution_count": null,
      "id": "c1b294ed",
      "metadata": {
        "colab": {
          "base_uri": "https://localhost:8080/",
          "height": 49,
          "referenced_widgets": [
            "ba81772132a94645a795f95b58145277",
            "de46792535e84f3c8230689a1d374651",
            "451dca3882c644e9b66570cf36f83186",
            "5b79a326f28848018b3799531428083f",
            "5c71720f8608488098f158e2bd0537d3",
            "726a0402b4d24d48a48f9f29efa744e2",
            "5eec7153283e4ec499635fe053f1cee9",
            "c688f5aee09c49f49fb3ff88d7d62a32",
            "65812804910443b8b2df3304f8b962a7",
            "d720e2aa38ee4eb9927ec32ca6887f6a",
            "0863354e30414b3aa41f9935c912fade"
          ]
        },
        "id": "c1b294ed",
        "outputId": "b02df3b5-3a47-4e17-c441-d4a84ccd68b3"
      },
      "outputs": [
        {
          "output_type": "display_data",
          "data": {
            "text/plain": [
              "  0%|          | 0/7178 [00:00<?, ?it/s]"
            ],
            "application/vnd.jupyter.widget-view+json": {
              "version_major": 2,
              "version_minor": 0,
              "model_id": "ba81772132a94645a795f95b58145277"
            }
          },
          "metadata": {}
        }
      ],
      "source": [
        "test_features = extract_features(test['image'])"
      ]
    },
    {
      "cell_type": "code",
      "execution_count": null,
      "metadata": {
        "execution": {
          "iopub.execute_input": "2020-10-08T08:21:37.950459Z",
          "iopub.status.busy": "2020-10-08T08:21:37.949497Z",
          "iopub.status.idle": "2020-10-08T08:21:38.407738Z",
          "shell.execute_reply": "2020-10-08T08:21:38.406799Z"
        },
        "papermill": {
          "duration": 0.490337,
          "end_time": "2020-10-08T08:21:38.407869",
          "exception": false,
          "start_time": "2020-10-08T08:21:37.917532",
          "status": "completed"
        },
        "tags": [],
        "id": "QCivpwrynRvH",
        "outputId": "15655636-8361-420c-b996-0a47acdeccad"
      },
      "outputs": [
        {
          "data": {
            "image/png": "[encoded data removed]",
            "text/plain": [
              "<Figure size 1008x1584 with 7 Axes>"
            ]
          },
          "metadata": {
            "needs_background": "light"
          },
          "output_type": "display_data"
        }
      ],
      "source": [
        "plt.figure(figsize=(14,22))\n",
        "i = 1\n",
        "for expression in os.listdir(train_dir):\n",
        "    img = load_img((train_dir + expression +'/'+ os.listdir(train_dir + expression)[1]))\n",
        "    plt.subplot(1,7,i)\n",
        "    plt.imshow(img)\n",
        "    plt.title(expression)\n",
        "    plt.axis('off')\n",
        "    i += 1\n",
        "plt.show()"
      ],
      "id": "QCivpwrynRvH"
    },
    {
      "cell_type": "code",
      "execution_count": null,
      "id": "f78b5d34",
      "metadata": {
        "id": "f78b5d34"
      },
      "outputs": [],
      "source": [
        "import numpy as np\n",
        "\n",
        "train_features = np.array(train_features)\n",
        "test_features = np.array(test_features)\n",
        "\n",
        "x_train = train_features / 255.0\n",
        "x_test = test_features / 255.0\n",
        "\n",
        "le = LabelEncoder()\n",
        "le.fit(train['label'])"
      ]
    },
    {
      "cell_type": "code",
      "execution_count": null,
      "id": "50ece229",
      "metadata": {
        "id": "50ece229"
      },
      "outputs": [],
      "source": [
        "y_train = le.transform(train['label'])\n",
        "y_test = le.transform(test['label'])"
      ]
    },
    {
      "cell_type": "code",
      "execution_count": null,
      "id": "5e284299",
      "metadata": {
        "id": "5e284299"
      },
      "outputs": [],
      "source": [
        "y_train = to_categorical(y_train,num_classes = 7)\n",
        "y_test = to_categorical(y_test,num_classes = 7)"
      ]
    },
    {
      "cell_type": "code",
      "execution_count": null,
      "id": "3977223a",
      "metadata": {
        "id": "3977223a",
        "colab": {
          "base_uri": "https://localhost:8080/"
        },
        "outputId": "cc6068e3-ba45-40cf-ea78-d2ee817b5c9f"
      },
      "outputs": [
        {
          "output_type": "stream",
          "name": "stderr",
          "text": [
            "/usr/local/lib/python3.10/dist-packages/keras/src/layers/convolutional/base_conv.py:99: UserWarning: Do not pass an `input_shape`/`input_dim` argument to a layer. When using Sequential models, prefer using an `Input(shape)` object as the first layer in the model instead.\n",
            "  super().__init__(\n"
          ]
        }
      ],
      "source": [
        "model = Sequential()\n",
        "# convolutional layers\n",
        "model.add(Conv2D(128, kernel_size=(3,3), activation='relu', input_shape=(48,48,1)))\n",
        "model.add(MaxPooling2D(pool_size=(2,2)))\n",
        "model.add(Dropout(0.4))\n",
        "\n",
        "model.add(Conv2D(256, kernel_size=(3,3), activation='relu'))\n",
        "model.add(MaxPooling2D(pool_size=(2,2)))\n",
        "model.add(Dropout(0.4))\n",
        "\n",
        "model.add(Conv2D(512, kernel_size=(3,3), activation='relu'))\n",
        "model.add(MaxPooling2D(pool_size=(2,2)))\n",
        "model.add(Dropout(0.4))\n",
        "\n",
        "model.add(Conv2D(512, kernel_size=(3,3), activation='relu'))\n",
        "model.add(MaxPooling2D(pool_size=(2,2)))\n",
        "model.add(Dropout(0.4))\n",
        "\n",
        "model.add(Flatten())\n",
        "# fully connected layers\n",
        "model.add(Dense(512, activation='relu'))\n",
        "model.add(Dropout(0.4))\n",
        "model.add(Dense(256, activation='relu'))\n",
        "model.add(Dropout(0.3))\n",
        "# output layer\n",
        "model.add(Dense(7, activation='softmax'))"
      ]
    },
    {
      "cell_type": "code",
      "execution_count": null,
      "id": "de986d6e",
      "metadata": {
        "id": "de986d6e"
      },
      "outputs": [],
      "source": [
        "model.compile(optimizer = 'adam', loss = 'categorical_crossentropy', metrics = ['accuracy'] )"
      ]
    },
    {
      "cell_type": "code",
      "source": [
        "from keras.models import Sequential\n",
        "from keras.layers import Dense\n",
        "from keras.callbacks import History\n",
        "\n",
        "# collect training history\n",
        "history = History()\n",
        "\n",
        "# Train your model with callbacks\n",
        "history = model.fit(\n",
        "    x=x_train,\n",
        "    y=y_train,\n",
        "    batch_size=128,\n",
        "    epochs=100,\n",
        "    validation_data=(x_test, y_test),\n",
        "    callbacks=[history],\n",
        "    verbose=1\n",
        ")\n",
        "\n",
        "train_loss = history.history['loss']\n",
        "train_accuracy = history.history['accuracy']\n",
        "val_loss = history.history['val_loss']\n",
        "val_accuracy = history.history['val_accuracy']\n",
        "\n",
        "model.save_weights('FER_model.weights.h5')"
      ],
      "metadata": {
        "colab": {
          "base_uri": "https://localhost:8080/"
        },
        "id": "fDpCHyBa0Y9h",
        "outputId": "4615c9a2-c3b2-47a4-de23-710d5f272afd"
      },
      "execution_count": null,
      "outputs": [
        {
          "output_type": "stream",
          "name": "stdout",
          "text": [
            "Epoch 1/100\n",
            "225/225 [==============================] - 12s 51ms/step - loss: 1.5276 - accuracy: 0.4037 - val_loss: 1.4129 - val_accuracy: 0.4455\n",
            "Epoch 2/100\n",
            "225/225 [==============================] - 12s 53ms/step - loss: 1.4660 - accuracy: 0.4335 - val_loss: 1.3497 - val_accuracy: 0.4706\n",
            "Epoch 3/100\n",
            "225/225 [==============================] - 11s 51ms/step - loss: 1.4266 - accuracy: 0.4496 - val_loss: 1.3130 - val_accuracy: 0.4925\n",
            "Epoch 4/100\n",
            "225/225 [==============================] - 12s 51ms/step - loss: 1.3965 - accuracy: 0.4657 - val_loss: 1.2954 - val_accuracy: 0.4950\n",
            "Epoch 5/100\n",
            "225/225 [==============================] - 12s 53ms/step - loss: 1.3620 - accuracy: 0.4752 - val_loss: 1.2837 - val_accuracy: 0.5082\n",
            "Epoch 6/100\n",
            "225/225 [==============================] - 12s 51ms/step - loss: 1.3429 - accuracy: 0.4851 - val_loss: 1.2324 - val_accuracy: 0.5187\n",
            "Epoch 7/100\n",
            "225/225 [==============================] - 12s 52ms/step - loss: 1.3220 - accuracy: 0.4963 - val_loss: 1.2144 - val_accuracy: 0.5304\n",
            "Epoch 8/100\n",
            "225/225 [==============================] - 12s 54ms/step - loss: 1.3101 - accuracy: 0.4998 - val_loss: 1.2125 - val_accuracy: 0.5323\n",
            "Epoch 9/100\n",
            "225/225 [==============================] - 12s 54ms/step - loss: 1.2904 - accuracy: 0.5092 - val_loss: 1.1824 - val_accuracy: 0.5460\n",
            "Epoch 10/100\n",
            "225/225 [==============================] - 12s 52ms/step - loss: 1.2735 - accuracy: 0.5152 - val_loss: 1.1827 - val_accuracy: 0.5457\n",
            "Epoch 11/100\n",
            "225/225 [==============================] - 12s 52ms/step - loss: 1.2621 - accuracy: 0.5212 - val_loss: 1.1793 - val_accuracy: 0.5493\n",
            "Epoch 12/100\n",
            "225/225 [==============================] - 12s 52ms/step - loss: 1.2542 - accuracy: 0.5223 - val_loss: 1.1500 - val_accuracy: 0.5646\n",
            "Epoch 13/100\n",
            "225/225 [==============================] - 12s 54ms/step - loss: 1.2346 - accuracy: 0.5311 - val_loss: 1.1447 - val_accuracy: 0.5623\n",
            "Epoch 14/100\n",
            "225/225 [==============================] - 12s 52ms/step - loss: 1.2267 - accuracy: 0.5306 - val_loss: 1.1439 - val_accuracy: 0.5616\n",
            "Epoch 15/100\n",
            "225/225 [==============================] - 12s 53ms/step - loss: 1.2163 - accuracy: 0.5394 - val_loss: 1.1459 - val_accuracy: 0.5638\n",
            "Epoch 16/100\n",
            "225/225 [==============================] - 12s 55ms/step - loss: 1.2103 - accuracy: 0.5396 - val_loss: 1.1300 - val_accuracy: 0.5619\n",
            "Epoch 17/100\n",
            "225/225 [==============================] - 12s 55ms/step - loss: 1.1976 - accuracy: 0.5461 - val_loss: 1.1145 - val_accuracy: 0.5708\n",
            "Epoch 18/100\n",
            "225/225 [==============================] - 12s 52ms/step - loss: 1.1920 - accuracy: 0.5495 - val_loss: 1.1276 - val_accuracy: 0.5673\n",
            "Epoch 19/100\n",
            "225/225 [==============================] - 12s 53ms/step - loss: 1.1812 - accuracy: 0.5540 - val_loss: 1.1089 - val_accuracy: 0.5763\n",
            "Epoch 20/100\n",
            "225/225 [==============================] - 13s 56ms/step - loss: 1.1770 - accuracy: 0.5556 - val_loss: 1.1047 - val_accuracy: 0.5768\n",
            "Epoch 21/100\n",
            "225/225 [==============================] - 12s 55ms/step - loss: 1.1695 - accuracy: 0.5608 - val_loss: 1.0993 - val_accuracy: 0.5780\n",
            "Epoch 22/100\n",
            "225/225 [==============================] - 12s 55ms/step - loss: 1.1570 - accuracy: 0.5622 - val_loss: 1.1030 - val_accuracy: 0.5770\n",
            "Epoch 23/100\n",
            "225/225 [==============================] - 12s 53ms/step - loss: 1.1497 - accuracy: 0.5678 - val_loss: 1.0901 - val_accuracy: 0.5860\n",
            "Epoch 24/100\n",
            "225/225 [==============================] - 12s 53ms/step - loss: 1.1464 - accuracy: 0.5660 - val_loss: 1.0879 - val_accuracy: 0.5889\n",
            "Epoch 25/100\n",
            "225/225 [==============================] - 12s 55ms/step - loss: 1.1365 - accuracy: 0.5685 - val_loss: 1.0801 - val_accuracy: 0.5871\n",
            "Epoch 26/100\n",
            "225/225 [==============================] - 12s 55ms/step - loss: 1.1270 - accuracy: 0.5731 - val_loss: 1.0852 - val_accuracy: 0.5880\n",
            "Epoch 27/100\n",
            "225/225 [==============================] - 12s 53ms/step - loss: 1.1284 - accuracy: 0.5773 - val_loss: 1.0731 - val_accuracy: 0.5908\n",
            "Epoch 28/100\n",
            "225/225 [==============================] - 12s 53ms/step - loss: 1.1135 - accuracy: 0.5796 - val_loss: 1.0778 - val_accuracy: 0.5892\n",
            "Epoch 29/100\n",
            "225/225 [==============================] - 12s 55ms/step - loss: 1.1106 - accuracy: 0.5812 - val_loss: 1.0793 - val_accuracy: 0.5883\n",
            "Epoch 30/100\n",
            "225/225 [==============================] - 12s 55ms/step - loss: 1.0937 - accuracy: 0.5892 - val_loss: 1.0793 - val_accuracy: 0.5865\n",
            "Epoch 31/100\n",
            "225/225 [==============================] - 12s 53ms/step - loss: 1.0979 - accuracy: 0.5874 - val_loss: 1.0748 - val_accuracy: 0.5867\n",
            "Epoch 32/100\n",
            "225/225 [==============================] - 13s 57ms/step - loss: 1.0938 - accuracy: 0.5903 - val_loss: 1.0745 - val_accuracy: 0.5865\n",
            "Epoch 33/100\n",
            "225/225 [==============================] - 12s 54ms/step - loss: 1.0830 - accuracy: 0.5900 - val_loss: 1.0729 - val_accuracy: 0.5919\n",
            "Epoch 34/100\n",
            "225/225 [==============================] - 13s 56ms/step - loss: 1.0724 - accuracy: 0.5964 - val_loss: 1.0619 - val_accuracy: 0.5914\n",
            "Epoch 35/100\n",
            "225/225 [==============================] - 12s 56ms/step - loss: 1.0750 - accuracy: 0.5932 - val_loss: 1.0642 - val_accuracy: 0.5935\n",
            "Epoch 36/100\n",
            "225/225 [==============================] - 12s 54ms/step - loss: 1.0662 - accuracy: 0.5985 - val_loss: 1.0605 - val_accuracy: 0.5953\n",
            "Epoch 37/100\n",
            "225/225 [==============================] - 12s 54ms/step - loss: 1.0586 - accuracy: 0.6020 - val_loss: 1.0693 - val_accuracy: 0.5978\n",
            "Epoch 38/100\n",
            "225/225 [==============================] - 12s 53ms/step - loss: 1.0536 - accuracy: 0.6053 - val_loss: 1.0688 - val_accuracy: 0.5982\n",
            "Epoch 39/100\n",
            "225/225 [==============================] - 12s 53ms/step - loss: 1.0509 - accuracy: 0.6047 - val_loss: 1.0469 - val_accuracy: 0.6055\n",
            "Epoch 40/100\n",
            "225/225 [==============================] - 12s 54ms/step - loss: 1.0416 - accuracy: 0.6090 - val_loss: 1.0522 - val_accuracy: 0.6014\n",
            "Epoch 41/100\n",
            "225/225 [==============================] - 13s 56ms/step - loss: 1.0425 - accuracy: 0.6092 - val_loss: 1.0443 - val_accuracy: 0.6042\n",
            "Epoch 42/100\n",
            "225/225 [==============================] - 12s 53ms/step - loss: 1.0356 - accuracy: 0.6095 - val_loss: 1.0573 - val_accuracy: 0.5982\n",
            "Epoch 43/100\n",
            "225/225 [==============================] - 12s 53ms/step - loss: 1.0356 - accuracy: 0.6123 - val_loss: 1.0579 - val_accuracy: 0.6020\n",
            "Epoch 44/100\n",
            "225/225 [==============================] - 12s 54ms/step - loss: 1.0246 - accuracy: 0.6160 - val_loss: 1.0488 - val_accuracy: 0.6050\n",
            "Epoch 45/100\n",
            "225/225 [==============================] - 12s 54ms/step - loss: 1.0160 - accuracy: 0.6201 - val_loss: 1.0456 - val_accuracy: 0.6023\n",
            "Epoch 46/100\n",
            "225/225 [==============================] - 12s 53ms/step - loss: 1.0072 - accuracy: 0.6218 - val_loss: 1.0516 - val_accuracy: 0.6052\n",
            "Epoch 47/100\n",
            "225/225 [==============================] - 13s 57ms/step - loss: 1.0035 - accuracy: 0.6198 - val_loss: 1.0488 - val_accuracy: 0.6037\n",
            "Epoch 48/100\n",
            "225/225 [==============================] - 13s 57ms/step - loss: 1.0069 - accuracy: 0.6255 - val_loss: 1.0433 - val_accuracy: 0.6101\n",
            "Epoch 49/100\n",
            "225/225 [==============================] - 12s 53ms/step - loss: 0.9961 - accuracy: 0.6269 - val_loss: 1.0404 - val_accuracy: 0.6082\n",
            "Epoch 50/100\n",
            "225/225 [==============================] - 12s 55ms/step - loss: 0.9881 - accuracy: 0.6324 - val_loss: 1.0600 - val_accuracy: 0.6042\n",
            "Epoch 51/100\n",
            "225/225 [==============================] - 12s 53ms/step - loss: 0.9852 - accuracy: 0.6316 - val_loss: 1.0469 - val_accuracy: 0.6077\n",
            "Epoch 52/100\n",
            "225/225 [==============================] - 12s 54ms/step - loss: 0.9724 - accuracy: 0.6377 - val_loss: 1.0384 - val_accuracy: 0.6128\n",
            "Epoch 53/100\n",
            "225/225 [==============================] - 13s 56ms/step - loss: 0.9766 - accuracy: 0.6348 - val_loss: 1.0429 - val_accuracy: 0.6062\n",
            "Epoch 54/100\n",
            "225/225 [==============================] - 12s 53ms/step - loss: 0.9659 - accuracy: 0.6390 - val_loss: 1.0371 - val_accuracy: 0.6106\n",
            "Epoch 55/100\n",
            "225/225 [==============================] - 12s 53ms/step - loss: 0.9622 - accuracy: 0.6421 - val_loss: 1.0332 - val_accuracy: 0.6167\n",
            "Epoch 56/100\n",
            "225/225 [==============================] - 12s 54ms/step - loss: 0.9580 - accuracy: 0.6396 - val_loss: 1.0359 - val_accuracy: 0.6145\n",
            "Epoch 57/100\n",
            "225/225 [==============================] - 13s 56ms/step - loss: 0.9617 - accuracy: 0.6422 - val_loss: 1.0316 - val_accuracy: 0.6163\n",
            "Epoch 58/100\n",
            "225/225 [==============================] - 12s 53ms/step - loss: 0.9507 - accuracy: 0.6415 - val_loss: 1.0346 - val_accuracy: 0.6117\n",
            "Epoch 59/100\n",
            "225/225 [==============================] - 13s 57ms/step - loss: 0.9504 - accuracy: 0.6492 - val_loss: 1.0314 - val_accuracy: 0.6115\n",
            "Epoch 60/100\n",
            "225/225 [==============================] - 12s 54ms/step - loss: 0.9423 - accuracy: 0.6502 - val_loss: 1.0254 - val_accuracy: 0.6126\n",
            "Epoch 61/100\n",
            "225/225 [==============================] - 13s 56ms/step - loss: 0.9474 - accuracy: 0.6522 - val_loss: 1.0353 - val_accuracy: 0.6119\n",
            "Epoch 62/100\n",
            "225/225 [==============================] - 12s 53ms/step - loss: 0.9380 - accuracy: 0.6513 - val_loss: 1.0232 - val_accuracy: 0.6226\n",
            "Epoch 63/100\n",
            "225/225 [==============================] - 12s 54ms/step - loss: 0.9258 - accuracy: 0.6586 - val_loss: 1.0357 - val_accuracy: 0.6176\n",
            "Epoch 64/100\n",
            "225/225 [==============================] - 13s 56ms/step - loss: 0.9254 - accuracy: 0.6551 - val_loss: 1.0297 - val_accuracy: 0.6201\n",
            "Epoch 65/100\n",
            "225/225 [==============================] - 13s 56ms/step - loss: 0.9151 - accuracy: 0.6634 - val_loss: 1.0423 - val_accuracy: 0.6147\n",
            "Epoch 66/100\n",
            "225/225 [==============================] - 12s 53ms/step - loss: 0.9128 - accuracy: 0.6636 - val_loss: 1.0262 - val_accuracy: 0.6244\n",
            "Epoch 67/100\n",
            "225/225 [==============================] - 13s 57ms/step - loss: 0.9159 - accuracy: 0.6607 - val_loss: 1.0324 - val_accuracy: 0.6198\n",
            "Epoch 68/100\n",
            "225/225 [==============================] - 13s 56ms/step - loss: 0.9007 - accuracy: 0.6673 - val_loss: 1.0273 - val_accuracy: 0.6186\n",
            "Epoch 69/100\n",
            "225/225 [==============================] - 12s 55ms/step - loss: 0.9034 - accuracy: 0.6654 - val_loss: 1.0164 - val_accuracy: 0.6286\n",
            "Epoch 70/100\n",
            "225/225 [==============================] - 12s 55ms/step - loss: 0.8951 - accuracy: 0.6685 - val_loss: 1.0283 - val_accuracy: 0.6236\n",
            "Epoch 71/100\n",
            "225/225 [==============================] - 12s 53ms/step - loss: 0.8975 - accuracy: 0.6660 - val_loss: 1.0173 - val_accuracy: 0.6233\n",
            "Epoch 72/100\n",
            "225/225 [==============================] - 12s 54ms/step - loss: 0.8876 - accuracy: 0.6718 - val_loss: 1.0247 - val_accuracy: 0.6223\n",
            "Epoch 73/100\n",
            "225/225 [==============================] - 13s 56ms/step - loss: 0.8847 - accuracy: 0.6717 - val_loss: 1.0254 - val_accuracy: 0.6212\n",
            "Epoch 74/100\n",
            "225/225 [==============================] - 12s 53ms/step - loss: 0.8781 - accuracy: 0.6744 - val_loss: 1.0344 - val_accuracy: 0.6294\n",
            "Epoch 75/100\n",
            "225/225 [==============================] - 13s 56ms/step - loss: 0.8852 - accuracy: 0.6733 - val_loss: 1.0291 - val_accuracy: 0.6211\n",
            "Epoch 76/100\n",
            "225/225 [==============================] - 12s 54ms/step - loss: 0.8737 - accuracy: 0.6760 - val_loss: 1.0431 - val_accuracy: 0.6183\n",
            "Epoch 77/100\n",
            "225/225 [==============================] - 13s 56ms/step - loss: 0.8657 - accuracy: 0.6821 - val_loss: 1.0309 - val_accuracy: 0.6220\n",
            "Epoch 78/100\n",
            "225/225 [==============================] - 13s 56ms/step - loss: 0.8717 - accuracy: 0.6813 - val_loss: 1.0343 - val_accuracy: 0.6211\n",
            "Epoch 79/100\n",
            "225/225 [==============================] - 12s 53ms/step - loss: 0.8688 - accuracy: 0.6790 - val_loss: 1.0249 - val_accuracy: 0.6229\n",
            "Epoch 80/100\n",
            "225/225 [==============================] - 13s 57ms/step - loss: 0.8547 - accuracy: 0.6833 - val_loss: 1.0228 - val_accuracy: 0.6291\n",
            "Epoch 81/100\n",
            "225/225 [==============================] - 13s 56ms/step - loss: 0.8552 - accuracy: 0.6841 - val_loss: 1.0245 - val_accuracy: 0.6261\n",
            "Epoch 82/100\n",
            "225/225 [==============================] - 13s 56ms/step - loss: 0.8558 - accuracy: 0.6840 - val_loss: 1.0315 - val_accuracy: 0.6223\n",
            "Epoch 83/100\n",
            "225/225 [==============================] - 12s 54ms/step - loss: 0.8457 - accuracy: 0.6890 - val_loss: 1.0304 - val_accuracy: 0.6251\n",
            "Epoch 84/100\n",
            "225/225 [==============================] - 13s 57ms/step - loss: 0.8459 - accuracy: 0.6899 - val_loss: 1.0174 - val_accuracy: 0.6304\n",
            "Epoch 85/100\n",
            "225/225 [==============================] - 13s 56ms/step - loss: 0.8336 - accuracy: 0.6967 - val_loss: 1.0200 - val_accuracy: 0.6329\n",
            "Epoch 86/100\n",
            "225/225 [==============================] - 13s 56ms/step - loss: 0.8282 - accuracy: 0.6974 - val_loss: 1.0261 - val_accuracy: 0.6283\n",
            "Epoch 87/100\n",
            "225/225 [==============================] - 12s 53ms/step - loss: 0.8268 - accuracy: 0.6946 - val_loss: 1.0300 - val_accuracy: 0.6190\n",
            "Epoch 88/100\n",
            "225/225 [==============================] - 12s 54ms/step - loss: 0.8279 - accuracy: 0.6993 - val_loss: 1.0111 - val_accuracy: 0.6376\n",
            "Epoch 89/100\n",
            "225/225 [==============================] - 12s 54ms/step - loss: 0.8268 - accuracy: 0.6959 - val_loss: 1.0242 - val_accuracy: 0.6269\n",
            "Epoch 90/100\n",
            "225/225 [==============================] - 13s 56ms/step - loss: 0.8136 - accuracy: 0.7034 - val_loss: 1.0206 - val_accuracy: 0.6315\n",
            "Epoch 91/100\n",
            "225/225 [==============================] - 12s 53ms/step - loss: 0.8187 - accuracy: 0.6990 - val_loss: 1.0160 - val_accuracy: 0.6287\n",
            "Epoch 92/100\n",
            "225/225 [==============================] - 13s 57ms/step - loss: 0.7975 - accuracy: 0.7065 - val_loss: 1.0229 - val_accuracy: 0.6335\n",
            "Epoch 93/100\n",
            "225/225 [==============================] - 13s 56ms/step - loss: 0.8025 - accuracy: 0.7059 - val_loss: 1.0250 - val_accuracy: 0.6350\n",
            "Epoch 94/100\n",
            "225/225 [==============================] - 13s 56ms/step - loss: 0.8062 - accuracy: 0.7050 - val_loss: 1.0178 - val_accuracy: 0.6304\n",
            "Epoch 95/100\n",
            "225/225 [==============================] - 13s 56ms/step - loss: 0.7992 - accuracy: 0.7081 - val_loss: 1.0233 - val_accuracy: 0.6354\n",
            "Epoch 96/100\n",
            "225/225 [==============================] - 12s 53ms/step - loss: 0.8009 - accuracy: 0.7093 - val_loss: 1.0326 - val_accuracy: 0.6300\n",
            "Epoch 97/100\n",
            "225/225 [==============================] - 13s 56ms/step - loss: 0.7935 - accuracy: 0.7095 - val_loss: 1.0313 - val_accuracy: 0.6286\n",
            "Epoch 98/100\n",
            "225/225 [==============================] - 13s 56ms/step - loss: 0.7930 - accuracy: 0.7113 - val_loss: 1.0418 - val_accuracy: 0.6353\n",
            "Epoch 99/100\n",
            "225/225 [==============================] - 12s 55ms/step - loss: 0.7766 - accuracy: 0.7164 - val_loss: 1.0326 - val_accuracy: 0.6286\n",
            "Epoch 100/100\n",
            "225/225 [==============================] - 12s 53ms/step - loss: 0.7793 - accuracy: 0.7172 - val_loss: 1.0268 - val_accuracy: 0.6332\n"
          ]
        },
        {
          "output_type": "execute_result",
          "data": {
            "text/plain": [
              "<keras.src.callbacks.History at 0x7be570cb4220>"
            ]
          },
          "metadata": {},
          "execution_count": 29
        }
      ],
      "id": "fDpCHyBa0Y9h"
    },
    {
      "cell_type": "code",
      "source": [
        "import matplotlib.pyplot as plt\n",
        "\n",
        "# Plot training and validation loss\n",
        "plt.figure(figsize=(12, 6))\n",
        "plt.subplot(1, 2, 1)\n",
        "plt.plot(train_loss, label='Training Loss')\n",
        "plt.plot(val_loss, label='Validation Loss')\n",
        "plt.title('Loss Curves')\n",
        "plt.xlabel('Epoch')\n",
        "plt.ylabel('Loss')\n",
        "plt.legend()\n",
        "\n",
        "# Plot training and validation accuracy\n",
        "plt.subplot(1, 2, 2)\n",
        "plt.plot(train_accuracy, label='Training Accuracy')\n",
        "plt.plot(val_accuracy, label='Validation Accuracy')\n",
        "plt.title('Accuracy Curves')\n",
        "plt.xlabel('Epoch')\n",
        "plt.ylabel('Accuracy')\n",
        "plt.legend()\n",
        "\n",
        "plt.tight_layout()\n",
        "plt.show()"
      ],
      "metadata": {
        "id": "RD6ZTTIRN23h",
        "colab": {
          "base_uri": "https://localhost:8080/",
          "height": 607
        },
        "outputId": "928d81c8-68db-43f2-bc02-cd5640e77961"
      },
      "id": "RD6ZTTIRN23h",
      "execution_count": null,
      "outputs": [
        {
          "output_type": "display_data",
          "data": {
            "text/plain": [
              "<Figure size 1200x600 with 2 Axes>"
            ],
            "image/png": "[encoded data removed]"
          },
          "metadata": {}
        }
      ]
    },
    {
      "cell_type": "code",
      "source": [
        "\n",
        "from keras.models import Sequential\n",
        "from keras.layers import Dense\n",
        "from keras.callbacks import History\n",
        "\n",
        "# Create a History object to collect training history\n",
        "history = History()\n",
        "\n",
        "# Train your model with callbacks\n",
        "history = model.fit(\n",
        "    x=x_train,\n",
        "    y=y_train,\n",
        "    batch_size=128,\n",
        "    epochs=300,\n",
        "    validation_data=(x_test, y_test),\n",
        "    callbacks=[history],\n",
        "    verbose=1\n",
        ")\n",
        "\n",
        "# collected training history\n",
        "train_loss = history.history['loss']\n",
        "train_accuracy = history.history['accuracy']\n",
        "val_loss = history.history['val_loss']\n",
        "val_accuracy = history.history['val_accuracy']\n",
        "\n",
        "model.save_weights('FER_model_300.weights.h5')"
      ],
      "metadata": {
        "colab": {
          "base_uri": "https://localhost:8080/"
        },
        "id": "dNavQgEmKsUD",
        "outputId": "9a6ea997-aaf7-4f0f-d613-94672268876a"
      },
      "id": "dNavQgEmKsUD",
      "execution_count": null,
      "outputs": [
        {
          "output_type": "stream",
          "name": "stdout",
          "text": [
            "Epoch 1/300\n",
            "\u001b[1m225/225\u001b[0m \u001b[32m━━━━━━━━━━━━━━━━━━━━\u001b[0m\u001b[37m\u001b[0m \u001b[1m10s\u001b[0m 44ms/step - accuracy: 0.7606 - loss: 0.6683 - val_accuracy: 0.6303 - val_loss: 1.0396\n",
            "Epoch 2/300\n",
            "\u001b[1m225/225\u001b[0m \u001b[32m━━━━━━━━━━━━━━━━━━━━\u001b[0m\u001b[37m\u001b[0m \u001b[1m10s\u001b[0m 46ms/step - accuracy: 0.7639 - loss: 0.6640 - val_accuracy: 0.6286 - val_loss: 1.0456\n",
            "Epoch 3/300\n",
            "\u001b[1m225/225\u001b[0m \u001b[32m━━━━━━━━━━━━━━━━━━━━\u001b[0m\u001b[37m\u001b[0m \u001b[1m10s\u001b[0m 44ms/step - accuracy: 0.7623 - loss: 0.6674 - val_accuracy: 0.6356 - val_loss: 1.0414\n",
            "Epoch 4/300\n",
            "\u001b[1m225/225\u001b[0m \u001b[32m━━━━━━━━━━━━━━━━━━━━\u001b[0m\u001b[37m\u001b[0m \u001b[1m10s\u001b[0m 43ms/step - accuracy: 0.7677 - loss: 0.6582 - val_accuracy: 0.6389 - val_loss: 1.0390\n",
            "Epoch 5/300\n",
            "\u001b[1m225/225\u001b[0m \u001b[32m━━━━━━━━━━━━━━━━━━━━\u001b[0m\u001b[37m\u001b[0m \u001b[1m10s\u001b[0m 44ms/step - accuracy: 0.7628 - loss: 0.6603 - val_accuracy: 0.6322 - val_loss: 1.0462\n",
            "Epoch 6/300\n",
            "\u001b[1m225/225\u001b[0m \u001b[32m━━━━━━━━━━━━━━━━━━━━\u001b[0m\u001b[37m\u001b[0m \u001b[1m10s\u001b[0m 46ms/step - accuracy: 0.7625 - loss: 0.6557 - val_accuracy: 0.6351 - val_loss: 1.0542\n",
            "Epoch 7/300\n",
            "\u001b[1m225/225\u001b[0m \u001b[32m━━━━━━━━━━━━━━━━━━━━\u001b[0m\u001b[37m\u001b[0m \u001b[1m10s\u001b[0m 45ms/step - accuracy: 0.7656 - loss: 0.6495 - val_accuracy: 0.6294 - val_loss: 1.0431\n",
            "Epoch 8/300\n",
            "\u001b[1m225/225\u001b[0m \u001b[32m━━━━━━━━━━━━━━━━━━━━\u001b[0m\u001b[37m\u001b[0m \u001b[1m10s\u001b[0m 43ms/step - accuracy: 0.7710 - loss: 0.6500 - val_accuracy: 0.6317 - val_loss: 1.0486\n",
            "Epoch 9/300\n",
            "\u001b[1m225/225\u001b[0m \u001b[32m━━━━━━━━━━━━━━━━━━━━\u001b[0m\u001b[37m\u001b[0m \u001b[1m10s\u001b[0m 42ms/step - accuracy: 0.7655 - loss: 0.6512 - val_accuracy: 0.6311 - val_loss: 1.0542\n",
            "Epoch 10/300\n",
            "\u001b[1m225/225\u001b[0m \u001b[32m━━━━━━━━━━━━━━━━━━━━\u001b[0m\u001b[37m\u001b[0m \u001b[1m10s\u001b[0m 42ms/step - accuracy: 0.7669 - loss: 0.6513 - val_accuracy: 0.6350 - val_loss: 1.0602\n",
            "Epoch 11/300\n",
            "\u001b[1m225/225\u001b[0m \u001b[32m━━━━━━━━━━━━━━━━━━━━\u001b[0m\u001b[37m\u001b[0m \u001b[1m10s\u001b[0m 42ms/step - accuracy: 0.7717 - loss: 0.6427 - val_accuracy: 0.6360 - val_loss: 1.0560\n",
            "Epoch 12/300\n",
            "\u001b[1m225/225\u001b[0m \u001b[32m━━━━━━━━━━━━━━━━━━━━\u001b[0m\u001b[37m\u001b[0m \u001b[1m10s\u001b[0m 43ms/step - accuracy: 0.7731 - loss: 0.6349 - val_accuracy: 0.6353 - val_loss: 1.0456\n",
            "Epoch 13/300\n",
            "\u001b[1m225/225\u001b[0m \u001b[32m━━━━━━━━━━━━━━━━━━━━\u001b[0m\u001b[37m\u001b[0m \u001b[1m10s\u001b[0m 43ms/step - accuracy: 0.7689 - loss: 0.6401 - val_accuracy: 0.6314 - val_loss: 1.0512\n",
            "Epoch 14/300\n",
            "\u001b[1m225/225\u001b[0m \u001b[32m━━━━━━━━━━━━━━━━━━━━\u001b[0m\u001b[37m\u001b[0m \u001b[1m10s\u001b[0m 42ms/step - accuracy: 0.7730 - loss: 0.6410 - val_accuracy: 0.6344 - val_loss: 1.0448\n",
            "Epoch 15/300\n",
            "\u001b[1m225/225\u001b[0m \u001b[32m━━━━━━━━━━━━━━━━━━━━\u001b[0m\u001b[37m\u001b[0m \u001b[1m10s\u001b[0m 43ms/step - accuracy: 0.7799 - loss: 0.6212 - val_accuracy: 0.6314 - val_loss: 1.0795\n",
            "Epoch 16/300\n",
            "\u001b[1m225/225\u001b[0m \u001b[32m━━━━━━━━━━━━━━━━━━━━\u001b[0m\u001b[37m\u001b[0m \u001b[1m10s\u001b[0m 43ms/step - accuracy: 0.7813 - loss: 0.6189 - val_accuracy: 0.6367 - val_loss: 1.0413\n",
            "Epoch 17/300\n",
            "\u001b[1m225/225\u001b[0m \u001b[32m━━━━━━━━━━━━━━━━━━━━\u001b[0m\u001b[37m\u001b[0m \u001b[1m10s\u001b[0m 43ms/step - accuracy: 0.7845 - loss: 0.6112 - val_accuracy: 0.6301 - val_loss: 1.0441\n",
            "Epoch 18/300\n",
            "\u001b[1m225/225\u001b[0m \u001b[32m━━━━━━━━━━━━━━━━━━━━\u001b[0m\u001b[37m\u001b[0m \u001b[1m10s\u001b[0m 43ms/step - accuracy: 0.7764 - loss: 0.6262 - val_accuracy: 0.6358 - val_loss: 1.0303\n",
            "Epoch 19/300\n",
            "\u001b[1m225/225\u001b[0m \u001b[32m━━━━━━━━━━━━━━━━━━━━\u001b[0m\u001b[37m\u001b[0m \u001b[1m10s\u001b[0m 42ms/step - accuracy: 0.7839 - loss: 0.6141 - val_accuracy: 0.6329 - val_loss: 1.0522\n",
            "Epoch 20/300\n",
            "\u001b[1m225/225\u001b[0m \u001b[32m━━━━━━━━━━━━━━━━━━━━\u001b[0m\u001b[37m\u001b[0m \u001b[1m10s\u001b[0m 42ms/step - accuracy: 0.7792 - loss: 0.6147 - val_accuracy: 0.6358 - val_loss: 1.0447\n",
            "Epoch 21/300\n",
            "\u001b[1m225/225\u001b[0m \u001b[32m━━━━━━━━━━━━━━━━━━━━\u001b[0m\u001b[37m\u001b[0m \u001b[1m10s\u001b[0m 43ms/step - accuracy: 0.7846 - loss: 0.6101 - val_accuracy: 0.6329 - val_loss: 1.0659\n",
            "Epoch 22/300\n",
            "\u001b[1m225/225\u001b[0m \u001b[32m━━━━━━━━━━━━━━━━━━━━\u001b[0m\u001b[37m\u001b[0m \u001b[1m10s\u001b[0m 42ms/step - accuracy: 0.7865 - loss: 0.6120 - val_accuracy: 0.6349 - val_loss: 1.0568\n",
            "Epoch 23/300\n",
            "\u001b[1m225/225\u001b[0m \u001b[32m━━━━━━━━━━━━━━━━━━━━\u001b[0m\u001b[37m\u001b[0m \u001b[1m10s\u001b[0m 43ms/step - accuracy: 0.7902 - loss: 0.5990 - val_accuracy: 0.6330 - val_loss: 1.0657\n",
            "Epoch 24/300\n",
            "\u001b[1m225/225\u001b[0m \u001b[32m━━━━━━━━━━━━━━━━━━━━\u001b[0m\u001b[37m\u001b[0m \u001b[1m10s\u001b[0m 43ms/step - accuracy: 0.7883 - loss: 0.6047 - val_accuracy: 0.6328 - val_loss: 1.0721\n",
            "Epoch 25/300\n",
            "\u001b[1m225/225\u001b[0m \u001b[32m━━━━━━━━━━━━━━━━━━━━\u001b[0m\u001b[37m\u001b[0m \u001b[1m10s\u001b[0m 42ms/step - accuracy: 0.7874 - loss: 0.6019 - val_accuracy: 0.6328 - val_loss: 1.0511\n",
            "Epoch 26/300\n",
            "\u001b[1m225/225\u001b[0m \u001b[32m━━━━━━━━━━━━━━━━━━━━\u001b[0m\u001b[37m\u001b[0m \u001b[1m10s\u001b[0m 43ms/step - accuracy: 0.7906 - loss: 0.6046 - val_accuracy: 0.6339 - val_loss: 1.0630\n",
            "Epoch 27/300\n",
            "\u001b[1m225/225\u001b[0m \u001b[32m━━━━━━━━━━━━━━━━━━━━\u001b[0m\u001b[37m\u001b[0m \u001b[1m10s\u001b[0m 46ms/step - accuracy: 0.7907 - loss: 0.5930 - val_accuracy: 0.6308 - val_loss: 1.0749\n",
            "Epoch 28/300\n",
            "\u001b[1m225/225\u001b[0m \u001b[32m━━━━━━━━━━━━━━━━━━━━\u001b[0m\u001b[37m\u001b[0m \u001b[1m10s\u001b[0m 43ms/step - accuracy: 0.7902 - loss: 0.6040 - val_accuracy: 0.6362 - val_loss: 1.0568\n",
            "Epoch 29/300\n",
            "\u001b[1m225/225\u001b[0m \u001b[32m━━━━━━━━━━━━━━━━━━━━\u001b[0m\u001b[37m\u001b[0m \u001b[1m10s\u001b[0m 43ms/step - accuracy: 0.7913 - loss: 0.5909 - val_accuracy: 0.6402 - val_loss: 1.0558\n",
            "Epoch 30/300\n",
            "\u001b[1m225/225\u001b[0m \u001b[32m━━━━━━━━━━━━━━━━━━━━\u001b[0m\u001b[37m\u001b[0m \u001b[1m10s\u001b[0m 42ms/step - accuracy: 0.7977 - loss: 0.5782 - val_accuracy: 0.6272 - val_loss: 1.0951\n",
            "Epoch 31/300\n",
            "\u001b[1m225/225\u001b[0m \u001b[32m━━━━━━━━━━━━━━━━━━━━\u001b[0m\u001b[37m\u001b[0m \u001b[1m10s\u001b[0m 43ms/step - accuracy: 0.7913 - loss: 0.5892 - val_accuracy: 0.6346 - val_loss: 1.0538\n",
            "Epoch 32/300\n",
            "\u001b[1m225/225\u001b[0m \u001b[32m━━━━━━━━━━━━━━━━━━━━\u001b[0m\u001b[37m\u001b[0m \u001b[1m11s\u001b[0m 46ms/step - accuracy: 0.7970 - loss: 0.5797 - val_accuracy: 0.6371 - val_loss: 1.0773\n",
            "Epoch 33/300\n",
            "\u001b[1m225/225\u001b[0m \u001b[32m━━━━━━━━━━━━━━━━━━━━\u001b[0m\u001b[37m\u001b[0m \u001b[1m20s\u001b[0m 43ms/step - accuracy: 0.7999 - loss: 0.5817 - val_accuracy: 0.6339 - val_loss: 1.0683\n",
            "Epoch 34/300\n",
            "\u001b[1m225/225\u001b[0m \u001b[32m━━━━━━━━━━━━━━━━━━━━\u001b[0m\u001b[37m\u001b[0m \u001b[1m10s\u001b[0m 42ms/step - accuracy: 0.7941 - loss: 0.5772 - val_accuracy: 0.6365 - val_loss: 1.0620\n",
            "Epoch 35/300\n",
            "\u001b[1m225/225\u001b[0m \u001b[32m━━━━━━━━━━━━━━━━━━━━\u001b[0m\u001b[37m\u001b[0m \u001b[1m10s\u001b[0m 43ms/step - accuracy: 0.7964 - loss: 0.5755 - val_accuracy: 0.6346 - val_loss: 1.0737\n",
            "Epoch 36/300\n",
            "\u001b[1m225/225\u001b[0m \u001b[32m━━━━━━━━━━━━━━━━━━━━\u001b[0m\u001b[37m\u001b[0m \u001b[1m10s\u001b[0m 43ms/step - accuracy: 0.7949 - loss: 0.5870 - val_accuracy: 0.6333 - val_loss: 1.0751\n",
            "Epoch 37/300\n",
            "\u001b[1m225/225\u001b[0m \u001b[32m━━━━━━━━━━━━━━━━━━━━\u001b[0m\u001b[37m\u001b[0m \u001b[1m10s\u001b[0m 43ms/step - accuracy: 0.7923 - loss: 0.5927 - val_accuracy: 0.6406 - val_loss: 1.0725\n",
            "Epoch 38/300\n",
            "\u001b[1m225/225\u001b[0m \u001b[32m━━━━━━━━━━━━━━━━━━━━\u001b[0m\u001b[37m\u001b[0m \u001b[1m10s\u001b[0m 43ms/step - accuracy: 0.7961 - loss: 0.5827 - val_accuracy: 0.6349 - val_loss: 1.0776\n",
            "Epoch 39/300\n",
            "\u001b[1m225/225\u001b[0m \u001b[32m━━━━━━━━━━━━━━━━━━━━\u001b[0m\u001b[37m\u001b[0m \u001b[1m10s\u001b[0m 42ms/step - accuracy: 0.7973 - loss: 0.5734 - val_accuracy: 0.6300 - val_loss: 1.0785\n",
            "Epoch 40/300\n",
            "\u001b[1m225/225\u001b[0m \u001b[32m━━━━━━━━━━━━━━━━━━━━\u001b[0m\u001b[37m\u001b[0m \u001b[1m10s\u001b[0m 42ms/step - accuracy: 0.8003 - loss: 0.5791 - val_accuracy: 0.6375 - val_loss: 1.0978\n",
            "Epoch 41/300\n",
            "\u001b[1m225/225\u001b[0m \u001b[32m━━━━━━━━━━━━━━━━━━━━\u001b[0m\u001b[37m\u001b[0m \u001b[1m10s\u001b[0m 43ms/step - accuracy: 0.8024 - loss: 0.5603 - val_accuracy: 0.6322 - val_loss: 1.0816\n",
            "Epoch 42/300\n",
            "\u001b[1m225/225\u001b[0m \u001b[32m━━━━━━━━━━━━━━━━━━━━\u001b[0m\u001b[37m\u001b[0m \u001b[1m10s\u001b[0m 42ms/step - accuracy: 0.8066 - loss: 0.5498 - val_accuracy: 0.6342 - val_loss: 1.0770\n",
            "Epoch 43/300\n",
            "\u001b[1m225/225\u001b[0m \u001b[32m━━━━━━━━━━━━━━━━━━━━\u001b[0m\u001b[37m\u001b[0m \u001b[1m10s\u001b[0m 43ms/step - accuracy: 0.8069 - loss: 0.5537 - val_accuracy: 0.6368 - val_loss: 1.0741\n",
            "Epoch 44/300\n",
            "\u001b[1m225/225\u001b[0m \u001b[32m━━━━━━━━━━━━━━━━━━━━\u001b[0m\u001b[37m\u001b[0m \u001b[1m10s\u001b[0m 43ms/step - accuracy: 0.8045 - loss: 0.5570 - val_accuracy: 0.6350 - val_loss: 1.0737\n",
            "Epoch 45/300\n",
            "\u001b[1m225/225\u001b[0m \u001b[32m━━━━━━━━━━━━━━━━━━━━\u001b[0m\u001b[37m\u001b[0m \u001b[1m10s\u001b[0m 42ms/step - accuracy: 0.8073 - loss: 0.5607 - val_accuracy: 0.6368 - val_loss: 1.0927\n",
            "Epoch 46/300\n",
            "\u001b[1m225/225\u001b[0m \u001b[32m━━━━━━━━━━━━━━━━━━━━\u001b[0m\u001b[37m\u001b[0m \u001b[1m10s\u001b[0m 43ms/step - accuracy: 0.8071 - loss: 0.5579 - val_accuracy: 0.6386 - val_loss: 1.0662\n",
            "Epoch 47/300\n",
            "\u001b[1m225/225\u001b[0m \u001b[32m━━━━━━━━━━━━━━━━━━━━\u001b[0m\u001b[37m\u001b[0m \u001b[1m10s\u001b[0m 42ms/step - accuracy: 0.8075 - loss: 0.5477 - val_accuracy: 0.6346 - val_loss: 1.0785\n",
            "Epoch 48/300\n",
            "\u001b[1m225/225\u001b[0m \u001b[32m━━━━━━━━━━━━━━━━━━━━\u001b[0m\u001b[37m\u001b[0m \u001b[1m10s\u001b[0m 42ms/step - accuracy: 0.8092 - loss: 0.5529 - val_accuracy: 0.6369 - val_loss: 1.0940\n",
            "Epoch 49/300\n",
            "\u001b[1m225/225\u001b[0m \u001b[32m━━━━━━━━━━━━━━━━━━━━\u001b[0m\u001b[37m\u001b[0m \u001b[1m10s\u001b[0m 43ms/step - accuracy: 0.8107 - loss: 0.5339 - val_accuracy: 0.6326 - val_loss: 1.0781\n",
            "Epoch 50/300\n",
            "\u001b[1m225/225\u001b[0m \u001b[32m━━━━━━━━━━━━━━━━━━━━\u001b[0m\u001b[37m\u001b[0m \u001b[1m10s\u001b[0m 42ms/step - accuracy: 0.8077 - loss: 0.5565 - val_accuracy: 0.6371 - val_loss: 1.0744\n",
            "Epoch 51/300\n",
            "\u001b[1m225/225\u001b[0m \u001b[32m━━━━━━━━━━━━━━━━━━━━\u001b[0m\u001b[37m\u001b[0m \u001b[1m10s\u001b[0m 43ms/step - accuracy: 0.8102 - loss: 0.5425 - val_accuracy: 0.6364 - val_loss: 1.0846\n",
            "Epoch 52/300\n",
            "\u001b[1m225/225\u001b[0m \u001b[32m━━━━━━━━━━━━━━━━━━━━\u001b[0m\u001b[37m\u001b[0m \u001b[1m10s\u001b[0m 43ms/step - accuracy: 0.8102 - loss: 0.5476 - val_accuracy: 0.6360 - val_loss: 1.0839\n",
            "Epoch 53/300\n",
            "\u001b[1m225/225\u001b[0m \u001b[32m━━━━━━━━━━━━━━━━━━━━\u001b[0m\u001b[37m\u001b[0m \u001b[1m10s\u001b[0m 42ms/step - accuracy: 0.8144 - loss: 0.5353 - val_accuracy: 0.6360 - val_loss: 1.1071\n",
            "Epoch 54/300\n",
            "\u001b[1m225/225\u001b[0m \u001b[32m━━━━━━━━━━━━━━━━━━━━\u001b[0m\u001b[37m\u001b[0m \u001b[1m10s\u001b[0m 43ms/step - accuracy: 0.8087 - loss: 0.5430 - val_accuracy: 0.6329 - val_loss: 1.1114\n",
            "Epoch 55/300\n",
            "\u001b[1m225/225\u001b[0m \u001b[32m━━━━━━━━━━━━━━━━━━━━\u001b[0m\u001b[37m\u001b[0m \u001b[1m10s\u001b[0m 45ms/step - accuracy: 0.8143 - loss: 0.5404 - val_accuracy: 0.6321 - val_loss: 1.0805\n",
            "Epoch 56/300\n",
            "\u001b[1m225/225\u001b[0m \u001b[32m━━━━━━━━━━━━━━━━━━━━\u001b[0m\u001b[37m\u001b[0m \u001b[1m10s\u001b[0m 42ms/step - accuracy: 0.8102 - loss: 0.5421 - val_accuracy: 0.6381 - val_loss: 1.1033\n",
            "Epoch 57/300\n",
            "\u001b[1m225/225\u001b[0m \u001b[32m━━━━━━━━━━━━━━━━━━━━\u001b[0m\u001b[37m\u001b[0m \u001b[1m10s\u001b[0m 43ms/step - accuracy: 0.8158 - loss: 0.5290 - val_accuracy: 0.6321 - val_loss: 1.1013\n",
            "Epoch 58/300\n",
            "\u001b[1m225/225\u001b[0m \u001b[32m━━━━━━━━━━━━━━━━━━━━\u001b[0m\u001b[37m\u001b[0m \u001b[1m10s\u001b[0m 42ms/step - accuracy: 0.8183 - loss: 0.5297 - val_accuracy: 0.6332 - val_loss: 1.0900\n",
            "Epoch 59/300\n",
            "\u001b[1m225/225\u001b[0m \u001b[32m━━━━━━━━━━━━━━━━━━━━\u001b[0m\u001b[37m\u001b[0m \u001b[1m10s\u001b[0m 43ms/step - accuracy: 0.8172 - loss: 0.5313 - val_accuracy: 0.6339 - val_loss: 1.0962\n",
            "Epoch 60/300\n",
            "\u001b[1m225/225\u001b[0m \u001b[32m━━━━━━━━━━━━━━━━━━━━\u001b[0m\u001b[37m\u001b[0m \u001b[1m10s\u001b[0m 42ms/step - accuracy: 0.8210 - loss: 0.5057 - val_accuracy: 0.6350 - val_loss: 1.0647\n",
            "Epoch 61/300\n",
            "\u001b[1m225/225\u001b[0m \u001b[32m━━━━━━━━━━━━━━━━━━━━\u001b[0m\u001b[37m\u001b[0m \u001b[1m10s\u001b[0m 43ms/step - accuracy: 0.8231 - loss: 0.5206 - val_accuracy: 0.6315 - val_loss: 1.1135\n",
            "Epoch 62/300\n",
            "\u001b[1m225/225\u001b[0m \u001b[32m━━━━━━━━━━━━━━━━━━━━\u001b[0m\u001b[37m\u001b[0m \u001b[1m10s\u001b[0m 43ms/step - accuracy: 0.8188 - loss: 0.5272 - val_accuracy: 0.6314 - val_loss: 1.0827\n",
            "Epoch 63/300\n",
            "\u001b[1m225/225\u001b[0m \u001b[32m━━━━━━━━━━━━━━━━━━━━\u001b[0m\u001b[37m\u001b[0m \u001b[1m10s\u001b[0m 42ms/step - accuracy: 0.8191 - loss: 0.5185 - val_accuracy: 0.6330 - val_loss: 1.0949\n",
            "Epoch 64/300\n",
            "\u001b[1m225/225\u001b[0m \u001b[32m━━━━━━━━━━━━━━━━━━━━\u001b[0m\u001b[37m\u001b[0m \u001b[1m10s\u001b[0m 43ms/step - accuracy: 0.8171 - loss: 0.5210 - val_accuracy: 0.6325 - val_loss: 1.0772\n",
            "Epoch 65/300\n",
            "\u001b[1m225/225\u001b[0m \u001b[32m━━━━━━━━━━━━━━━━━━━━\u001b[0m\u001b[37m\u001b[0m \u001b[1m10s\u001b[0m 43ms/step - accuracy: 0.8196 - loss: 0.5197 - val_accuracy: 0.6300 - val_loss: 1.0878\n",
            "Epoch 66/300\n",
            "\u001b[1m225/225\u001b[0m \u001b[32m━━━━━━━━━━━━━━━━━━━━\u001b[0m\u001b[37m\u001b[0m \u001b[1m10s\u001b[0m 42ms/step - accuracy: 0.8209 - loss: 0.5217 - val_accuracy: 0.6386 - val_loss: 1.0999\n",
            "Epoch 67/300\n",
            "\u001b[1m225/225\u001b[0m \u001b[32m━━━━━━━━━━━━━━━━━━━━\u001b[0m\u001b[37m\u001b[0m \u001b[1m10s\u001b[0m 43ms/step - accuracy: 0.8248 - loss: 0.5145 - val_accuracy: 0.6326 - val_loss: 1.0986\n",
            "Epoch 68/300\n",
            "\u001b[1m225/225\u001b[0m \u001b[32m━━━━━━━━━━━━━━━━━━━━\u001b[0m\u001b[37m\u001b[0m \u001b[1m10s\u001b[0m 42ms/step - accuracy: 0.8208 - loss: 0.5136 - val_accuracy: 0.6406 - val_loss: 1.1096\n",
            "Epoch 69/300\n",
            "\u001b[1m225/225\u001b[0m \u001b[32m━━━━━━━━━━━━━━━━━━━━\u001b[0m\u001b[37m\u001b[0m \u001b[1m10s\u001b[0m 43ms/step - accuracy: 0.8221 - loss: 0.5154 - val_accuracy: 0.6354 - val_loss: 1.1020\n",
            "Epoch 70/300\n",
            "\u001b[1m225/225\u001b[0m \u001b[32m━━━━━━━━━━━━━━━━━━━━\u001b[0m\u001b[37m\u001b[0m \u001b[1m10s\u001b[0m 43ms/step - accuracy: 0.8214 - loss: 0.5138 - val_accuracy: 0.6339 - val_loss: 1.0987\n",
            "Epoch 71/300\n",
            "\u001b[1m225/225\u001b[0m \u001b[32m━━━━━━━━━━━━━━━━━━━━\u001b[0m\u001b[37m\u001b[0m \u001b[1m10s\u001b[0m 42ms/step - accuracy: 0.8223 - loss: 0.5071 - val_accuracy: 0.6403 - val_loss: 1.1177\n",
            "Epoch 72/300\n",
            "\u001b[1m225/225\u001b[0m \u001b[32m━━━━━━━━━━━━━━━━━━━━\u001b[0m\u001b[37m\u001b[0m \u001b[1m10s\u001b[0m 46ms/step - accuracy: 0.8289 - loss: 0.4978 - val_accuracy: 0.6441 - val_loss: 1.1270\n",
            "Epoch 73/300\n",
            "\u001b[1m225/225\u001b[0m \u001b[32m━━━━━━━━━━━━━━━━━━━━\u001b[0m\u001b[37m\u001b[0m \u001b[1m21s\u001b[0m 47ms/step - accuracy: 0.8211 - loss: 0.5086 - val_accuracy: 0.6371 - val_loss: 1.1052\n",
            "Epoch 74/300\n",
            "\u001b[1m225/225\u001b[0m \u001b[32m━━━━━━━━━━━━━━━━━━━━\u001b[0m\u001b[37m\u001b[0m \u001b[1m11s\u001b[0m 47ms/step - accuracy: 0.8224 - loss: 0.5055 - val_accuracy: 0.6399 - val_loss: 1.0960\n",
            "Epoch 75/300\n",
            "\u001b[1m225/225\u001b[0m \u001b[32m━━━━━━━━━━━━━━━━━━━━\u001b[0m\u001b[37m\u001b[0m \u001b[1m10s\u001b[0m 44ms/step - accuracy: 0.8304 - loss: 0.5007 - val_accuracy: 0.6392 - val_loss: 1.0900\n",
            "Epoch 76/300\n",
            "\u001b[1m225/225\u001b[0m \u001b[32m━━━━━━━━━━━━━━━━━━━━\u001b[0m\u001b[37m\u001b[0m \u001b[1m10s\u001b[0m 43ms/step - accuracy: 0.8268 - loss: 0.4991 - val_accuracy: 0.6357 - val_loss: 1.1078\n",
            "Epoch 77/300\n",
            "\u001b[1m225/225\u001b[0m \u001b[32m━━━━━━━━━━━━━━━━━━━━\u001b[0m\u001b[37m\u001b[0m \u001b[1m10s\u001b[0m 43ms/step - accuracy: 0.8302 - loss: 0.4872 - val_accuracy: 0.6381 - val_loss: 1.0869\n",
            "Epoch 78/300\n",
            "\u001b[1m225/225\u001b[0m \u001b[32m━━━━━━━━━━━━━━━━━━━━\u001b[0m\u001b[37m\u001b[0m \u001b[1m10s\u001b[0m 44ms/step - accuracy: 0.8278 - loss: 0.4981 - val_accuracy: 0.6432 - val_loss: 1.1044\n",
            "Epoch 79/300\n",
            "\u001b[1m225/225\u001b[0m \u001b[32m━━━━━━━━━━━━━━━━━━━━\u001b[0m\u001b[37m\u001b[0m \u001b[1m11s\u001b[0m 50ms/step - accuracy: 0.8328 - loss: 0.4791 - val_accuracy: 0.6396 - val_loss: 1.1285\n",
            "Epoch 80/300\n",
            "\u001b[1m225/225\u001b[0m \u001b[32m━━━━━━━━━━━━━━━━━━━━\u001b[0m\u001b[37m\u001b[0m \u001b[1m19s\u001b[0m 44ms/step - accuracy: 0.8321 - loss: 0.4821 - val_accuracy: 0.6428 - val_loss: 1.1079\n",
            "Epoch 81/300\n",
            "\u001b[1m225/225\u001b[0m \u001b[32m━━━━━━━━━━━━━━━━━━━━\u001b[0m\u001b[37m\u001b[0m \u001b[1m10s\u001b[0m 43ms/step - accuracy: 0.8275 - loss: 0.4940 - val_accuracy: 0.6397 - val_loss: 1.0969\n",
            "Epoch 82/300\n",
            "\u001b[1m225/225\u001b[0m \u001b[32m━━━━━━━━━━━━━━━━━━━━\u001b[0m\u001b[37m\u001b[0m \u001b[1m10s\u001b[0m 43ms/step - accuracy: 0.8338 - loss: 0.4799 - val_accuracy: 0.6351 - val_loss: 1.1130\n",
            "Epoch 83/300\n",
            "\u001b[1m225/225\u001b[0m \u001b[32m━━━━━━━━━━━━━━━━━━━━\u001b[0m\u001b[37m\u001b[0m \u001b[1m10s\u001b[0m 43ms/step - accuracy: 0.8298 - loss: 0.4887 - val_accuracy: 0.6424 - val_loss: 1.1031\n",
            "Epoch 84/300\n",
            "\u001b[1m225/225\u001b[0m \u001b[32m━━━━━━━━━━━━━━━━━━━━\u001b[0m\u001b[37m\u001b[0m \u001b[1m10s\u001b[0m 43ms/step - accuracy: 0.8318 - loss: 0.4891 - val_accuracy: 0.6420 - val_loss: 1.1032\n",
            "Epoch 85/300\n",
            "\u001b[1m225/225\u001b[0m \u001b[32m━━━━━━━━━━━━━━━━━━━━\u001b[0m\u001b[37m\u001b[0m \u001b[1m10s\u001b[0m 43ms/step - accuracy: 0.8384 - loss: 0.4790 - val_accuracy: 0.6350 - val_loss: 1.1076\n",
            "Epoch 86/300\n",
            "\u001b[1m225/225\u001b[0m \u001b[32m━━━━━━━━━━━━━━━━━━━━\u001b[0m\u001b[37m\u001b[0m \u001b[1m10s\u001b[0m 43ms/step - accuracy: 0.8327 - loss: 0.4826 - val_accuracy: 0.6326 - val_loss: 1.1294\n",
            "Epoch 87/300\n",
            "\u001b[1m225/225\u001b[0m \u001b[32m━━━━━━━━━━━━━━━━━━━━\u001b[0m\u001b[37m\u001b[0m \u001b[1m9s\u001b[0m 42ms/step - accuracy: 0.8300 - loss: 0.4851 - val_accuracy: 0.6367 - val_loss: 1.1339\n",
            "Epoch 88/300\n",
            "\u001b[1m225/225\u001b[0m \u001b[32m━━━━━━━━━━━━━━━━━━━━\u001b[0m\u001b[37m\u001b[0m \u001b[1m10s\u001b[0m 43ms/step - accuracy: 0.8336 - loss: 0.4845 - val_accuracy: 0.6362 - val_loss: 1.1266\n",
            "Epoch 89/300\n",
            "\u001b[1m225/225\u001b[0m \u001b[32m━━━━━━━━━━━━━━━━━━━━\u001b[0m\u001b[37m\u001b[0m \u001b[1m10s\u001b[0m 46ms/step - accuracy: 0.8363 - loss: 0.4737 - val_accuracy: 0.6372 - val_loss: 1.0985\n",
            "Epoch 90/300\n",
            "\u001b[1m225/225\u001b[0m \u001b[32m━━━━━━━━━━━━━━━━━━━━\u001b[0m\u001b[37m\u001b[0m \u001b[1m21s\u001b[0m 46ms/step - accuracy: 0.8300 - loss: 0.4943 - val_accuracy: 0.6333 - val_loss: 1.1200\n",
            "Epoch 91/300\n",
            "\u001b[1m225/225\u001b[0m \u001b[32m━━━━━━━━━━━━━━━━━━━━\u001b[0m\u001b[37m\u001b[0m \u001b[1m10s\u001b[0m 43ms/step - accuracy: 0.8387 - loss: 0.4707 - val_accuracy: 0.6397 - val_loss: 1.1009\n",
            "Epoch 92/300\n",
            "\u001b[1m225/225\u001b[0m \u001b[32m━━━━━━━━━━━━━━━━━━━━\u001b[0m\u001b[37m\u001b[0m \u001b[1m10s\u001b[0m 43ms/step - accuracy: 0.8329 - loss: 0.4836 - val_accuracy: 0.6381 - val_loss: 1.1161\n",
            "Epoch 93/300\n",
            "\u001b[1m225/225\u001b[0m \u001b[32m━━━━━━━━━━━━━━━━━━━━\u001b[0m\u001b[37m\u001b[0m \u001b[1m10s\u001b[0m 43ms/step - accuracy: 0.8366 - loss: 0.4728 - val_accuracy: 0.6386 - val_loss: 1.1710\n",
            "Epoch 94/300\n",
            "\u001b[1m225/225\u001b[0m \u001b[32m━━━━━━━━━━━━━━━━━━━━\u001b[0m\u001b[37m\u001b[0m \u001b[1m10s\u001b[0m 42ms/step - accuracy: 0.8348 - loss: 0.4742 - val_accuracy: 0.6400 - val_loss: 1.1243\n",
            "Epoch 95/300\n",
            "\u001b[1m225/225\u001b[0m \u001b[32m━━━━━━━━━━━━━━━━━━━━\u001b[0m\u001b[37m\u001b[0m \u001b[1m10s\u001b[0m 42ms/step - accuracy: 0.8355 - loss: 0.4675 - val_accuracy: 0.6383 - val_loss: 1.1243\n",
            "Epoch 96/300\n",
            "\u001b[1m225/225\u001b[0m \u001b[32m━━━━━━━━━━━━━━━━━━━━\u001b[0m\u001b[37m\u001b[0m \u001b[1m10s\u001b[0m 43ms/step - accuracy: 0.8440 - loss: 0.4683 - val_accuracy: 0.6361 - val_loss: 1.1175\n",
            "Epoch 97/300\n",
            "\u001b[1m225/225\u001b[0m \u001b[32m━━━━━━━━━━━━━━━━━━━━\u001b[0m\u001b[37m\u001b[0m \u001b[1m10s\u001b[0m 43ms/step - accuracy: 0.8388 - loss: 0.4681 - val_accuracy: 0.6335 - val_loss: 1.1236\n",
            "Epoch 98/300\n",
            "\u001b[1m225/225\u001b[0m \u001b[32m━━━━━━━━━━━━━━━━━━━━\u001b[0m\u001b[37m\u001b[0m \u001b[1m10s\u001b[0m 43ms/step - accuracy: 0.8381 - loss: 0.4718 - val_accuracy: 0.6353 - val_loss: 1.1188\n",
            "Epoch 99/300\n",
            "\u001b[1m225/225\u001b[0m \u001b[32m━━━━━━━━━━━━━━━━━━━━\u001b[0m\u001b[37m\u001b[0m \u001b[1m10s\u001b[0m 42ms/step - accuracy: 0.8423 - loss: 0.4581 - val_accuracy: 0.6340 - val_loss: 1.1218\n",
            "Epoch 100/300\n",
            "\u001b[1m225/225\u001b[0m \u001b[32m━━━━━━━━━━━━━━━━━━━━\u001b[0m\u001b[37m\u001b[0m \u001b[1m10s\u001b[0m 43ms/step - accuracy: 0.8468 - loss: 0.4437 - val_accuracy: 0.6381 - val_loss: 1.1099\n",
            "Epoch 101/300\n",
            "\u001b[1m225/225\u001b[0m \u001b[32m━━━━━━━━━━━━━━━━━━━━\u001b[0m\u001b[37m\u001b[0m \u001b[1m10s\u001b[0m 43ms/step - accuracy: 0.8450 - loss: 0.4584 - val_accuracy: 0.6356 - val_loss: 1.1403\n",
            "Epoch 102/300\n",
            "\u001b[1m225/225\u001b[0m \u001b[32m━━━━━━━━━━━━━━━━━━━━\u001b[0m\u001b[37m\u001b[0m \u001b[1m10s\u001b[0m 42ms/step - accuracy: 0.8439 - loss: 0.4698 - val_accuracy: 0.6339 - val_loss: 1.1347\n",
            "Epoch 103/300\n",
            "\u001b[1m225/225\u001b[0m \u001b[32m━━━━━━━━━━━━━━━━━━━━\u001b[0m\u001b[37m\u001b[0m \u001b[1m10s\u001b[0m 43ms/step - accuracy: 0.8392 - loss: 0.4632 - val_accuracy: 0.6393 - val_loss: 1.1414\n",
            "Epoch 104/300\n",
            "\u001b[1m225/225\u001b[0m \u001b[32m━━━━━━━━━━━━━━━━━━━━\u001b[0m\u001b[37m\u001b[0m \u001b[1m10s\u001b[0m 43ms/step - accuracy: 0.8414 - loss: 0.4656 - val_accuracy: 0.6360 - val_loss: 1.1092\n",
            "Epoch 105/300\n",
            "\u001b[1m225/225\u001b[0m \u001b[32m━━━━━━━━━━━━━━━━━━━━\u001b[0m\u001b[37m\u001b[0m \u001b[1m10s\u001b[0m 43ms/step - accuracy: 0.8454 - loss: 0.4601 - val_accuracy: 0.6308 - val_loss: 1.1259\n",
            "Epoch 106/300\n",
            "\u001b[1m225/225\u001b[0m \u001b[32m━━━━━━━━━━━━━━━━━━━━\u001b[0m\u001b[37m\u001b[0m \u001b[1m10s\u001b[0m 43ms/step - accuracy: 0.8424 - loss: 0.4619 - val_accuracy: 0.6375 - val_loss: 1.1554\n",
            "Epoch 107/300\n",
            "\u001b[1m225/225\u001b[0m \u001b[32m━━━━━━━━━━━━━━━━━━━━\u001b[0m\u001b[37m\u001b[0m \u001b[1m10s\u001b[0m 43ms/step - accuracy: 0.8405 - loss: 0.4702 - val_accuracy: 0.6441 - val_loss: 1.1135\n",
            "Epoch 108/300\n",
            "\u001b[1m225/225\u001b[0m \u001b[32m━━━━━━━━━━━━━━━━━━━━\u001b[0m\u001b[37m\u001b[0m \u001b[1m10s\u001b[0m 43ms/step - accuracy: 0.8473 - loss: 0.4494 - val_accuracy: 0.6414 - val_loss: 1.1229\n",
            "Epoch 109/300\n",
            "\u001b[1m225/225\u001b[0m \u001b[32m━━━━━━━━━━━━━━━━━━━━\u001b[0m\u001b[37m\u001b[0m \u001b[1m10s\u001b[0m 43ms/step - accuracy: 0.8458 - loss: 0.4446 - val_accuracy: 0.6382 - val_loss: 1.1209\n",
            "Epoch 110/300\n",
            "\u001b[1m225/225\u001b[0m \u001b[32m━━━━━━━━━━━━━━━━━━━━\u001b[0m\u001b[37m\u001b[0m \u001b[1m10s\u001b[0m 43ms/step - accuracy: 0.8423 - loss: 0.4611 - val_accuracy: 0.6350 - val_loss: 1.1429\n",
            "Epoch 111/300\n",
            "\u001b[1m225/225\u001b[0m \u001b[32m━━━━━━━━━━━━━━━━━━━━\u001b[0m\u001b[37m\u001b[0m \u001b[1m10s\u001b[0m 43ms/step - accuracy: 0.8497 - loss: 0.4459 - val_accuracy: 0.6369 - val_loss: 1.1524\n",
            "Epoch 112/300\n",
            "\u001b[1m225/225\u001b[0m \u001b[32m━━━━━━━━━━━━━━━━━━━━\u001b[0m\u001b[37m\u001b[0m \u001b[1m10s\u001b[0m 43ms/step - accuracy: 0.8422 - loss: 0.4564 - val_accuracy: 0.6361 - val_loss: 1.1133\n",
            "Epoch 113/300\n",
            "\u001b[1m225/225\u001b[0m \u001b[32m━━━━━━━━━━━━━━━━━━━━\u001b[0m\u001b[37m\u001b[0m \u001b[1m10s\u001b[0m 43ms/step - accuracy: 0.8509 - loss: 0.4390 - val_accuracy: 0.6381 - val_loss: 1.1421\n",
            "Epoch 114/300\n",
            "\u001b[1m225/225\u001b[0m \u001b[32m━━━━━━━━━━━━━━━━━━━━\u001b[0m\u001b[37m\u001b[0m \u001b[1m10s\u001b[0m 43ms/step - accuracy: 0.8394 - loss: 0.4650 - val_accuracy: 0.6392 - val_loss: 1.1082\n",
            "Epoch 115/300\n",
            "\u001b[1m225/225\u001b[0m \u001b[32m━━━━━━━━━━━━━━━━━━━━\u001b[0m\u001b[37m\u001b[0m \u001b[1m10s\u001b[0m 43ms/step - accuracy: 0.8448 - loss: 0.4590 - val_accuracy: 0.6381 - val_loss: 1.1519\n",
            "Epoch 116/300\n",
            "\u001b[1m225/225\u001b[0m \u001b[32m━━━━━━━━━━━━━━━━━━━━\u001b[0m\u001b[37m\u001b[0m \u001b[1m10s\u001b[0m 43ms/step - accuracy: 0.8465 - loss: 0.4444 - val_accuracy: 0.6396 - val_loss: 1.1238\n",
            "Epoch 117/300\n",
            "\u001b[1m225/225\u001b[0m \u001b[32m━━━━━━━━━━━━━━━━━━━━\u001b[0m\u001b[37m\u001b[0m \u001b[1m10s\u001b[0m 42ms/step - accuracy: 0.8549 - loss: 0.4409 - val_accuracy: 0.6431 - val_loss: 1.1635\n",
            "Epoch 118/300\n",
            "\u001b[1m225/225\u001b[0m \u001b[32m━━━━━━━━━━━━━━━━━━━━\u001b[0m\u001b[37m\u001b[0m \u001b[1m10s\u001b[0m 43ms/step - accuracy: 0.8430 - loss: 0.4580 - val_accuracy: 0.6336 - val_loss: 1.1257\n",
            "Epoch 119/300\n",
            "\u001b[1m225/225\u001b[0m \u001b[32m━━━━━━━━━━━━━━━━━━━━\u001b[0m\u001b[37m\u001b[0m \u001b[1m10s\u001b[0m 42ms/step - accuracy: 0.8560 - loss: 0.4256 - val_accuracy: 0.6421 - val_loss: 1.1749\n",
            "Epoch 120/300\n",
            "\u001b[1m225/225\u001b[0m \u001b[32m━━━━━━━━━━━━━━━━━━━━\u001b[0m\u001b[37m\u001b[0m \u001b[1m10s\u001b[0m 43ms/step - accuracy: 0.8510 - loss: 0.4392 - val_accuracy: 0.6406 - val_loss: 1.1629\n",
            "Epoch 121/300\n",
            "\u001b[1m225/225\u001b[0m \u001b[32m━━━━━━━━━━━━━━━━━━━━\u001b[0m\u001b[37m\u001b[0m \u001b[1m10s\u001b[0m 43ms/step - accuracy: 0.8507 - loss: 0.4359 - val_accuracy: 0.6356 - val_loss: 1.1514\n",
            "Epoch 122/300\n",
            "\u001b[1m225/225\u001b[0m \u001b[32m━━━━━━━━━━━━━━━━━━━━\u001b[0m\u001b[37m\u001b[0m \u001b[1m10s\u001b[0m 43ms/step - accuracy: 0.8504 - loss: 0.4369 - val_accuracy: 0.6379 - val_loss: 1.1672\n",
            "Epoch 123/300\n",
            "\u001b[1m225/225\u001b[0m \u001b[32m━━━━━━━━━━━━━━━━━━━━\u001b[0m\u001b[37m\u001b[0m \u001b[1m10s\u001b[0m 43ms/step - accuracy: 0.8453 - loss: 0.4528 - val_accuracy: 0.6354 - val_loss: 1.1683\n",
            "Epoch 124/300\n",
            "\u001b[1m225/225\u001b[0m \u001b[32m━━━━━━━━━━━━━━━━━━━━\u001b[0m\u001b[37m\u001b[0m \u001b[1m10s\u001b[0m 46ms/step - accuracy: 0.8535 - loss: 0.4274 - val_accuracy: 0.6353 - val_loss: 1.1779\n",
            "Epoch 125/300\n",
            "\u001b[1m225/225\u001b[0m \u001b[32m━━━━━━━━━━━━━━━━━━━━\u001b[0m\u001b[37m\u001b[0m \u001b[1m20s\u001b[0m 43ms/step - accuracy: 0.8528 - loss: 0.4337 - val_accuracy: 0.6347 - val_loss: 1.1976\n",
            "Epoch 126/300\n",
            "\u001b[1m225/225\u001b[0m \u001b[32m━━━━━━━━━━━━━━━━━━━━\u001b[0m\u001b[37m\u001b[0m \u001b[1m10s\u001b[0m 43ms/step - accuracy: 0.8534 - loss: 0.4353 - val_accuracy: 0.6332 - val_loss: 1.1647\n",
            "Epoch 127/300\n",
            "\u001b[1m225/225\u001b[0m \u001b[32m━━━━━━━━━━━━━━━━━━━━\u001b[0m\u001b[37m\u001b[0m \u001b[1m10s\u001b[0m 43ms/step - accuracy: 0.8562 - loss: 0.4234 - val_accuracy: 0.6378 - val_loss: 1.1421\n",
            "Epoch 128/300\n",
            "\u001b[1m225/225\u001b[0m \u001b[32m━━━━━━━━━━━━━━━━━━━━\u001b[0m\u001b[37m\u001b[0m \u001b[1m10s\u001b[0m 44ms/step - accuracy: 0.8492 - loss: 0.4407 - val_accuracy: 0.6369 - val_loss: 1.1423\n",
            "Epoch 129/300\n",
            "\u001b[1m225/225\u001b[0m \u001b[32m━━━━━━━━━━━━━━━━━━━━\u001b[0m\u001b[37m\u001b[0m \u001b[1m10s\u001b[0m 43ms/step - accuracy: 0.8569 - loss: 0.4309 - val_accuracy: 0.6368 - val_loss: 1.1526\n",
            "Epoch 130/300\n",
            "\u001b[1m225/225\u001b[0m \u001b[32m━━━━━━━━━━━━━━━━━━━━\u001b[0m\u001b[37m\u001b[0m \u001b[1m10s\u001b[0m 43ms/step - accuracy: 0.8530 - loss: 0.4313 - val_accuracy: 0.6339 - val_loss: 1.2048\n",
            "Epoch 131/300\n",
            "\u001b[1m225/225\u001b[0m \u001b[32m━━━━━━━━━━━━━━━━━━━━\u001b[0m\u001b[37m\u001b[0m \u001b[1m12s\u001b[0m 54ms/step - accuracy: 0.8551 - loss: 0.4175 - val_accuracy: 0.6375 - val_loss: 1.1536\n",
            "Epoch 132/300\n",
            "\u001b[1m225/225\u001b[0m \u001b[32m━━━━━━━━━━━━━━━━━━━━\u001b[0m\u001b[37m\u001b[0m \u001b[1m11s\u001b[0m 47ms/step - accuracy: 0.8541 - loss: 0.4237 - val_accuracy: 0.6390 - val_loss: 1.1642\n",
            "Epoch 133/300\n",
            "\u001b[1m225/225\u001b[0m \u001b[32m━━━━━━━━━━━━━━━━━━━━\u001b[0m\u001b[37m\u001b[0m \u001b[1m10s\u001b[0m 43ms/step - accuracy: 0.8554 - loss: 0.4299 - val_accuracy: 0.6319 - val_loss: 1.1543\n",
            "Epoch 134/300\n",
            "\u001b[1m225/225\u001b[0m \u001b[32m━━━━━━━━━━━━━━━━━━━━\u001b[0m\u001b[37m\u001b[0m \u001b[1m10s\u001b[0m 46ms/step - accuracy: 0.8548 - loss: 0.4350 - val_accuracy: 0.6374 - val_loss: 1.1492\n",
            "Epoch 135/300\n",
            "\u001b[1m225/225\u001b[0m \u001b[32m━━━━━━━━━━━━━━━━━━━━\u001b[0m\u001b[37m\u001b[0m \u001b[1m10s\u001b[0m 43ms/step - accuracy: 0.8572 - loss: 0.4216 - val_accuracy: 0.6364 - val_loss: 1.1727\n",
            "Epoch 136/300\n",
            "\u001b[1m225/225\u001b[0m \u001b[32m━━━━━━━━━━━━━━━━━━━━\u001b[0m\u001b[37m\u001b[0m \u001b[1m10s\u001b[0m 43ms/step - accuracy: 0.8560 - loss: 0.4277 - val_accuracy: 0.6381 - val_loss: 1.1585\n",
            "Epoch 137/300\n",
            "\u001b[1m225/225\u001b[0m \u001b[32m━━━━━━━━━━━━━━━━━━━━\u001b[0m\u001b[37m\u001b[0m \u001b[1m10s\u001b[0m 42ms/step - accuracy: 0.8517 - loss: 0.4241 - val_accuracy: 0.6354 - val_loss: 1.1769\n",
            "Epoch 138/300\n",
            "\u001b[1m225/225\u001b[0m \u001b[32m━━━━━━━━━━━━━━━━━━━━\u001b[0m\u001b[37m\u001b[0m \u001b[1m10s\u001b[0m 43ms/step - accuracy: 0.8599 - loss: 0.4032 - val_accuracy: 0.6361 - val_loss: 1.1778\n",
            "Epoch 139/300\n",
            "\u001b[1m225/225\u001b[0m \u001b[32m━━━━━━━━━━━━━━━━━━━━\u001b[0m\u001b[37m\u001b[0m \u001b[1m10s\u001b[0m 43ms/step - accuracy: 0.8602 - loss: 0.4107 - val_accuracy: 0.6374 - val_loss: 1.1757\n",
            "Epoch 140/300\n",
            "\u001b[1m225/225\u001b[0m \u001b[32m━━━━━━━━━━━━━━━━━━━━\u001b[0m\u001b[37m\u001b[0m \u001b[1m10s\u001b[0m 43ms/step - accuracy: 0.8624 - loss: 0.4184 - val_accuracy: 0.6332 - val_loss: 1.1808\n",
            "Epoch 141/300\n",
            "\u001b[1m225/225\u001b[0m \u001b[32m━━━━━━━━━━━━━━━━━━━━\u001b[0m\u001b[37m\u001b[0m \u001b[1m10s\u001b[0m 43ms/step - accuracy: 0.8555 - loss: 0.4231 - val_accuracy: 0.6396 - val_loss: 1.2083\n",
            "Epoch 142/300\n",
            "\u001b[1m225/225\u001b[0m \u001b[32m━━━━━━━━━━━━━━━━━━━━\u001b[0m\u001b[37m\u001b[0m \u001b[1m10s\u001b[0m 44ms/step - accuracy: 0.8583 - loss: 0.4226 - val_accuracy: 0.6344 - val_loss: 1.1443\n",
            "Epoch 143/300\n",
            "\u001b[1m225/225\u001b[0m \u001b[32m━━━━━━━━━━━━━━━━━━━━\u001b[0m\u001b[37m\u001b[0m \u001b[1m10s\u001b[0m 43ms/step - accuracy: 0.8535 - loss: 0.4300 - val_accuracy: 0.6368 - val_loss: 1.1580\n",
            "Epoch 144/300\n",
            "\u001b[1m225/225\u001b[0m \u001b[32m━━━━━━━━━━━━━━━━━━━━\u001b[0m\u001b[37m\u001b[0m \u001b[1m10s\u001b[0m 43ms/step - accuracy: 0.8601 - loss: 0.4294 - val_accuracy: 0.6379 - val_loss: 1.1742\n",
            "Epoch 145/300\n",
            "\u001b[1m225/225\u001b[0m \u001b[32m━━━━━━━━━━━━━━━━━━━━\u001b[0m\u001b[37m\u001b[0m \u001b[1m10s\u001b[0m 43ms/step - accuracy: 0.8639 - loss: 0.4064 - val_accuracy: 0.6378 - val_loss: 1.2034\n",
            "Epoch 146/300\n",
            "\u001b[1m225/225\u001b[0m \u001b[32m━━━━━━━━━━━━━━━━━━━━\u001b[0m\u001b[37m\u001b[0m \u001b[1m10s\u001b[0m 44ms/step - accuracy: 0.8644 - loss: 0.4014 - val_accuracy: 0.6333 - val_loss: 1.1883\n",
            "Epoch 147/300\n",
            "\u001b[1m225/225\u001b[0m \u001b[32m━━━━━━━━━━━━━━━━━━━━\u001b[0m\u001b[37m\u001b[0m \u001b[1m10s\u001b[0m 43ms/step - accuracy: 0.8647 - loss: 0.4198 - val_accuracy: 0.6337 - val_loss: 1.1940\n",
            "Epoch 148/300\n",
            "\u001b[1m225/225\u001b[0m \u001b[32m━━━━━━━━━━━━━━━━━━━━\u001b[0m\u001b[37m\u001b[0m \u001b[1m11s\u001b[0m 45ms/step - accuracy: 0.8606 - loss: 0.4168 - val_accuracy: 0.6381 - val_loss: 1.2018\n",
            "Epoch 149/300\n",
            "\u001b[1m225/225\u001b[0m \u001b[32m━━━━━━━━━━━━━━━━━━━━\u001b[0m\u001b[37m\u001b[0m \u001b[1m10s\u001b[0m 43ms/step - accuracy: 0.8587 - loss: 0.4266 - val_accuracy: 0.6339 - val_loss: 1.1903\n",
            "Epoch 150/300\n",
            "\u001b[1m225/225\u001b[0m \u001b[32m━━━━━━━━━━━━━━━━━━━━\u001b[0m\u001b[37m\u001b[0m \u001b[1m10s\u001b[0m 43ms/step - accuracy: 0.8545 - loss: 0.4337 - val_accuracy: 0.6336 - val_loss: 1.1926\n",
            "Epoch 151/300\n",
            "\u001b[1m225/225\u001b[0m \u001b[32m━━━━━━━━━━━━━━━━━━━━\u001b[0m\u001b[37m\u001b[0m \u001b[1m10s\u001b[0m 43ms/step - accuracy: 0.8665 - loss: 0.4082 - val_accuracy: 0.6322 - val_loss: 1.1989\n",
            "Epoch 152/300\n",
            "\u001b[1m225/225\u001b[0m \u001b[32m━━━━━━━━━━━━━━━━━━━━\u001b[0m\u001b[37m\u001b[0m \u001b[1m10s\u001b[0m 43ms/step - accuracy: 0.8629 - loss: 0.4018 - val_accuracy: 0.6349 - val_loss: 1.1901\n",
            "Epoch 153/300\n",
            "\u001b[1m225/225\u001b[0m \u001b[32m━━━━━━━━━━━━━━━━━━━━\u001b[0m\u001b[37m\u001b[0m \u001b[1m10s\u001b[0m 43ms/step - accuracy: 0.8646 - loss: 0.4094 - val_accuracy: 0.6360 - val_loss: 1.1974\n",
            "Epoch 154/300\n",
            "\u001b[1m225/225\u001b[0m \u001b[32m━━━━━━━━━━━━━━━━━━━━\u001b[0m\u001b[37m\u001b[0m \u001b[1m10s\u001b[0m 43ms/step - accuracy: 0.8611 - loss: 0.4108 - val_accuracy: 0.6365 - val_loss: 1.2064\n",
            "Epoch 155/300\n",
            "\u001b[1m225/225\u001b[0m \u001b[32m━━━━━━━━━━━━━━━━━━━━\u001b[0m\u001b[37m\u001b[0m \u001b[1m10s\u001b[0m 43ms/step - accuracy: 0.8598 - loss: 0.4024 - val_accuracy: 0.6399 - val_loss: 1.2156\n",
            "Epoch 156/300\n",
            "\u001b[1m225/225\u001b[0m \u001b[32m━━━━━━━━━━━━━━━━━━━━\u001b[0m\u001b[37m\u001b[0m \u001b[1m10s\u001b[0m 43ms/step - accuracy: 0.8659 - loss: 0.3996 - val_accuracy: 0.6332 - val_loss: 1.1589\n",
            "Epoch 157/300\n",
            "\u001b[1m225/225\u001b[0m \u001b[32m━━━━━━━━━━━━━━━━━━━━\u001b[0m\u001b[37m\u001b[0m \u001b[1m10s\u001b[0m 43ms/step - accuracy: 0.8618 - loss: 0.4079 - val_accuracy: 0.6378 - val_loss: 1.2215\n",
            "Epoch 158/300\n",
            "\u001b[1m225/225\u001b[0m \u001b[32m━━━━━━━━━━━━━━━━━━━━\u001b[0m\u001b[37m\u001b[0m \u001b[1m10s\u001b[0m 43ms/step - accuracy: 0.8643 - loss: 0.4081 - val_accuracy: 0.6365 - val_loss: 1.1988\n",
            "Epoch 159/300\n",
            "\u001b[1m225/225\u001b[0m \u001b[32m━━━━━━━━━━━━━━━━━━━━\u001b[0m\u001b[37m\u001b[0m \u001b[1m10s\u001b[0m 43ms/step - accuracy: 0.8651 - loss: 0.4109 - val_accuracy: 0.6365 - val_loss: 1.2263\n",
            "Epoch 160/300\n",
            "\u001b[1m225/225\u001b[0m \u001b[32m━━━━━━━━━━━━━━━━━━━━\u001b[0m\u001b[37m\u001b[0m \u001b[1m10s\u001b[0m 43ms/step - accuracy: 0.8699 - loss: 0.3923 - val_accuracy: 0.6315 - val_loss: 1.2193\n",
            "Epoch 161/300\n",
            "\u001b[1m225/225\u001b[0m \u001b[32m━━━━━━━━━━━━━━━━━━━━\u001b[0m\u001b[37m\u001b[0m \u001b[1m10s\u001b[0m 43ms/step - accuracy: 0.8655 - loss: 0.4161 - val_accuracy: 0.6301 - val_loss: 1.2188\n",
            "Epoch 162/300\n",
            "\u001b[1m225/225\u001b[0m \u001b[32m━━━━━━━━━━━━━━━━━━━━\u001b[0m\u001b[37m\u001b[0m \u001b[1m10s\u001b[0m 43ms/step - accuracy: 0.8662 - loss: 0.3942 - val_accuracy: 0.6293 - val_loss: 1.1653\n",
            "Epoch 163/300\n",
            "\u001b[1m225/225\u001b[0m \u001b[32m━━━━━━━━━━━━━━━━━━━━\u001b[0m\u001b[37m\u001b[0m \u001b[1m10s\u001b[0m 42ms/step - accuracy: 0.8649 - loss: 0.3996 - val_accuracy: 0.6378 - val_loss: 1.2156\n",
            "Epoch 164/300\n",
            "\u001b[1m225/225\u001b[0m \u001b[32m━━━━━━━━━━━━━━━━━━━━\u001b[0m\u001b[37m\u001b[0m \u001b[1m10s\u001b[0m 43ms/step - accuracy: 0.8695 - loss: 0.4039 - val_accuracy: 0.6361 - val_loss: 1.1922\n",
            "Epoch 165/300\n",
            "\u001b[1m225/225\u001b[0m \u001b[32m━━━━━━━━━━━━━━━━━━━━\u001b[0m\u001b[37m\u001b[0m \u001b[1m10s\u001b[0m 46ms/step - accuracy: 0.8681 - loss: 0.3988 - val_accuracy: 0.6374 - val_loss: 1.2114\n",
            "Epoch 166/300\n",
            "\u001b[1m225/225\u001b[0m \u001b[32m━━━━━━━━━━━━━━━━━━━━\u001b[0m\u001b[37m\u001b[0m \u001b[1m10s\u001b[0m 43ms/step - accuracy: 0.8681 - loss: 0.3904 - val_accuracy: 0.6346 - val_loss: 1.2260\n",
            "Epoch 167/300\n",
            "\u001b[1m225/225\u001b[0m \u001b[32m━━━━━━━━━━━━━━━━━━━━\u001b[0m\u001b[37m\u001b[0m \u001b[1m10s\u001b[0m 43ms/step - accuracy: 0.8724 - loss: 0.3903 - val_accuracy: 0.6354 - val_loss: 1.1968\n",
            "Epoch 168/300\n",
            "\u001b[1m225/225\u001b[0m \u001b[32m━━━━━━━━━━━━━━━━━━━━\u001b[0m\u001b[37m\u001b[0m \u001b[1m10s\u001b[0m 43ms/step - accuracy: 0.8720 - loss: 0.3838 - val_accuracy: 0.6294 - val_loss: 1.2279\n",
            "Epoch 169/300\n",
            "\u001b[1m225/225\u001b[0m \u001b[32m━━━━━━━━━━━━━━━━━━━━\u001b[0m\u001b[37m\u001b[0m \u001b[1m10s\u001b[0m 43ms/step - accuracy: 0.8671 - loss: 0.3988 - val_accuracy: 0.6336 - val_loss: 1.2090\n",
            "Epoch 170/300\n",
            "\u001b[1m225/225\u001b[0m \u001b[32m━━━━━━━━━━━━━━━━━━━━\u001b[0m\u001b[37m\u001b[0m \u001b[1m10s\u001b[0m 43ms/step - accuracy: 0.8661 - loss: 0.3980 - val_accuracy: 0.6330 - val_loss: 1.2375\n",
            "Epoch 171/300\n",
            "\u001b[1m225/225\u001b[0m \u001b[32m━━━━━━━━━━━━━━━━━━━━\u001b[0m\u001b[37m\u001b[0m \u001b[1m10s\u001b[0m 43ms/step - accuracy: 0.8691 - loss: 0.3994 - val_accuracy: 0.6312 - val_loss: 1.2433\n",
            "Epoch 172/300\n",
            "\u001b[1m225/225\u001b[0m \u001b[32m━━━━━━━━━━━━━━━━━━━━\u001b[0m\u001b[37m\u001b[0m \u001b[1m10s\u001b[0m 44ms/step - accuracy: 0.8659 - loss: 0.4118 - val_accuracy: 0.6342 - val_loss: 1.2075\n",
            "Epoch 173/300\n",
            "\u001b[1m225/225\u001b[0m \u001b[32m━━━━━━━━━━━━━━━━━━━━\u001b[0m\u001b[37m\u001b[0m \u001b[1m10s\u001b[0m 43ms/step - accuracy: 0.8617 - loss: 0.4085 - val_accuracy: 0.6351 - val_loss: 1.2106\n",
            "Epoch 174/300\n",
            "\u001b[1m225/225\u001b[0m \u001b[32m━━━━━━━━━━━━━━━━━━━━\u001b[0m\u001b[37m\u001b[0m \u001b[1m10s\u001b[0m 46ms/step - accuracy: 0.8700 - loss: 0.3976 - val_accuracy: 0.6326 - val_loss: 1.1859\n",
            "Epoch 175/300\n",
            "\u001b[1m225/225\u001b[0m \u001b[32m━━━━━━━━━━━━━━━━━━━━\u001b[0m\u001b[37m\u001b[0m \u001b[1m20s\u001b[0m 43ms/step - accuracy: 0.8664 - loss: 0.4033 - val_accuracy: 0.6311 - val_loss: 1.1855\n",
            "Epoch 176/300\n",
            "\u001b[1m225/225\u001b[0m \u001b[32m━━━━━━━━━━━━━━━━━━━━\u001b[0m\u001b[37m\u001b[0m \u001b[1m10s\u001b[0m 43ms/step - accuracy: 0.8658 - loss: 0.4067 - val_accuracy: 0.6319 - val_loss: 1.2715\n",
            "Epoch 177/300\n",
            "\u001b[1m225/225\u001b[0m \u001b[32m━━━━━━━━━━━━━━━━━━━━\u001b[0m\u001b[37m\u001b[0m \u001b[1m10s\u001b[0m 43ms/step - accuracy: 0.8685 - loss: 0.3760 - val_accuracy: 0.6344 - val_loss: 1.2253\n",
            "Epoch 178/300\n",
            "\u001b[1m225/225\u001b[0m \u001b[32m━━━━━━━━━━━━━━━━━━━━\u001b[0m\u001b[37m\u001b[0m \u001b[1m10s\u001b[0m 43ms/step - accuracy: 0.8730 - loss: 0.3830 - val_accuracy: 0.6329 - val_loss: 1.2065\n",
            "Epoch 179/300\n",
            "\u001b[1m225/225\u001b[0m \u001b[32m━━━━━━━━━━━━━━━━━━━━\u001b[0m\u001b[37m\u001b[0m \u001b[1m10s\u001b[0m 43ms/step - accuracy: 0.8753 - loss: 0.3854 - val_accuracy: 0.6351 - val_loss: 1.2337\n",
            "Epoch 180/300\n",
            "\u001b[1m225/225\u001b[0m \u001b[32m━━━━━━━━━━━━━━━━━━━━\u001b[0m\u001b[37m\u001b[0m \u001b[1m10s\u001b[0m 43ms/step - accuracy: 0.8702 - loss: 0.3926 - val_accuracy: 0.6314 - val_loss: 1.2009\n",
            "Epoch 181/300\n",
            "\u001b[1m225/225\u001b[0m \u001b[32m━━━━━━━━━━━━━━━━━━━━\u001b[0m\u001b[37m\u001b[0m \u001b[1m10s\u001b[0m 43ms/step - accuracy: 0.8744 - loss: 0.3752 - val_accuracy: 0.6365 - val_loss: 1.2347\n",
            "Epoch 182/300\n",
            "\u001b[1m225/225\u001b[0m \u001b[32m━━━━━━━━━━━━━━━━━━━━\u001b[0m\u001b[37m\u001b[0m \u001b[1m10s\u001b[0m 43ms/step - accuracy: 0.8722 - loss: 0.3866 - val_accuracy: 0.6339 - val_loss: 1.2209\n",
            "Epoch 183/300\n",
            "\u001b[1m225/225\u001b[0m \u001b[32m━━━━━━━━━━━━━━━━━━━━\u001b[0m\u001b[37m\u001b[0m \u001b[1m10s\u001b[0m 43ms/step - accuracy: 0.8763 - loss: 0.3811 - val_accuracy: 0.6358 - val_loss: 1.2022\n",
            "Epoch 184/300\n",
            "\u001b[1m225/225\u001b[0m \u001b[32m━━━━━━━━━━━━━━━━━━━━\u001b[0m\u001b[37m\u001b[0m \u001b[1m10s\u001b[0m 43ms/step - accuracy: 0.8704 - loss: 0.3891 - val_accuracy: 0.6325 - val_loss: 1.2564\n",
            "Epoch 185/300\n",
            "\u001b[1m225/225\u001b[0m \u001b[32m━━━━━━━━━━━━━━━━━━━━\u001b[0m\u001b[37m\u001b[0m \u001b[1m10s\u001b[0m 43ms/step - accuracy: 0.8700 - loss: 0.3946 - val_accuracy: 0.6356 - val_loss: 1.2276\n",
            "Epoch 186/300\n",
            "\u001b[1m225/225\u001b[0m \u001b[32m━━━━━━━━━━━━━━━━━━━━\u001b[0m\u001b[37m\u001b[0m \u001b[1m10s\u001b[0m 43ms/step - accuracy: 0.8707 - loss: 0.3840 - val_accuracy: 0.6375 - val_loss: 1.2162\n",
            "Epoch 187/300\n",
            "\u001b[1m225/225\u001b[0m \u001b[32m━━━━━━━━━━━━━━━━━━━━\u001b[0m\u001b[37m\u001b[0m \u001b[1m10s\u001b[0m 43ms/step - accuracy: 0.8774 - loss: 0.3681 - val_accuracy: 0.6321 - val_loss: 1.2260\n",
            "Epoch 188/300\n",
            "\u001b[1m225/225\u001b[0m \u001b[32m━━━━━━━━━━━━━━━━━━━━\u001b[0m\u001b[37m\u001b[0m \u001b[1m10s\u001b[0m 43ms/step - accuracy: 0.8778 - loss: 0.3702 - val_accuracy: 0.6389 - val_loss: 1.1968\n",
            "Epoch 189/300\n",
            "\u001b[1m225/225\u001b[0m \u001b[32m━━━━━━━━━━━━━━━━━━━━\u001b[0m\u001b[37m\u001b[0m \u001b[1m10s\u001b[0m 43ms/step - accuracy: 0.8755 - loss: 0.3759 - val_accuracy: 0.6421 - val_loss: 1.2068\n",
            "Epoch 190/300\n",
            "\u001b[1m225/225\u001b[0m \u001b[32m━━━━━━━━━━━━━━━━━━━━\u001b[0m\u001b[37m\u001b[0m \u001b[1m10s\u001b[0m 43ms/step - accuracy: 0.8749 - loss: 0.3760 - val_accuracy: 0.6332 - val_loss: 1.2611\n",
            "Epoch 191/300\n",
            "\u001b[1m225/225\u001b[0m \u001b[32m━━━━━━━━━━━━━━━━━━━━\u001b[0m\u001b[37m\u001b[0m \u001b[1m10s\u001b[0m 44ms/step - accuracy: 0.8713 - loss: 0.3886 - val_accuracy: 0.6360 - val_loss: 1.2095\n",
            "Epoch 192/300\n",
            "\u001b[1m225/225\u001b[0m \u001b[32m━━━━━━━━━━━━━━━━━━━━\u001b[0m\u001b[37m\u001b[0m \u001b[1m10s\u001b[0m 43ms/step - accuracy: 0.8747 - loss: 0.3771 - val_accuracy: 0.6356 - val_loss: 1.2045\n",
            "Epoch 193/300\n",
            "\u001b[1m225/225\u001b[0m \u001b[32m━━━━━━━━━━━━━━━━━━━━\u001b[0m\u001b[37m\u001b[0m \u001b[1m10s\u001b[0m 43ms/step - accuracy: 0.8776 - loss: 0.3672 - val_accuracy: 0.6383 - val_loss: 1.1780\n",
            "Epoch 194/300\n",
            "\u001b[1m225/225\u001b[0m \u001b[32m━━━━━━━━━━━━━━━━━━━━\u001b[0m\u001b[37m\u001b[0m \u001b[1m10s\u001b[0m 43ms/step - accuracy: 0.8767 - loss: 0.3773 - val_accuracy: 0.6374 - val_loss: 1.2729\n",
            "Epoch 195/300\n",
            "\u001b[1m225/225\u001b[0m \u001b[32m━━━━━━━━━━━━━━━━━━━━\u001b[0m\u001b[37m\u001b[0m \u001b[1m10s\u001b[0m 44ms/step - accuracy: 0.8711 - loss: 0.3719 - val_accuracy: 0.6382 - val_loss: 1.2086\n",
            "Epoch 196/300\n",
            "\u001b[1m225/225\u001b[0m \u001b[32m━━━━━━━━━━━━━━━━━━━━\u001b[0m\u001b[37m\u001b[0m \u001b[1m10s\u001b[0m 43ms/step - accuracy: 0.8774 - loss: 0.3753 - val_accuracy: 0.6329 - val_loss: 1.2333\n",
            "Epoch 197/300\n",
            "\u001b[1m225/225\u001b[0m \u001b[32m━━━━━━━━━━━━━━━━━━━━\u001b[0m\u001b[37m\u001b[0m \u001b[1m10s\u001b[0m 43ms/step - accuracy: 0.8758 - loss: 0.3757 - val_accuracy: 0.6381 - val_loss: 1.2054\n",
            "Epoch 198/300\n",
            "\u001b[1m225/225\u001b[0m \u001b[32m━━━━━━━━━━━━━━━━━━━━\u001b[0m\u001b[37m\u001b[0m \u001b[1m10s\u001b[0m 43ms/step - accuracy: 0.8700 - loss: 0.3927 - val_accuracy: 0.6308 - val_loss: 1.2432\n",
            "Epoch 199/300\n",
            "\u001b[1m225/225\u001b[0m \u001b[32m━━━━━━━━━━━━━━━━━━━━\u001b[0m\u001b[37m\u001b[0m \u001b[1m10s\u001b[0m 43ms/step - accuracy: 0.8792 - loss: 0.3718 - val_accuracy: 0.6368 - val_loss: 1.2368\n",
            "Epoch 200/300\n",
            "\u001b[1m225/225\u001b[0m \u001b[32m━━━━━━━━━━━━━━━━━━━━\u001b[0m\u001b[37m\u001b[0m \u001b[1m10s\u001b[0m 43ms/step - accuracy: 0.8769 - loss: 0.3715 - val_accuracy: 0.6330 - val_loss: 1.2626\n",
            "Epoch 201/300\n",
            "\u001b[1m225/225\u001b[0m \u001b[32m━━━━━━━━━━━━━━━━━━━━\u001b[0m\u001b[37m\u001b[0m \u001b[1m10s\u001b[0m 43ms/step - accuracy: 0.8787 - loss: 0.3702 - val_accuracy: 0.6393 - val_loss: 1.2430\n",
            "Epoch 202/300\n",
            "\u001b[1m225/225\u001b[0m \u001b[32m━━━━━━━━━━━━━━━━━━━━\u001b[0m\u001b[37m\u001b[0m \u001b[1m10s\u001b[0m 43ms/step - accuracy: 0.8808 - loss: 0.3652 - val_accuracy: 0.6284 - val_loss: 1.2378\n",
            "Epoch 203/300\n",
            "\u001b[1m225/225\u001b[0m \u001b[32m━━━━━━━━━━━━━━━━━━━━\u001b[0m\u001b[37m\u001b[0m \u001b[1m10s\u001b[0m 43ms/step - accuracy: 0.8752 - loss: 0.3680 - val_accuracy: 0.6364 - val_loss: 1.2404\n",
            "Epoch 204/300\n",
            "\u001b[1m225/225\u001b[0m \u001b[32m━━━━━━━━━━━━━━━━━━━━\u001b[0m\u001b[37m\u001b[0m \u001b[1m10s\u001b[0m 43ms/step - accuracy: 0.8791 - loss: 0.3700 - val_accuracy: 0.6410 - val_loss: 1.2287\n",
            "Epoch 205/300\n",
            "\u001b[1m225/225\u001b[0m \u001b[32m━━━━━━━━━━━━━━━━━━━━\u001b[0m\u001b[37m\u001b[0m \u001b[1m10s\u001b[0m 43ms/step - accuracy: 0.8819 - loss: 0.3663 - val_accuracy: 0.6368 - val_loss: 1.2063\n",
            "Epoch 206/300\n",
            "\u001b[1m225/225\u001b[0m \u001b[32m━━━━━━━━━━━━━━━━━━━━\u001b[0m\u001b[37m\u001b[0m \u001b[1m10s\u001b[0m 43ms/step - accuracy: 0.8796 - loss: 0.3610 - val_accuracy: 0.6379 - val_loss: 1.2510\n",
            "Epoch 207/300\n",
            "\u001b[1m225/225\u001b[0m \u001b[32m━━━━━━━━━━━━━━━━━━━━\u001b[0m\u001b[37m\u001b[0m \u001b[1m10s\u001b[0m 44ms/step - accuracy: 0.8824 - loss: 0.3598 - val_accuracy: 0.6369 - val_loss: 1.2153\n",
            "Epoch 208/300\n",
            "\u001b[1m225/225\u001b[0m \u001b[32m━━━━━━━━━━━━━━━━━━━━\u001b[0m\u001b[37m\u001b[0m \u001b[1m10s\u001b[0m 43ms/step - accuracy: 0.8797 - loss: 0.3632 - val_accuracy: 0.6347 - val_loss: 1.2592\n",
            "Epoch 209/300\n",
            "\u001b[1m225/225\u001b[0m \u001b[32m━━━━━━━━━━━━━━━━━━━━\u001b[0m\u001b[37m\u001b[0m \u001b[1m10s\u001b[0m 44ms/step - accuracy: 0.8773 - loss: 0.3750 - val_accuracy: 0.6375 - val_loss: 1.2099\n",
            "Epoch 210/300\n",
            "\u001b[1m225/225\u001b[0m \u001b[32m━━━━━━━━━━━━━━━━━━━━\u001b[0m\u001b[37m\u001b[0m \u001b[1m10s\u001b[0m 43ms/step - accuracy: 0.8762 - loss: 0.3778 - val_accuracy: 0.6388 - val_loss: 1.1920\n",
            "Epoch 211/300\n",
            "\u001b[1m225/225\u001b[0m \u001b[32m━━━━━━━━━━━━━━━━━━━━\u001b[0m\u001b[37m\u001b[0m \u001b[1m10s\u001b[0m 43ms/step - accuracy: 0.8803 - loss: 0.3578 - val_accuracy: 0.6395 - val_loss: 1.2661\n",
            "Epoch 212/300\n",
            "\u001b[1m225/225\u001b[0m \u001b[32m━━━━━━━━━━━━━━━━━━━━\u001b[0m\u001b[37m\u001b[0m \u001b[1m10s\u001b[0m 43ms/step - accuracy: 0.8792 - loss: 0.3637 - val_accuracy: 0.6364 - val_loss: 1.2368\n",
            "Epoch 213/300\n",
            "\u001b[1m225/225\u001b[0m \u001b[32m━━━━━━━━━━━━━━━━━━━━\u001b[0m\u001b[37m\u001b[0m \u001b[1m11s\u001b[0m 46ms/step - accuracy: 0.8864 - loss: 0.3495 - val_accuracy: 0.6353 - val_loss: 1.2485\n",
            "Epoch 214/300\n",
            "\u001b[1m225/225\u001b[0m \u001b[32m━━━━━━━━━━━━━━━━━━━━\u001b[0m\u001b[37m\u001b[0m \u001b[1m20s\u001b[0m 43ms/step - accuracy: 0.8771 - loss: 0.3705 - val_accuracy: 0.6365 - val_loss: 1.2079\n",
            "Epoch 215/300\n",
            "\u001b[1m225/225\u001b[0m \u001b[32m━━━━━━━━━━━━━━━━━━━━\u001b[0m\u001b[37m\u001b[0m \u001b[1m10s\u001b[0m 43ms/step - accuracy: 0.8814 - loss: 0.3576 - val_accuracy: 0.6371 - val_loss: 1.2397\n",
            "Epoch 216/300\n",
            "\u001b[1m225/225\u001b[0m \u001b[32m━━━━━━━━━━━━━━━━━━━━\u001b[0m\u001b[37m\u001b[0m \u001b[1m10s\u001b[0m 43ms/step - accuracy: 0.8877 - loss: 0.3517 - val_accuracy: 0.6342 - val_loss: 1.2198\n",
            "Epoch 217/300\n",
            "\u001b[1m225/225\u001b[0m \u001b[32m━━━━━━━━━━━━━━━━━━━━\u001b[0m\u001b[37m\u001b[0m \u001b[1m10s\u001b[0m 44ms/step - accuracy: 0.8795 - loss: 0.3762 - val_accuracy: 0.6407 - val_loss: 1.2528\n",
            "Epoch 218/300\n",
            "\u001b[1m225/225\u001b[0m \u001b[32m━━━━━━━━━━━━━━━━━━━━\u001b[0m\u001b[37m\u001b[0m \u001b[1m10s\u001b[0m 43ms/step - accuracy: 0.8824 - loss: 0.3666 - val_accuracy: 0.6365 - val_loss: 1.2938\n",
            "Epoch 219/300\n",
            "\u001b[1m225/225\u001b[0m \u001b[32m━━━━━━━━━━━━━━━━━━━━\u001b[0m\u001b[37m\u001b[0m \u001b[1m10s\u001b[0m 44ms/step - accuracy: 0.8836 - loss: 0.3576 - val_accuracy: 0.6431 - val_loss: 1.2787\n",
            "Epoch 220/300\n",
            "\u001b[1m225/225\u001b[0m \u001b[32m━━━━━━━━━━━━━━━━━━━━\u001b[0m\u001b[37m\u001b[0m \u001b[1m10s\u001b[0m 43ms/step - accuracy: 0.8848 - loss: 0.3531 - val_accuracy: 0.6427 - val_loss: 1.2611\n",
            "Epoch 221/300\n",
            "\u001b[1m225/225\u001b[0m \u001b[32m━━━━━━━━━━━━━━━━━━━━\u001b[0m\u001b[37m\u001b[0m \u001b[1m10s\u001b[0m 43ms/step - accuracy: 0.8805 - loss: 0.3694 - val_accuracy: 0.6362 - val_loss: 1.2489\n",
            "Epoch 222/300\n",
            "\u001b[1m225/225\u001b[0m \u001b[32m━━━━━━━━━━━━━━━━━━━━\u001b[0m\u001b[37m\u001b[0m \u001b[1m10s\u001b[0m 43ms/step - accuracy: 0.8814 - loss: 0.3589 - val_accuracy: 0.6379 - val_loss: 1.2460\n",
            "Epoch 223/300\n",
            "\u001b[1m225/225\u001b[0m \u001b[32m━━━━━━━━━━━━━━━━━━━━\u001b[0m\u001b[37m\u001b[0m \u001b[1m10s\u001b[0m 43ms/step - accuracy: 0.8773 - loss: 0.3709 - val_accuracy: 0.6360 - val_loss: 1.2523\n",
            "Epoch 224/300\n",
            "\u001b[1m225/225\u001b[0m \u001b[32m━━━━━━━━━━━━━━━━━━━━\u001b[0m\u001b[37m\u001b[0m \u001b[1m10s\u001b[0m 43ms/step - accuracy: 0.8828 - loss: 0.3547 - val_accuracy: 0.6351 - val_loss: 1.2900\n",
            "Epoch 225/300\n",
            "\u001b[1m225/225\u001b[0m \u001b[32m━━━━━━━━━━━━━━━━━━━━\u001b[0m\u001b[37m\u001b[0m \u001b[1m10s\u001b[0m 43ms/step - accuracy: 0.8873 - loss: 0.3466 - val_accuracy: 0.6421 - val_loss: 1.2397\n",
            "Epoch 226/300\n",
            "\u001b[1m225/225\u001b[0m \u001b[32m━━━━━━━━━━━━━━━━━━━━\u001b[0m\u001b[37m\u001b[0m \u001b[1m10s\u001b[0m 43ms/step - accuracy: 0.8781 - loss: 0.3648 - val_accuracy: 0.6308 - val_loss: 1.2860\n",
            "Epoch 227/300\n",
            "\u001b[1m225/225\u001b[0m \u001b[32m━━━━━━━━━━━━━━━━━━━━\u001b[0m\u001b[37m\u001b[0m \u001b[1m10s\u001b[0m 43ms/step - accuracy: 0.8785 - loss: 0.3685 - val_accuracy: 0.6442 - val_loss: 1.2897\n",
            "Epoch 228/300\n",
            "\u001b[1m225/225\u001b[0m \u001b[32m━━━━━━━━━━━━━━━━━━━━\u001b[0m\u001b[37m\u001b[0m \u001b[1m11s\u001b[0m 46ms/step - accuracy: 0.8834 - loss: 0.3480 - val_accuracy: 0.6392 - val_loss: 1.3034\n",
            "Epoch 229/300\n",
            "\u001b[1m225/225\u001b[0m \u001b[32m━━━━━━━━━━━━━━━━━━━━\u001b[0m\u001b[37m\u001b[0m \u001b[1m20s\u001b[0m 43ms/step - accuracy: 0.8824 - loss: 0.3575 - val_accuracy: 0.6436 - val_loss: 1.2770\n",
            "Epoch 230/300\n",
            "\u001b[1m225/225\u001b[0m \u001b[32m━━━━━━━━━━━━━━━━━━━━\u001b[0m\u001b[37m\u001b[0m \u001b[1m10s\u001b[0m 43ms/step - accuracy: 0.8888 - loss: 0.3401 - val_accuracy: 0.6386 - val_loss: 1.3096\n",
            "Epoch 231/300\n",
            "\u001b[1m225/225\u001b[0m \u001b[32m━━━━━━━━━━━━━━━━━━━━\u001b[0m\u001b[37m\u001b[0m \u001b[1m10s\u001b[0m 43ms/step - accuracy: 0.8862 - loss: 0.3571 - val_accuracy: 0.6418 - val_loss: 1.2852\n",
            "Epoch 232/300\n",
            "\u001b[1m225/225\u001b[0m \u001b[32m━━━━━━━━━━━━━━━━━━━━\u001b[0m\u001b[37m\u001b[0m \u001b[1m10s\u001b[0m 44ms/step - accuracy: 0.8821 - loss: 0.3556 - val_accuracy: 0.6392 - val_loss: 1.3032\n",
            "Epoch 233/300\n",
            "\u001b[1m225/225\u001b[0m \u001b[32m━━━━━━━━━━━━━━━━━━━━\u001b[0m\u001b[37m\u001b[0m \u001b[1m10s\u001b[0m 44ms/step - accuracy: 0.8902 - loss: 0.3368 - val_accuracy: 0.6397 - val_loss: 1.2947\n",
            "Epoch 234/300\n",
            "\u001b[1m225/225\u001b[0m \u001b[32m━━━━━━━━━━━━━━━━━━━━\u001b[0m\u001b[37m\u001b[0m \u001b[1m10s\u001b[0m 43ms/step - accuracy: 0.8890 - loss: 0.3338 - val_accuracy: 0.6326 - val_loss: 1.2806\n",
            "Epoch 235/300\n",
            "\u001b[1m225/225\u001b[0m \u001b[32m━━━━━━━━━━━━━━━━━━━━\u001b[0m\u001b[37m\u001b[0m \u001b[1m10s\u001b[0m 46ms/step - accuracy: 0.8858 - loss: 0.3509 - val_accuracy: 0.6311 - val_loss: 1.2797\n",
            "Epoch 236/300\n",
            "\u001b[1m225/225\u001b[0m \u001b[32m━━━━━━━━━━━━━━━━━━━━\u001b[0m\u001b[37m\u001b[0m \u001b[1m10s\u001b[0m 43ms/step - accuracy: 0.8825 - loss: 0.3659 - val_accuracy: 0.6397 - val_loss: 1.2597\n",
            "Epoch 237/300\n",
            "\u001b[1m225/225\u001b[0m \u001b[32m━━━━━━━━━━━━━━━━━━━━\u001b[0m\u001b[37m\u001b[0m \u001b[1m10s\u001b[0m 44ms/step - accuracy: 0.8824 - loss: 0.3551 - val_accuracy: 0.6381 - val_loss: 1.2751\n",
            "Epoch 238/300\n",
            "\u001b[1m225/225\u001b[0m \u001b[32m━━━━━━━━━━━━━━━━━━━━\u001b[0m\u001b[37m\u001b[0m \u001b[1m10s\u001b[0m 43ms/step - accuracy: 0.8879 - loss: 0.3409 - val_accuracy: 0.6367 - val_loss: 1.2636\n",
            "Epoch 239/300\n",
            "\u001b[1m225/225\u001b[0m \u001b[32m━━━━━━━━━━━━━━━━━━━━\u001b[0m\u001b[37m\u001b[0m \u001b[1m10s\u001b[0m 43ms/step - accuracy: 0.8849 - loss: 0.3558 - val_accuracy: 0.6332 - val_loss: 1.2983\n",
            "Epoch 240/300\n",
            "\u001b[1m225/225\u001b[0m \u001b[32m━━━━━━━━━━━━━━━━━━━━\u001b[0m\u001b[37m\u001b[0m \u001b[1m10s\u001b[0m 44ms/step - accuracy: 0.8857 - loss: 0.3435 - val_accuracy: 0.6330 - val_loss: 1.2892\n",
            "Epoch 241/300\n",
            "\u001b[1m225/225\u001b[0m \u001b[32m━━━━━━━━━━━━━━━━━━━━\u001b[0m\u001b[37m\u001b[0m \u001b[1m10s\u001b[0m 43ms/step - accuracy: 0.8890 - loss: 0.3432 - val_accuracy: 0.6372 - val_loss: 1.2398\n",
            "Epoch 242/300\n",
            "\u001b[1m225/225\u001b[0m \u001b[32m━━━━━━━━━━━━━━━━━━━━\u001b[0m\u001b[37m\u001b[0m \u001b[1m10s\u001b[0m 43ms/step - accuracy: 0.8873 - loss: 0.3469 - val_accuracy: 0.6323 - val_loss: 1.2861\n",
            "Epoch 243/300\n",
            "\u001b[1m225/225\u001b[0m \u001b[32m━━━━━━━━━━━━━━━━━━━━\u001b[0m\u001b[37m\u001b[0m \u001b[1m10s\u001b[0m 43ms/step - accuracy: 0.8853 - loss: 0.3520 - val_accuracy: 0.6344 - val_loss: 1.2515\n",
            "Epoch 244/300\n",
            "\u001b[1m225/225\u001b[0m \u001b[32m━━━━━━━━━━━━━━━━━━━━\u001b[0m\u001b[37m\u001b[0m \u001b[1m10s\u001b[0m 43ms/step - accuracy: 0.8878 - loss: 0.3427 - val_accuracy: 0.6318 - val_loss: 1.2714\n",
            "Epoch 245/300\n",
            "\u001b[1m225/225\u001b[0m \u001b[32m━━━━━━━━━━━━━━━━━━━━\u001b[0m\u001b[37m\u001b[0m \u001b[1m10s\u001b[0m 43ms/step - accuracy: 0.8920 - loss: 0.3334 - val_accuracy: 0.6360 - val_loss: 1.2737\n",
            "Epoch 246/300\n",
            "\u001b[1m225/225\u001b[0m \u001b[32m━━━━━━━━━━━━━━━━━━━━\u001b[0m\u001b[37m\u001b[0m \u001b[1m10s\u001b[0m 43ms/step - accuracy: 0.8868 - loss: 0.3367 - val_accuracy: 0.6317 - val_loss: 1.2543\n",
            "Epoch 247/300\n",
            "\u001b[1m225/225\u001b[0m \u001b[32m━━━━━━━━━━━━━━━━━━━━\u001b[0m\u001b[37m\u001b[0m \u001b[1m10s\u001b[0m 43ms/step - accuracy: 0.8906 - loss: 0.3375 - val_accuracy: 0.6310 - val_loss: 1.2508\n",
            "Epoch 248/300\n",
            "\u001b[1m225/225\u001b[0m \u001b[32m━━━━━━━━━━━━━━━━━━━━\u001b[0m\u001b[37m\u001b[0m \u001b[1m10s\u001b[0m 43ms/step - accuracy: 0.8887 - loss: 0.3428 - val_accuracy: 0.6397 - val_loss: 1.3303\n",
            "Epoch 249/300\n",
            "\u001b[1m225/225\u001b[0m \u001b[32m━━━━━━━━━━━━━━━━━━━━\u001b[0m\u001b[37m\u001b[0m \u001b[1m10s\u001b[0m 44ms/step - accuracy: 0.8828 - loss: 0.3523 - val_accuracy: 0.6344 - val_loss: 1.2838\n",
            "Epoch 250/300\n",
            "\u001b[1m225/225\u001b[0m \u001b[32m━━━━━━━━━━━━━━━━━━━━\u001b[0m\u001b[37m\u001b[0m \u001b[1m10s\u001b[0m 43ms/step - accuracy: 0.8860 - loss: 0.3484 - val_accuracy: 0.6349 - val_loss: 1.2450\n",
            "Epoch 251/300\n",
            "\u001b[1m225/225\u001b[0m \u001b[32m━━━━━━━━━━━━━━━━━━━━\u001b[0m\u001b[37m\u001b[0m \u001b[1m10s\u001b[0m 43ms/step - accuracy: 0.8885 - loss: 0.3473 - val_accuracy: 0.6344 - val_loss: 1.3107\n",
            "Epoch 252/300\n",
            "\u001b[1m225/225\u001b[0m \u001b[32m━━━━━━━━━━━━━━━━━━━━\u001b[0m\u001b[37m\u001b[0m \u001b[1m10s\u001b[0m 43ms/step - accuracy: 0.8875 - loss: 0.3449 - val_accuracy: 0.6383 - val_loss: 1.2987\n",
            "Epoch 253/300\n",
            "\u001b[1m225/225\u001b[0m \u001b[32m━━━━━━━━━━━━━━━━━━━━\u001b[0m\u001b[37m\u001b[0m \u001b[1m10s\u001b[0m 43ms/step - accuracy: 0.8878 - loss: 0.3419 - val_accuracy: 0.6367 - val_loss: 1.3508\n",
            "Epoch 254/300\n",
            "\u001b[1m225/225\u001b[0m \u001b[32m━━━━━━━━━━━━━━━━━━━━\u001b[0m\u001b[37m\u001b[0m \u001b[1m10s\u001b[0m 43ms/step - accuracy: 0.8879 - loss: 0.3431 - val_accuracy: 0.6321 - val_loss: 1.3099\n",
            "Epoch 255/300\n",
            "\u001b[1m225/225\u001b[0m \u001b[32m━━━━━━━━━━━━━━━━━━━━\u001b[0m\u001b[37m\u001b[0m \u001b[1m10s\u001b[0m 43ms/step - accuracy: 0.8928 - loss: 0.3287 - val_accuracy: 0.6350 - val_loss: 1.2903\n",
            "Epoch 256/300\n",
            "\u001b[1m225/225\u001b[0m \u001b[32m━━━━━━━━━━━━━━━━━━━━\u001b[0m\u001b[37m\u001b[0m \u001b[1m10s\u001b[0m 43ms/step - accuracy: 0.8837 - loss: 0.3507 - val_accuracy: 0.6330 - val_loss: 1.2826\n",
            "Epoch 257/300\n",
            "\u001b[1m225/225\u001b[0m \u001b[32m━━━━━━━━━━━━━━━━━━━━\u001b[0m\u001b[37m\u001b[0m \u001b[1m10s\u001b[0m 44ms/step - accuracy: 0.8874 - loss: 0.3464 - val_accuracy: 0.6364 - val_loss: 1.3918\n",
            "Epoch 258/300\n",
            "\u001b[1m225/225\u001b[0m \u001b[32m━━━━━━━━━━━━━━━━━━━━\u001b[0m\u001b[37m\u001b[0m \u001b[1m10s\u001b[0m 43ms/step - accuracy: 0.8908 - loss: 0.3338 - val_accuracy: 0.6365 - val_loss: 1.2909\n",
            "Epoch 259/300\n",
            "\u001b[1m225/225\u001b[0m \u001b[32m━━━━━━━━━━━━━━━━━━━━\u001b[0m\u001b[37m\u001b[0m \u001b[1m10s\u001b[0m 44ms/step - accuracy: 0.8840 - loss: 0.3559 - val_accuracy: 0.6356 - val_loss: 1.3160\n",
            "Epoch 260/300\n",
            "\u001b[1m225/225\u001b[0m \u001b[32m━━━━━━━━━━━━━━━━━━━━\u001b[0m\u001b[37m\u001b[0m \u001b[1m10s\u001b[0m 43ms/step - accuracy: 0.8940 - loss: 0.3380 - val_accuracy: 0.6297 - val_loss: 1.3003\n",
            "Epoch 261/300\n",
            "\u001b[1m225/225\u001b[0m \u001b[32m━━━━━━━━━━━━━━━━━━━━\u001b[0m\u001b[37m\u001b[0m \u001b[1m10s\u001b[0m 43ms/step - accuracy: 0.8913 - loss: 0.3322 - val_accuracy: 0.6335 - val_loss: 1.3554\n",
            "Epoch 262/300\n",
            "\u001b[1m225/225\u001b[0m \u001b[32m━━━━━━━━━━━━━━━━━━━━\u001b[0m\u001b[37m\u001b[0m \u001b[1m10s\u001b[0m 43ms/step - accuracy: 0.8907 - loss: 0.3378 - val_accuracy: 0.6330 - val_loss: 1.2521\n",
            "Epoch 263/300\n",
            "\u001b[1m225/225\u001b[0m \u001b[32m━━━━━━━━━━━━━━━━━━━━\u001b[0m\u001b[37m\u001b[0m \u001b[1m10s\u001b[0m 46ms/step - accuracy: 0.8924 - loss: 0.3307 - val_accuracy: 0.6328 - val_loss: 1.3193\n",
            "Epoch 264/300\n",
            "\u001b[1m225/225\u001b[0m \u001b[32m━━━━━━━━━━━━━━━━━━━━\u001b[0m\u001b[37m\u001b[0m \u001b[1m10s\u001b[0m 43ms/step - accuracy: 0.8950 - loss: 0.3229 - val_accuracy: 0.6368 - val_loss: 1.3414\n",
            "Epoch 265/300\n",
            "\u001b[1m225/225\u001b[0m \u001b[32m━━━━━━━━━━━━━━━━━━━━\u001b[0m\u001b[37m\u001b[0m \u001b[1m10s\u001b[0m 44ms/step - accuracy: 0.8903 - loss: 0.3311 - val_accuracy: 0.6315 - val_loss: 1.3749\n",
            "Epoch 266/300\n",
            "\u001b[1m225/225\u001b[0m \u001b[32m━━━━━━━━━━━━━━━━━━━━\u001b[0m\u001b[37m\u001b[0m \u001b[1m10s\u001b[0m 43ms/step - accuracy: 0.8922 - loss: 0.3269 - val_accuracy: 0.6382 - val_loss: 1.2857\n",
            "Epoch 267/300\n",
            "\u001b[1m225/225\u001b[0m \u001b[32m━━━━━━━━━━━━━━━━━━━━\u001b[0m\u001b[37m\u001b[0m \u001b[1m10s\u001b[0m 43ms/step - accuracy: 0.8869 - loss: 0.3422 - val_accuracy: 0.6386 - val_loss: 1.3520\n",
            "Epoch 268/300\n",
            "\u001b[1m225/225\u001b[0m \u001b[32m━━━━━━━━━━━━━━━━━━━━\u001b[0m\u001b[37m\u001b[0m \u001b[1m10s\u001b[0m 43ms/step - accuracy: 0.8895 - loss: 0.3321 - val_accuracy: 0.6325 - val_loss: 1.3497\n",
            "Epoch 269/300\n",
            "\u001b[1m225/225\u001b[0m \u001b[32m━━━━━━━━━━━━━━━━━━━━\u001b[0m\u001b[37m\u001b[0m \u001b[1m10s\u001b[0m 43ms/step - accuracy: 0.8949 - loss: 0.3318 - val_accuracy: 0.6301 - val_loss: 1.2920\n",
            "Epoch 270/300\n",
            "\u001b[1m225/225\u001b[0m \u001b[32m━━━━━━━━━━━━━━━━━━━━\u001b[0m\u001b[37m\u001b[0m \u001b[1m10s\u001b[0m 44ms/step - accuracy: 0.8882 - loss: 0.3423 - val_accuracy: 0.6353 - val_loss: 1.3109\n",
            "Epoch 271/300\n",
            "\u001b[1m225/225\u001b[0m \u001b[32m━━━━━━━━━━━━━━━━━━━━\u001b[0m\u001b[37m\u001b[0m \u001b[1m10s\u001b[0m 46ms/step - accuracy: 0.8918 - loss: 0.3377 - val_accuracy: 0.6308 - val_loss: 1.3246\n",
            "Epoch 272/300\n",
            "\u001b[1m225/225\u001b[0m \u001b[32m━━━━━━━━━━━━━━━━━━━━\u001b[0m\u001b[37m\u001b[0m \u001b[1m10s\u001b[0m 43ms/step - accuracy: 0.8954 - loss: 0.3288 - val_accuracy: 0.6339 - val_loss: 1.3261\n",
            "Epoch 273/300\n",
            "\u001b[1m225/225\u001b[0m \u001b[32m━━━━━━━━━━━━━━━━━━━━\u001b[0m\u001b[37m\u001b[0m \u001b[1m10s\u001b[0m 43ms/step - accuracy: 0.8925 - loss: 0.3272 - val_accuracy: 0.6304 - val_loss: 1.3262\n",
            "Epoch 274/300\n",
            "\u001b[1m225/225\u001b[0m \u001b[32m━━━━━━━━━━━━━━━━━━━━\u001b[0m\u001b[37m\u001b[0m \u001b[1m10s\u001b[0m 43ms/step - accuracy: 0.8900 - loss: 0.3286 - val_accuracy: 0.6367 - val_loss: 1.2572\n",
            "Epoch 275/300\n",
            "\u001b[1m225/225\u001b[0m \u001b[32m━━━━━━━━━━━━━━━━━━━━\u001b[0m\u001b[37m\u001b[0m \u001b[1m10s\u001b[0m 43ms/step - accuracy: 0.8914 - loss: 0.3409 - val_accuracy: 0.6364 - val_loss: 1.3428\n",
            "Epoch 276/300\n",
            "\u001b[1m225/225\u001b[0m \u001b[32m━━━━━━━━━━━━━━━━━━━━\u001b[0m\u001b[37m\u001b[0m \u001b[1m10s\u001b[0m 43ms/step - accuracy: 0.8904 - loss: 0.3404 - val_accuracy: 0.6322 - val_loss: 1.2529\n",
            "Epoch 277/300\n",
            "\u001b[1m225/225\u001b[0m \u001b[32m━━━━━━━━━━━━━━━━━━━━\u001b[0m\u001b[37m\u001b[0m \u001b[1m10s\u001b[0m 43ms/step - accuracy: 0.8920 - loss: 0.3265 - val_accuracy: 0.6383 - val_loss: 1.3363\n",
            "Epoch 278/300\n",
            "\u001b[1m225/225\u001b[0m \u001b[32m━━━━━━━━━━━━━━━━━━━━\u001b[0m\u001b[37m\u001b[0m \u001b[1m10s\u001b[0m 43ms/step - accuracy: 0.8915 - loss: 0.3459 - val_accuracy: 0.6356 - val_loss: 1.3578\n",
            "Epoch 279/300\n",
            "\u001b[1m225/225\u001b[0m \u001b[32m━━━━━━━━━━━━━━━━━━━━\u001b[0m\u001b[37m\u001b[0m \u001b[1m10s\u001b[0m 43ms/step - accuracy: 0.8939 - loss: 0.3369 - val_accuracy: 0.6340 - val_loss: 1.2897\n",
            "Epoch 280/300\n",
            "\u001b[1m225/225\u001b[0m \u001b[32m━━━━━━━━━━━━━━━━━━━━\u001b[0m\u001b[37m\u001b[0m \u001b[1m10s\u001b[0m 43ms/step - accuracy: 0.8955 - loss: 0.3194 - val_accuracy: 0.6351 - val_loss: 1.3153\n",
            "Epoch 281/300\n",
            "\u001b[1m225/225\u001b[0m \u001b[32m━━━━━━━━━━━━━━━━━━━━\u001b[0m\u001b[37m\u001b[0m \u001b[1m10s\u001b[0m 43ms/step - accuracy: 0.8907 - loss: 0.3349 - val_accuracy: 0.6353 - val_loss: 1.3418\n",
            "Epoch 282/300\n",
            "\u001b[1m225/225\u001b[0m \u001b[32m━━━━━━━━━━━━━━━━━━━━\u001b[0m\u001b[37m\u001b[0m \u001b[1m10s\u001b[0m 44ms/step - accuracy: 0.8944 - loss: 0.3246 - val_accuracy: 0.6322 - val_loss: 1.2853\n",
            "Epoch 283/300\n",
            "\u001b[1m225/225\u001b[0m \u001b[32m━━━━━━━━━━━━━━━━━━━━\u001b[0m\u001b[37m\u001b[0m \u001b[1m10s\u001b[0m 44ms/step - accuracy: 0.8945 - loss: 0.3320 - val_accuracy: 0.6337 - val_loss: 1.3158\n",
            "Epoch 284/300\n",
            "\u001b[1m225/225\u001b[0m \u001b[32m━━━━━━━━━━━━━━━━━━━━\u001b[0m\u001b[37m\u001b[0m \u001b[1m10s\u001b[0m 43ms/step - accuracy: 0.8961 - loss: 0.3248 - val_accuracy: 0.6389 - val_loss: 1.3768\n",
            "Epoch 285/300\n",
            "\u001b[1m225/225\u001b[0m \u001b[32m━━━━━━━━━━━━━━━━━━━━\u001b[0m\u001b[37m\u001b[0m \u001b[1m10s\u001b[0m 43ms/step - accuracy: 0.8997 - loss: 0.3176 - val_accuracy: 0.6375 - val_loss: 1.3048\n",
            "Epoch 286/300\n",
            "\u001b[1m225/225\u001b[0m \u001b[32m━━━━━━━━━━━━━━━━━━━━\u001b[0m\u001b[37m\u001b[0m \u001b[1m10s\u001b[0m 43ms/step - accuracy: 0.8919 - loss: 0.3326 - val_accuracy: 0.6365 - val_loss: 1.3400\n",
            "Epoch 287/300\n",
            "\u001b[1m225/225\u001b[0m \u001b[32m━━━━━━━━━━━━━━━━━━━━\u001b[0m\u001b[37m\u001b[0m \u001b[1m10s\u001b[0m 43ms/step - accuracy: 0.8955 - loss: 0.3268 - val_accuracy: 0.6402 - val_loss: 1.3230\n",
            "Epoch 288/300\n",
            "\u001b[1m225/225\u001b[0m \u001b[32m━━━━━━━━━━━━━━━━━━━━\u001b[0m\u001b[37m\u001b[0m \u001b[1m10s\u001b[0m 43ms/step - accuracy: 0.8973 - loss: 0.3097 - val_accuracy: 0.6356 - val_loss: 1.3362\n",
            "Epoch 289/300\n",
            "\u001b[1m225/225\u001b[0m \u001b[32m━━━━━━━━━━━━━━━━━━━━\u001b[0m\u001b[37m\u001b[0m \u001b[1m10s\u001b[0m 43ms/step - accuracy: 0.8954 - loss: 0.3192 - val_accuracy: 0.6336 - val_loss: 1.3150\n",
            "Epoch 290/300\n",
            "\u001b[1m225/225\u001b[0m \u001b[32m━━━━━━━━━━━━━━━━━━━━\u001b[0m\u001b[37m\u001b[0m \u001b[1m10s\u001b[0m 43ms/step - accuracy: 0.9002 - loss: 0.3120 - val_accuracy: 0.6294 - val_loss: 1.3424\n",
            "Epoch 291/300\n",
            "\u001b[1m225/225\u001b[0m \u001b[32m━━━━━━━━━━━━━━━━━━━━\u001b[0m\u001b[37m\u001b[0m \u001b[1m10s\u001b[0m 43ms/step - accuracy: 0.8985 - loss: 0.3218 - val_accuracy: 0.6315 - val_loss: 1.3042\n",
            "Epoch 292/300\n",
            "\u001b[1m225/225\u001b[0m \u001b[32m━━━━━━━━━━━━━━━━━━━━\u001b[0m\u001b[37m\u001b[0m \u001b[1m10s\u001b[0m 43ms/step - accuracy: 0.8919 - loss: 0.3276 - val_accuracy: 0.6383 - val_loss: 1.3888\n",
            "Epoch 293/300\n",
            "\u001b[1m225/225\u001b[0m \u001b[32m━━━━━━━━━━━━━━━━━━━━\u001b[0m\u001b[37m\u001b[0m \u001b[1m10s\u001b[0m 44ms/step - accuracy: 0.8921 - loss: 0.3242 - val_accuracy: 0.6343 - val_loss: 1.3774\n",
            "Epoch 294/300\n",
            "\u001b[1m225/225\u001b[0m \u001b[32m━━━━━━━━━━━━━━━━━━━━\u001b[0m\u001b[37m\u001b[0m \u001b[1m10s\u001b[0m 46ms/step - accuracy: 0.8988 - loss: 0.3164 - val_accuracy: 0.6383 - val_loss: 1.3256\n",
            "Epoch 295/300\n",
            "\u001b[1m225/225\u001b[0m \u001b[32m━━━━━━━━━━━━━━━━━━━━\u001b[0m\u001b[37m\u001b[0m \u001b[1m20s\u001b[0m 43ms/step - accuracy: 0.8928 - loss: 0.3316 - val_accuracy: 0.6346 - val_loss: 1.2794\n",
            "Epoch 296/300\n",
            "\u001b[1m225/225\u001b[0m \u001b[32m━━━━━━━━━━━━━━━━━━━━\u001b[0m\u001b[37m\u001b[0m \u001b[1m10s\u001b[0m 43ms/step - accuracy: 0.8966 - loss: 0.3432 - val_accuracy: 0.6360 - val_loss: 1.3150\n",
            "Epoch 297/300\n",
            "\u001b[1m225/225\u001b[0m \u001b[32m━━━━━━━━━━━━━━━━━━━━\u001b[0m\u001b[37m\u001b[0m \u001b[1m10s\u001b[0m 44ms/step - accuracy: 0.8950 - loss: 0.3258 - val_accuracy: 0.6400 - val_loss: 1.3491\n",
            "Epoch 298/300\n",
            "\u001b[1m225/225\u001b[0m \u001b[32m━━━━━━━━━━━━━━━━━━━━\u001b[0m\u001b[37m\u001b[0m \u001b[1m10s\u001b[0m 44ms/step - accuracy: 0.8979 - loss: 0.3091 - val_accuracy: 0.6351 - val_loss: 1.3317\n",
            "Epoch 299/300\n",
            "\u001b[1m225/225\u001b[0m \u001b[32m━━━━━━━━━━━━━━━━━━━━\u001b[0m\u001b[37m\u001b[0m \u001b[1m10s\u001b[0m 43ms/step - accuracy: 0.8910 - loss: 0.3367 - val_accuracy: 0.6339 - val_loss: 1.3638\n",
            "Epoch 300/300\n",
            "\u001b[1m225/225\u001b[0m \u001b[32m━━━━━━━━━━━━━━━━━━━━\u001b[0m\u001b[37m\u001b[0m \u001b[1m10s\u001b[0m 43ms/step - accuracy: 0.8994 - loss: 0.3125 - val_accuracy: 0.6326 - val_loss: 1.4018\n"
          ]
        }
      ]
    },
    {
      "cell_type": "code",
      "source": [
        "model.save('FER_model.h5')"
      ],
      "metadata": {
        "colab": {
          "base_uri": "https://localhost:8080/"
        },
        "id": "0FKMTlFiwwDa",
        "outputId": "b5fd29b3-2761-494d-e66f-76d8cd6973a2"
      },
      "id": "0FKMTlFiwwDa",
      "execution_count": null,
      "outputs": [
        {
          "output_type": "stream",
          "name": "stderr",
          "text": [
            "/usr/local/lib/python3.10/dist-packages/keras/src/models/model.py:342: UserWarning: You are saving your model as an HDF5 file via `model.save()`. This file format is considered legacy. We recommend using instead the native Keras format, e.g. `model.save('my_model.keras')`.\n",
            "  warnings.warn(\n"
          ]
        }
      ]
    },
    {
      "cell_type": "code",
      "source": [
        "import matplotlib.pyplot as plt\n",
        "\n",
        "# Plot training and validation loss\n",
        "plt.figure(figsize=(12, 6))\n",
        "plt.subplot(1, 2, 1)\n",
        "plt.plot(train_loss, label='Training Loss')\n",
        "plt.plot(val_loss, label='Validation Loss')\n",
        "plt.title('Loss Curves')\n",
        "plt.xlabel('Epoch')\n",
        "plt.ylabel('Loss')\n",
        "plt.legend()\n",
        "\n",
        "# Plot training and validation accuracy\n",
        "plt.subplot(1, 2, 2)\n",
        "plt.plot(train_accuracy, label='Training Accuracy')\n",
        "plt.plot(val_accuracy, label='Validation Accuracy')\n",
        "plt.title('Accuracy Curves')\n",
        "plt.xlabel('Epoch')\n",
        "plt.ylabel('Accuracy')\n",
        "plt.legend()\n",
        "\n",
        "plt.tight_layout()\n",
        "plt.show()"
      ],
      "metadata": {
        "colab": {
          "base_uri": "https://localhost:8080/",
          "height": 607
        },
        "id": "vxpEu6FZrs_v",
        "outputId": "34ca6470-9b1e-4610-b5b8-5b43c6db6ae0"
      },
      "id": "vxpEu6FZrs_v",
      "execution_count": null,
      "outputs": [
        {
          "output_type": "display_data",
          "data": {
            "text/plain": [
              "<Figure size 1200x600 with 2 Axes>"
            ],
            "image/png": "[encoded data removed]"
          },
          "metadata": {}
        }
      ]
    },
    {
      "cell_type": "code",
      "source": [
        "# Evaluate\n",
        "test_loss, test_accuracy = model.evaluate(x_test, y_test)\n",
        "\n",
        "# Print the test accuracy\n",
        "print(f\"Test Accuracy: {test_accuracy * 100:.2f}%\")"
      ],
      "metadata": {
        "colab": {
          "base_uri": "https://localhost:8080/"
        },
        "id": "MPWlMVTwMWCc",
        "outputId": "f189dcd1-7784-468b-bdc7-3cb50ab2b675"
      },
      "id": "MPWlMVTwMWCc",
      "execution_count": null,
      "outputs": [
        {
          "output_type": "stream",
          "name": "stdout",
          "text": [
            "\u001b[1m225/225\u001b[0m \u001b[32m━━━━━━━━━━━━━━━━━━━━\u001b[0m\u001b[37m\u001b[0m \u001b[1m2s\u001b[0m 6ms/step - accuracy: 0.5890 - loss: 1.6563\n",
            "Test Accuracy: 63.26%\n"
          ]
        }
      ]
    },
    {
      "cell_type": "markdown",
      "source": [
        "# NEXT MODEL"
      ],
      "metadata": {
        "id": "_79bXuv4J1WO"
      },
      "id": "_79bXuv4J1WO"
    },
    {
      "cell_type": "markdown",
      "source": [
        "\n",
        "\n",
        "---\n",
        "\n",
        "\n",
        "\n",
        "---\n",
        "\n",
        "\n",
        "**Optimized CNN Model**\n",
        "\n",
        "---\n",
        "\n",
        "\n",
        "\n",
        "---\n",
        "\n"
      ],
      "metadata": {
        "id": "ae6ioI9chsNk"
      },
      "id": "ae6ioI9chsNk"
    },
    {
      "cell_type": "code",
      "source": [
        "from tensorflow.keras.models import Sequential\n",
        "from tensorflow.keras.layers import Conv2D, MaxPooling2D, Dropout, Flatten, Dense\n",
        "from tensorflow.keras.optimizers import Nadam\n",
        "from tensorflow.keras.regularizers import l2\n",
        "from tensorflow.keras.layers import BatchNormalization\n",
        "from tensorflow.keras.preprocessing.image import ImageDataGenerator\n",
        "\n",
        "# Optimized and complex CNN model\n",
        "model = Sequential()\n",
        "\n",
        "# Double convolutional layers\n",
        "model.add(Conv2D(64, kernel_size=(3, 3), activation='relu', input_shape=(48, 48, 1), padding='same'))\n",
        "model.add(Conv2D(64, kernel_size=(3, 3), activation='relu', padding='same'))\n",
        "model.add(BatchNormalization())\n",
        "model.add(MaxPooling2D(pool_size=(2, 2)))\n",
        "model.add(Dropout(0.5))\n",
        "\n",
        "model.add(Conv2D(128, kernel_size=(3, 3), activation='relu', padding='same'))\n",
        "model.add(Conv2D(128, kernel_size=(3, 3), activation='relu', padding='same'))\n",
        "model.add(BatchNormalization())\n",
        "model.add(MaxPooling2D(pool_size=(2, 2)))\n",
        "model.add(Dropout(0.5))\n",
        "\n",
        "model.add(Conv2D(256, kernel_size=(3, 3), activation='relu', padding='same'))\n",
        "model.add(Conv2D(256, kernel_size=(3, 3), activation='relu', padding='same'))\n",
        "model.add(BatchNormalization())\n",
        "model.add(MaxPooling2D(pool_size=(2, 2)))\n",
        "model.add(Dropout(0.5))\n",
        "\n",
        "model.add(Conv2D(512, kernel_size=(3, 3), activation='relu', padding='same'))\n",
        "model.add(Conv2D(512, kernel_size=(3, 3), activation='relu', padding='same'))\n",
        "model.add(BatchNormalization())\n",
        "model.add(MaxPooling2D(pool_size=(2, 2)))\n",
        "model.add(Dropout(0.5))\n",
        "\n",
        "# FC layers\n",
        "model.add(Flatten())\n",
        "model.add(Dense(1024, activation='relu'))\n",
        "model.add(Dropout(0.5))\n",
        "model.add(Dense(1024, activation='relu'))\n",
        "model.add(Dropout(0.5))\n",
        "\n",
        "# Output\n",
        "model.add(Dense(7, activation='soft\n",
        "\n",
        "# model.compile(optimizer=Nadam(lr=0.0001), loss='categorical_crossentropy', metrics=['accuracy'])"
      ],
      "metadata": {
        "id": "cy6vugI0hrT2"
      },
      "id": "cy6vugI0hrT2",
      "execution_count": null,
      "outputs": []
    },
    {
      "cell_type": "code",
      "source": [
        "model.compile(optimizer=Nadam(lr=0.0001), loss='categorical_crossentropy', metrics=['accuracy'])"
      ],
      "metadata": {
        "id": "i2YbYXIlbx4J"
      },
      "id": "i2YbYXIlbx4J",
      "execution_count": null,
      "outputs": []
    },
    {
      "cell_type": "code",
      "execution_count": null,
      "metadata": {
        "execution": {
          "iopub.execute_input": "2020-10-08T08:21:48.703810Z",
          "iopub.status.busy": "2020-10-08T08:21:48.693330Z",
          "iopub.status.idle": "2020-10-08T08:21:48.707208Z",
          "shell.execute_reply": "2020-10-08T08:21:48.706632Z"
        },
        "papermill": {
          "duration": 0.052448,
          "end_time": "2020-10-08T08:21:48.707331",
          "exception": false,
          "start_time": "2020-10-08T08:21:48.654883",
          "status": "completed"
        },
        "tags": [],
        "id": "fL3a6gUUnRvI"
      },
      "outputs": [],
      "source": [
        "chk_path = 'ferNet.h5'\n",
        "log_dir = \"checkpoint/logs/\" + datetime.datetime.now()\n",
        "\n",
        "checkpoint = ModelCheckpoint(filepath=chk_path,\n",
        "                             save_best_only=True,\n",
        "                             verbose=1,\n",
        "                             mode='min',\n",
        "                             moniter='val_loss')\n",
        "\n",
        "earlystop = EarlyStopping(monitor='val_loss',\n",
        "                          min_delta=0,\n",
        "                          patience=3,\n",
        "                          verbose=1,\n",
        "                          restore_best_weights=True)\n",
        "\n",
        "reduce_lr = ReduceLROnPlateau(monitor='val_loss',\n",
        "                              factor=0.2,\n",
        "                              patience=6,\n",
        "                              verbose=1,\n",
        "                              min_delta=0.0001)\n"
      ],
      "id": "fL3a6gUUnRvI"
    },
    {
      "cell_type": "code",
      "execution_count": null,
      "metadata": {
        "execution": {
          "iopub.execute_input": "2020-10-08T08:21:48.836175Z",
          "iopub.status.busy": "2020-10-08T08:21:48.835472Z",
          "iopub.status.idle": "2020-10-08T09:03:29.511581Z",
          "shell.execute_reply": "2020-10-08T09:03:29.510961Z"
        },
        "papermill": {
          "duration": 2500.711354,
          "end_time": "2020-10-08T09:03:29.511710",
          "exception": false,
          "start_time": "2020-10-08T08:21:48.800356",
          "status": "completed"
        },
        "tags": [],
        "id": "iXwgtErvnRvI",
        "outputId": "0000d13d-e0b7-4490-aa14-90dbb919af07"
      },
      "outputs": [
        {
          "name": "stdout",
          "output_type": "stream",
          "text": [
            "Epoch 1/60\n",
            "448/448 [==============================] - ETA: 0s - loss: 4.2326 - accuracy: 0.2829\n",
            "Epoch 00001: val_loss improved from inf to 5.70846, saving model to ferNet.h5\n",
            "448/448 [==============================] - 84s 188ms/step - loss: 4.2326 - accuracy: 0.2829 - val_loss: 5.7085 - val_accuracy: 0.2401\n",
            "Epoch 2/60\n",
            "448/448 [==============================] - ETA: 0s - loss: 3.4217 - accuracy: 0.3434\n",
            "Epoch 00002: val_loss improved from 5.70846 to 3.08577, saving model to ferNet.h5\n",
            "448/448 [==============================] - 39s 87ms/step - loss: 3.4217 - accuracy: 0.3434 - val_loss: 3.0858 - val_accuracy: 0.3949\n",
            "Epoch 3/60\n",
            "448/448 [==============================] - ETA: 0s - loss: 2.9161 - accuracy: 0.3734\n",
            "Epoch 00003: val_loss improved from 3.08577 to 2.57435, saving model to ferNet.h5\n",
            "448/448 [==============================] - 39s 88ms/step - loss: 2.9161 - accuracy: 0.3734 - val_loss: 2.5743 - val_accuracy: 0.4438\n",
            "Epoch 4/60\n",
            "448/448 [==============================] - ETA: 0s - loss: 2.5155 - accuracy: 0.4005\n",
            "Epoch 00004: val_loss improved from 2.57435 to 2.26871, saving model to ferNet.h5\n",
            "448/448 [==============================] - 38s 86ms/step - loss: 2.5155 - accuracy: 0.4005 - val_loss: 2.2687 - val_accuracy: 0.4547\n",
            "Epoch 5/60\n",
            "448/448 [==============================] - ETA: 0s - loss: 2.2035 - accuracy: 0.4311\n",
            "Epoch 00005: val_loss improved from 2.26871 to 1.98167, saving model to ferNet.h5\n",
            "448/448 [==============================] - 38s 85ms/step - loss: 2.2035 - accuracy: 0.4311 - val_loss: 1.9817 - val_accuracy: 0.4759\n",
            "Epoch 6/60\n",
            "448/448 [==============================] - ETA: 0s - loss: 1.9723 - accuracy: 0.4493\n",
            "Epoch 00006: val_loss improved from 1.98167 to 1.77093, saving model to ferNet.h5\n",
            "448/448 [==============================] - 39s 86ms/step - loss: 1.9723 - accuracy: 0.4493 - val_loss: 1.7709 - val_accuracy: 0.4933\n",
            "Epoch 7/60\n",
            "448/448 [==============================] - ETA: 0s - loss: 1.7889 - accuracy: 0.4714\n",
            "Epoch 00007: val_loss improved from 1.77093 to 1.61497, saving model to ferNet.h5\n",
            "448/448 [==============================] - 39s 86ms/step - loss: 1.7889 - accuracy: 0.4714 - val_loss: 1.6150 - val_accuracy: 0.5112\n",
            "Epoch 8/60\n",
            "448/448 [==============================] - ETA: 0s - loss: 1.6516 - accuracy: 0.4910\n",
            "Epoch 00008: val_loss improved from 1.61497 to 1.53945, saving model to ferNet.h5\n",
            "448/448 [==============================] - 38s 85ms/step - loss: 1.6516 - accuracy: 0.4910 - val_loss: 1.5394 - val_accuracy: 0.5206\n",
            "Epoch 9/60\n",
            "448/448 [==============================] - ETA: 0s - loss: 1.5301 - accuracy: 0.5117\n",
            "Epoch 00009: val_loss improved from 1.53945 to 1.41031, saving model to ferNet.h5\n",
            "448/448 [==============================] - 70s 156ms/step - loss: 1.5301 - accuracy: 0.5117 - val_loss: 1.4103 - val_accuracy: 0.5463\n",
            "Epoch 10/60\n",
            "448/448 [==============================] - ETA: 0s - loss: 1.4558 - accuracy: 0.5276\n",
            "Epoch 00010: val_loss improved from 1.41031 to 1.39577, saving model to ferNet.h5\n",
            "448/448 [==============================] - 39s 86ms/step - loss: 1.4558 - accuracy: 0.5276 - val_loss: 1.3958 - val_accuracy: 0.5405\n",
            "Epoch 11/60\n",
            "448/448 [==============================] - ETA: 0s - loss: 1.3825 - accuracy: 0.5420\n",
            "Epoch 00011: val_loss improved from 1.39577 to 1.31370, saving model to ferNet.h5\n",
            "448/448 [==============================] - 38s 85ms/step - loss: 1.3825 - accuracy: 0.5420 - val_loss: 1.3137 - val_accuracy: 0.5649\n",
            "Epoch 12/60\n",
            "448/448 [==============================] - ETA: 0s - loss: 1.3204 - accuracy: 0.5533\n",
            "Epoch 00012: val_loss improved from 1.31370 to 1.28875, saving model to ferNet.h5\n",
            "448/448 [==============================] - 37s 83ms/step - loss: 1.3204 - accuracy: 0.5533 - val_loss: 1.2888 - val_accuracy: 0.5706\n",
            "Epoch 13/60\n",
            "448/448 [==============================] - ETA: 0s - loss: 1.2708 - accuracy: 0.5688\n",
            "Epoch 00013: val_loss improved from 1.28875 to 1.25769, saving model to ferNet.h5\n",
            "448/448 [==============================] - 38s 85ms/step - loss: 1.2708 - accuracy: 0.5688 - val_loss: 1.2577 - val_accuracy: 0.5770\n",
            "Epoch 14/60\n",
            "448/448 [==============================] - ETA: 0s - loss: 1.2358 - accuracy: 0.5793\n",
            "Epoch 00014: val_loss improved from 1.25769 to 1.19450, saving model to ferNet.h5\n",
            "448/448 [==============================] - 36s 81ms/step - loss: 1.2358 - accuracy: 0.5793 - val_loss: 1.1945 - val_accuracy: 0.5931\n",
            "Epoch 15/60\n",
            "448/448 [==============================] - ETA: 0s - loss: 1.1996 - accuracy: 0.5934\n",
            "Epoch 00015: val_loss improved from 1.19450 to 1.18179, saving model to ferNet.h5\n",
            "448/448 [==============================] - 41s 90ms/step - loss: 1.1996 - accuracy: 0.5934 - val_loss: 1.1818 - val_accuracy: 0.5922\n",
            "Epoch 16/60\n",
            "448/448 [==============================] - ETA: 0s - loss: 1.1638 - accuracy: 0.6033\n",
            "Epoch 00016: val_loss improved from 1.18179 to 1.15501, saving model to ferNet.h5\n",
            "448/448 [==============================] - 41s 91ms/step - loss: 1.1638 - accuracy: 0.6033 - val_loss: 1.1550 - val_accuracy: 0.6041\n",
            "Epoch 17/60\n",
            "448/448 [==============================] - ETA: 0s - loss: 1.1284 - accuracy: 0.6161\n",
            "Epoch 00017: val_loss improved from 1.15501 to 1.14548, saving model to ferNet.h5\n",
            "448/448 [==============================] - 79s 176ms/step - loss: 1.1284 - accuracy: 0.6161 - val_loss: 1.1455 - val_accuracy: 0.6076\n",
            "Epoch 18/60\n",
            "448/448 [==============================] - ETA: 0s - loss: 1.1051 - accuracy: 0.6230\n",
            "Epoch 00018: val_loss did not improve from 1.14548\n",
            "448/448 [==============================] - 46s 103ms/step - loss: 1.1051 - accuracy: 0.6230 - val_loss: 1.1792 - val_accuracy: 0.5950\n",
            "Epoch 19/60\n",
            "448/448 [==============================] - ETA: 0s - loss: 1.0763 - accuracy: 0.6348\n",
            "Epoch 00019: val_loss improved from 1.14548 to 1.12434, saving model to ferNet.h5\n",
            "448/448 [==============================] - 38s 86ms/step - loss: 1.0763 - accuracy: 0.6348 - val_loss: 1.1243 - val_accuracy: 0.6196\n",
            "Epoch 20/60\n",
            "448/448 [==============================] - ETA: 0s - loss: 1.0513 - accuracy: 0.6393\n",
            "Epoch 00020: val_loss improved from 1.12434 to 1.12349, saving model to ferNet.h5\n",
            "448/448 [==============================] - 36s 81ms/step - loss: 1.0513 - accuracy: 0.6393 - val_loss: 1.1235 - val_accuracy: 0.6229\n",
            "Epoch 21/60\n",
            "448/448 [==============================] - ETA: 0s - loss: 1.0293 - accuracy: 0.6533\n",
            "Epoch 00021: val_loss improved from 1.12349 to 1.12133, saving model to ferNet.h5\n",
            "448/448 [==============================] - 39s 87ms/step - loss: 1.0293 - accuracy: 0.6533 - val_loss: 1.1213 - val_accuracy: 0.6215\n",
            "Epoch 22/60\n",
            "448/448 [==============================] - ETA: 0s - loss: 1.0122 - accuracy: 0.6573\n",
            "Epoch 00022: val_loss improved from 1.12133 to 1.11871, saving model to ferNet.h5\n",
            "448/448 [==============================] - 40s 90ms/step - loss: 1.0122 - accuracy: 0.6573 - val_loss: 1.1187 - val_accuracy: 0.6250\n",
            "Epoch 23/60\n",
            "448/448 [==============================] - ETA: 0s - loss: 0.9923 - accuracy: 0.6663\n",
            "Epoch 00023: val_loss did not improve from 1.11871\n",
            "448/448 [==============================] - 37s 83ms/step - loss: 0.9923 - accuracy: 0.6663 - val_loss: 1.1317 - val_accuracy: 0.6151\n",
            "Epoch 24/60\n",
            "448/448 [==============================] - ETA: 0s - loss: 0.9628 - accuracy: 0.6758\n",
            "Epoch 00024: val_loss did not improve from 1.11871\n",
            "448/448 [==============================] - 41s 91ms/step - loss: 0.9628 - accuracy: 0.6758 - val_loss: 1.1452 - val_accuracy: 0.6232\n",
            "Epoch 25/60\n",
            "448/448 [==============================] - ETA: 0s - loss: 0.9507 - accuracy: 0.6784\n",
            "Epoch 00025: val_loss did not improve from 1.11871\n",
            "448/448 [==============================] - 38s 85ms/step - loss: 0.9507 - accuracy: 0.6784 - val_loss: 1.1206 - val_accuracy: 0.6283\n",
            "Epoch 26/60\n",
            "448/448 [==============================] - ETA: 0s - loss: 0.9218 - accuracy: 0.6916\n",
            "Epoch 00026: val_loss did not improve from 1.11871\n",
            "448/448 [==============================] - 40s 89ms/step - loss: 0.9218 - accuracy: 0.6916 - val_loss: 1.1309 - val_accuracy: 0.6289\n",
            "Epoch 27/60\n",
            "448/448 [==============================] - ETA: 0s - loss: 0.9018 - accuracy: 0.7006\n",
            "Epoch 00027: val_loss improved from 1.11871 to 1.09375, saving model to ferNet.h5\n",
            "448/448 [==============================] - 39s 87ms/step - loss: 0.9018 - accuracy: 0.7006 - val_loss: 1.0937 - val_accuracy: 0.6335\n",
            "Epoch 28/60\n",
            "448/448 [==============================] - ETA: 0s - loss: 0.8827 - accuracy: 0.7065\n",
            "Epoch 00028: val_loss did not improve from 1.09375\n",
            "448/448 [==============================] - 40s 90ms/step - loss: 0.8827 - accuracy: 0.7065 - val_loss: 1.0940 - val_accuracy: 0.6423\n",
            "Epoch 29/60\n",
            "448/448 [==============================] - ETA: 0s - loss: 0.8629 - accuracy: 0.7141\n",
            "Epoch 00029: val_loss did not improve from 1.09375\n",
            "448/448 [==============================] - 87s 194ms/step - loss: 0.8629 - accuracy: 0.7141 - val_loss: 1.1288 - val_accuracy: 0.6355\n",
            "Epoch 30/60\n",
            "448/448 [==============================] - ETA: 0s - loss: 0.8484 - accuracy: 0.7196\n",
            "Epoch 00030: val_loss did not improve from 1.09375\n",
            "448/448 [==============================] - 42s 94ms/step - loss: 0.8484 - accuracy: 0.7196 - val_loss: 1.1160 - val_accuracy: 0.6367\n",
            "Epoch 31/60\n",
            "448/448 [==============================] - ETA: 0s - loss: 0.8347 - accuracy: 0.7256\n",
            "Epoch 00031: val_loss improved from 1.09375 to 1.09031, saving model to ferNet.h5\n",
            "448/448 [==============================] - 38s 85ms/step - loss: 0.8347 - accuracy: 0.7256 - val_loss: 1.0903 - val_accuracy: 0.6381\n",
            "Epoch 32/60\n",
            "448/448 [==============================] - ETA: 0s - loss: 0.8128 - accuracy: 0.7364\n",
            "Epoch 00032: val_loss did not improve from 1.09031\n",
            "448/448 [==============================] - 42s 93ms/step - loss: 0.8128 - accuracy: 0.7364 - val_loss: 1.1336 - val_accuracy: 0.6385\n",
            "Epoch 33/60\n",
            "448/448 [==============================] - ETA: 0s - loss: 0.8060 - accuracy: 0.7378\n",
            "Epoch 00033: val_loss did not improve from 1.09031\n",
            "448/448 [==============================] - 38s 85ms/step - loss: 0.8060 - accuracy: 0.7378 - val_loss: 1.1294 - val_accuracy: 0.6452\n",
            "Epoch 34/60\n",
            "448/448 [==============================] - ETA: 0s - loss: 0.7828 - accuracy: 0.7480\n",
            "Epoch 00034: val_loss improved from 1.09031 to 1.08880, saving model to ferNet.h5\n",
            "448/448 [==============================] - 37s 83ms/step - loss: 0.7828 - accuracy: 0.7480 - val_loss: 1.0888 - val_accuracy: 0.6546\n",
            "Epoch 35/60\n",
            "448/448 [==============================] - ETA: 0s - loss: 0.7780 - accuracy: 0.7503\n",
            "Epoch 00035: val_loss did not improve from 1.08880\n",
            "448/448 [==============================] - 38s 86ms/step - loss: 0.7780 - accuracy: 0.7503 - val_loss: 1.1304 - val_accuracy: 0.6437\n",
            "Epoch 36/60\n",
            "448/448 [==============================] - ETA: 0s - loss: 0.7605 - accuracy: 0.7544\n",
            "Epoch 00036: val_loss did not improve from 1.08880\n",
            "448/448 [==============================] - 35s 78ms/step - loss: 0.7605 - accuracy: 0.7544 - val_loss: 1.1440 - val_accuracy: 0.6420\n",
            "Epoch 37/60\n",
            "448/448 [==============================] - ETA: 0s - loss: 0.7524 - accuracy: 0.7577\n",
            "Epoch 00037: val_loss did not improve from 1.08880\n",
            "448/448 [==============================] - 66s 148ms/step - loss: 0.7524 - accuracy: 0.7577 - val_loss: 1.1324 - val_accuracy: 0.6549\n",
            "Epoch 38/60\n",
            "448/448 [==============================] - ETA: 0s - loss: 0.7347 - accuracy: 0.7630\n",
            "Epoch 00038: val_loss did not improve from 1.08880\n",
            "448/448 [==============================] - 37s 83ms/step - loss: 0.7347 - accuracy: 0.7630 - val_loss: 1.1544 - val_accuracy: 0.6458\n",
            "Epoch 39/60\n",
            "448/448 [==============================] - ETA: 0s - loss: 0.7116 - accuracy: 0.7736\n",
            "Epoch 00039: val_loss did not improve from 1.08880\n",
            "448/448 [==============================] - 37s 82ms/step - loss: 0.7116 - accuracy: 0.7736 - val_loss: 1.1234 - val_accuracy: 0.6611\n",
            "Epoch 40/60\n",
            "448/448 [==============================] - ETA: 0s - loss: 0.7109 - accuracy: 0.7726\n",
            "Epoch 00040: val_loss did not improve from 1.08880\n",
            "\n",
            "Epoch 00040: ReduceLROnPlateau reducing learning rate to 1.9999999494757503e-05.\n",
            "448/448 [==============================] - 35s 79ms/step - loss: 0.7109 - accuracy: 0.7726 - val_loss: 1.1663 - val_accuracy: 0.6466\n",
            "Epoch 41/60\n",
            "448/448 [==============================] - ETA: 0s - loss: 0.6523 - accuracy: 0.7936\n",
            "Epoch 00041: val_loss did not improve from 1.08880\n",
            "448/448 [==============================] - 35s 79ms/step - loss: 0.6523 - accuracy: 0.7936 - val_loss: 1.1431 - val_accuracy: 0.6596\n",
            "Epoch 42/60\n",
            "448/448 [==============================] - ETA: 0s - loss: 0.6233 - accuracy: 0.8095\n",
            "Epoch 00042: val_loss did not improve from 1.08880\n",
            "448/448 [==============================] - 38s 84ms/step - loss: 0.6233 - accuracy: 0.8095 - val_loss: 1.1650 - val_accuracy: 0.6613\n",
            "Epoch 43/60\n",
            "448/448 [==============================] - ETA: 0s - loss: 0.6080 - accuracy: 0.8116\n",
            "Epoch 00043: val_loss did not improve from 1.08880\n",
            "448/448 [==============================] - 35s 78ms/step - loss: 0.6080 - accuracy: 0.8116 - val_loss: 1.1505 - val_accuracy: 0.6572\n",
            "Epoch 44/60\n",
            "448/448 [==============================] - ETA: 0s - loss: 0.5950 - accuracy: 0.8190\n",
            "Epoch 00044: val_loss did not improve from 1.08880\n",
            "448/448 [==============================] - 35s 78ms/step - loss: 0.5950 - accuracy: 0.8190 - val_loss: 1.1527 - val_accuracy: 0.6638\n",
            "Epoch 45/60\n",
            "448/448 [==============================] - ETA: 0s - loss: 0.5923 - accuracy: 0.8141\n",
            "Epoch 00045: val_loss did not improve from 1.08880\n",
            "448/448 [==============================] - 73s 163ms/step - loss: 0.5923 - accuracy: 0.8141 - val_loss: 1.1607 - val_accuracy: 0.6648\n",
            "Epoch 46/60\n",
            "448/448 [==============================] - ETA: 0s - loss: 0.5809 - accuracy: 0.8197\n",
            "Epoch 00046: val_loss did not improve from 1.08880\n",
            "\n",
            "Epoch 00046: ReduceLROnPlateau reducing learning rate to 3.999999898951501e-06.\n",
            "448/448 [==============================] - 35s 79ms/step - loss: 0.5809 - accuracy: 0.8197 - val_loss: 1.1703 - val_accuracy: 0.6625\n",
            "Epoch 47/60\n",
            "448/448 [==============================] - ETA: 0s - loss: 0.5693 - accuracy: 0.8246\n",
            "Epoch 00047: val_loss did not improve from 1.08880\n",
            "448/448 [==============================] - 36s 79ms/step - loss: 0.5693 - accuracy: 0.8246 - val_loss: 1.1668 - val_accuracy: 0.6635\n",
            "Epoch 48/60\n",
            "448/448 [==============================] - ETA: 0s - loss: 0.5638 - accuracy: 0.8258\n",
            "Epoch 00048: val_loss did not improve from 1.08880\n",
            "448/448 [==============================] - 35s 78ms/step - loss: 0.5638 - accuracy: 0.8258 - val_loss: 1.1549 - val_accuracy: 0.6632\n",
            "Epoch 49/60\n",
            "448/448 [==============================] - ETA: 0s - loss: 0.5614 - accuracy: 0.8257\n",
            "Epoch 00049: val_loss did not improve from 1.08880\n",
            "448/448 [==============================] - 34s 77ms/step - loss: 0.5614 - accuracy: 0.8257 - val_loss: 1.1589 - val_accuracy: 0.6645\n",
            "Epoch 50/60\n",
            "448/448 [==============================] - ETA: 0s - loss: 0.5545 - accuracy: 0.8291\n",
            "Epoch 00050: val_loss did not improve from 1.08880\n",
            "448/448 [==============================] - 34s 76ms/step - loss: 0.5545 - accuracy: 0.8291 - val_loss: 1.1664 - val_accuracy: 0.6631\n",
            "Epoch 51/60\n",
            "448/448 [==============================] - ETA: 0s - loss: 0.5543 - accuracy: 0.8300\n",
            "Epoch 00051: val_loss did not improve from 1.08880\n",
            "448/448 [==============================] - 35s 78ms/step - loss: 0.5543 - accuracy: 0.8300 - val_loss: 1.1671 - val_accuracy: 0.6635\n",
            "Epoch 52/60\n",
            "448/448 [==============================] - ETA: 0s - loss: 0.5540 - accuracy: 0.8305\n",
            "Epoch 00052: val_loss did not improve from 1.08880\n",
            "\n",
            "Epoch 00052: ReduceLROnPlateau reducing learning rate to 7.999999979801942e-07.\n",
            "448/448 [==============================] - 38s 84ms/step - loss: 0.5540 - accuracy: 0.8305 - val_loss: 1.1739 - val_accuracy: 0.6645\n",
            "Epoch 53/60\n",
            "448/448 [==============================] - ETA: 0s - loss: 0.5448 - accuracy: 0.8355\n",
            "Epoch 00053: val_loss did not improve from 1.08880\n",
            "448/448 [==============================] - 35s 77ms/step - loss: 0.5448 - accuracy: 0.8355 - val_loss: 1.1674 - val_accuracy: 0.6649\n",
            "Epoch 54/60\n",
            "448/448 [==============================] - ETA: 0s - loss: 0.5530 - accuracy: 0.8302\n",
            "Epoch 00054: val_loss did not improve from 1.08880\n",
            "448/448 [==============================] - 34s 76ms/step - loss: 0.5530 - accuracy: 0.8302 - val_loss: 1.1673 - val_accuracy: 0.6660\n",
            "Epoch 55/60\n",
            "448/448 [==============================] - ETA: 0s - loss: 0.5499 - accuracy: 0.8317\n",
            "Epoch 00055: val_loss did not improve from 1.08880\n",
            "448/448 [==============================] - 34s 77ms/step - loss: 0.5499 - accuracy: 0.8317 - val_loss: 1.1662 - val_accuracy: 0.6667\n",
            "Epoch 56/60\n",
            "448/448 [==============================] - ETA: 0s - loss: 0.5458 - accuracy: 0.8326\n",
            "Epoch 00056: val_loss did not improve from 1.08880\n",
            "448/448 [==============================] - 36s 81ms/step - loss: 0.5458 - accuracy: 0.8326 - val_loss: 1.1651 - val_accuracy: 0.6659\n",
            "Epoch 57/60\n",
            "448/448 [==============================] - ETA: 0s - loss: 0.5591 - accuracy: 0.8289\n",
            "Epoch 00057: val_loss did not improve from 1.08880\n",
            "448/448 [==============================] - 35s 77ms/step - loss: 0.5591 - accuracy: 0.8289 - val_loss: 1.1664 - val_accuracy: 0.6656\n",
            "Epoch 58/60\n",
            "448/448 [==============================] - ETA: 0s - loss: 0.5523 - accuracy: 0.8304\n",
            "Epoch 00058: val_loss did not improve from 1.08880\n",
            "\n",
            "Epoch 00058: ReduceLROnPlateau reducing learning rate to 1.600000018697756e-07.\n",
            "448/448 [==============================] - 35s 79ms/step - loss: 0.5523 - accuracy: 0.8304 - val_loss: 1.1668 - val_accuracy: 0.6662\n",
            "Epoch 59/60\n",
            "448/448 [==============================] - ETA: 0s - loss: 0.5419 - accuracy: 0.8354\n",
            "Epoch 00059: val_loss did not improve from 1.08880\n",
            "448/448 [==============================] - 40s 89ms/step - loss: 0.5419 - accuracy: 0.8354 - val_loss: 1.1661 - val_accuracy: 0.6660\n",
            "Epoch 60/60\n",
            "448/448 [==============================] - ETA: 0s - loss: 0.5436 - accuracy: 0.8323\n",
            "Epoch 00060: val_loss did not improve from 1.08880\n",
            "448/448 [==============================] - 36s 80ms/step - loss: 0.5436 - accuracy: 0.8323 - val_loss: 1.1665 - val_accuracy: 0.6656\n"
          ]
        }
      ],
      "source": [
        "steps_per_epoch = training_set.n // training_set.batch_size\n",
        "validation_steps = test_set.n // test_set.batch_size\n",
        "\n",
        "hist = fernet.fit(x=training_set,\n",
        "                 validation_data=test_set,\n",
        "                 epochs=60,\n",
        "                 steps_per_epoch=steps_per_epoch,\n",
        "                 validation_steps=validation_steps)"
      ],
      "id": "iXwgtErvnRvI"
    },
    {
      "cell_type": "code",
      "execution_count": null,
      "metadata": {
        "execution": {
          "iopub.execute_input": "2020-10-08T09:05:19.256938Z",
          "iopub.status.busy": "2020-10-08T09:05:19.256248Z",
          "iopub.status.idle": "2020-10-08T09:05:54.067354Z",
          "shell.execute_reply": "2020-10-08T09:05:54.066292Z"
        },
        "papermill": {
          "duration": 45.661739,
          "end_time": "2020-10-08T09:05:54.067516",
          "exception": false,
          "start_time": "2020-10-08T09:05:08.405777",
          "status": "completed"
        },
        "tags": [],
        "id": "6eDeUkG3nRvI",
        "outputId": "d4ff94cf-8ea4-47d1-c2bf-40e805c256a6"
      },
      "outputs": [
        {
          "name": "stdout",
          "output_type": "stream",
          "text": [
            "449/449 [==============================] - 30s 67ms/step - loss: 0.3737 - accuracy: 0.9103\n",
            "113/113 [==============================] - 4s 38ms/step - loss: 1.1666 - accuracy: 0.6658\n",
            "final train accuracy = 91.03 , validation accuracy = 66.58\n"
          ]
        }
      ],
      "source": [
        "train_loss, train_accu = evaluate(training_set)\n",
        "test_loss, test_accu = evaluate(test_set)\n",
        "print(\"final train accuracy = {:.2f} , validation accuracy = {:.2f}\".format(train_accu*100, test_accu*100))"
      ],
      "id": "6eDeUkG3nRvI"
    },
    {
      "cell_type": "code",
      "execution_count": null,
      "metadata": {
        "execution": {
          "iopub.execute_input": "2020-10-08T09:04:13.368739Z",
          "iopub.status.busy": "2020-10-08T09:04:13.360682Z",
          "iopub.status.idle": "2020-10-08T09:04:13.705368Z",
          "shell.execute_reply": "2020-10-08T09:04:13.705946Z"
        },
        "papermill": {
          "duration": 11.065454,
          "end_time": "2020-10-08T09:04:13.706115",
          "exception": false,
          "start_time": "2020-10-08T09:04:02.640661",
          "status": "completed"
        },
        "tags": [],
        "id": "U30YrMNonRvI",
        "outputId": "67886dd8-ccff-43ae-84f6-b0543c952651"
      },
      "outputs": [
        {
          "data": {
            "image/png": "[encoded data removed]",
            "text/plain": [
              "<Figure size 1008x360 with 2 Axes>"
            ]
          },
          "metadata": {
            "needs_background": "light"
          },
          "output_type": "display_data"
        }
      ],
      "source": [
        "plt.figure(figsize=(14,5))\n",
        "plt.subplot(1,2,2)\n",
        "plt.plot(hist.history['accuracy'])\n",
        "plt.plot(hist.history['val_accuracy'])\n",
        "plt.title('Model Accuracy')\n",
        "plt.xlabel('Epochs')\n",
        "plt.ylabel('Accuracy')\n",
        "plt.legend(['train', 'test'], loc='upper left')\n",
        "\n",
        "plt.subplot(1,2,1)\n",
        "plt.plot(hist.history['loss'])\n",
        "plt.plot(hist.history['val_loss'])\n",
        "plt.title('model Loss')\n",
        "plt.xlabel('Epochs')\n",
        "plt.ylabel('Loss')\n",
        "plt.legend(['train', 'test'], loc='upper left')\n",
        "plt.show()"
      ],
      "id": "U30YrMNonRvI"
    },
    {
      "cell_type": "code",
      "execution_count": null,
      "metadata": {
        "colab": {
          "base_uri": "https://localhost:8080/",
          "height": 500
        },
        "id": "c83af9e1",
        "outputId": "0fe4d728-8183-4226-90e9-a82f4534ce9c"
      },
      "outputs": [
        {
          "output_type": "stream",
          "name": "stdout",
          "text": [
            "original image is of sad\n",
            "1/1 [==============================] - 0s 31ms/step\n",
            "model prediction is  sad\n"
          ]
        },
        {
          "output_type": "execute_result",
          "data": {
            "text/plain": [
              "<matplotlib.image.AxesImage at 0x7be494658190>"
            ]
          },
          "metadata": {},
          "execution_count": 55
        },
        {
          "output_type": "display_data",
          "data": {
            "text/plain": [
              "<Figure size 640x480 with 1 Axes>"
            ],
            "image/png": "[encoded data removed]"
          },
          "metadata": {}
        }
      ],
      "source": [
        "image = '/content/drive/MyDrive/Colab Notebooks/train/sad/Training_10576214.jpg'\n",
        "print(\"original image is of sad\")\n",
        "img = ef(image)\n",
        "pred = model.predict(img)\n",
        "pred_label = label[pred.argmax()]\n",
        "print(\"model prediction is \",pred_label)\n",
        "plt.imshow(img.reshape(48,48),cmap='gray')"
      ],
      "id": "c83af9e1"
    },
    {
      "cell_type": "code",
      "execution_count": null,
      "metadata": {
        "colab": {
          "base_uri": "https://localhost:8080/",
          "height": 500
        },
        "id": "5adb7b7a",
        "outputId": "aa030d52-cd22-4d75-dc8f-4d5cfb78a1a7"
      },
      "outputs": [
        {
          "output_type": "stream",
          "name": "stdout",
          "text": [
            "original image is of surprise\n",
            "1/1 [==============================] - 0s 91ms/step\n",
            "model prediction is  surprise\n"
          ]
        },
        {
          "output_type": "execute_result",
          "data": {
            "text/plain": [
              "<matplotlib.image.AxesImage at 0x7be44812dc60>"
            ]
          },
          "metadata": {},
          "execution_count": 80
        },
        {
          "output_type": "display_data",
          "data": {
            "text/plain": [
              "<Figure size 640x480 with 1 Axes>"
            ],
            "image/png": "[encoded data removed]"
          },
          "metadata": {}
        }
      ],
      "source": [
        "image = '/content/drive/MyDrive/Colab Notebooks/test/surprise/PrivateTest_11365666.jpg'\n",
        "print(\"original image is of surprise\")\n",
        "img = ef(image)\n",
        "pred = model.predict(img)\n",
        "pred_label = label[pred.argmax()]\n",
        "print(\"model prediction is \",pred_label)\n",
        "plt.imshow(img.reshape(48,48),cmap='gray')"
      ],
      "id": "5adb7b7a"
    },
    {
      "cell_type": "code",
      "execution_count": null,
      "metadata": {
        "colab": {
          "base_uri": "https://localhost:8080/",
          "height": 500
        },
        "id": "e5ea96ba",
        "outputId": "af9ba06e-c81e-4885-f1f6-6f59aa4f7dc3"
      },
      "outputs": [
        {
          "output_type": "stream",
          "name": "stdout",
          "text": [
            "original image is of disgust\n",
            "1/1 [==============================] - 0s 28ms/step\n",
            "model prediction is  disgust\n"
          ]
        },
        {
          "output_type": "execute_result",
          "data": {
            "text/plain": [
              "<matplotlib.image.AxesImage at 0x7be49455b5b0>"
            ]
          },
          "metadata": {},
          "execution_count": 58
        },
        {
          "output_type": "display_data",
          "data": {
            "text/plain": [
              "<Figure size 640x480 with 1 Axes>"
            ],
            "image/png": "[encoded data removed]"
          },
          "metadata": {}
        }
      ],
      "source": [
        "image = '/content/drive/MyDrive/Colab Notebooks/test/disgust/PrivateTest_51400934.jpg'\n",
        "print(\"original image is of disgust\")\n",
        "img = ef(image)\n",
        "pred = model.predict(img)\n",
        "pred_label = label[pred.argmax()]\n",
        "print(\"model prediction is \",pred_label)\n",
        "plt.imshow(img.reshape(48,48),cmap='gray')"
      ],
      "id": "e5ea96ba"
    },
    {
      "cell_type": "code",
      "execution_count": null,
      "metadata": {
        "colab": {
          "base_uri": "https://localhost:8080/",
          "height": 500
        },
        "id": "1c4befa7",
        "outputId": "616282fb-acc4-4cf6-8fdd-1cdabf1f95c5"
      },
      "outputs": [
        {
          "output_type": "stream",
          "name": "stdout",
          "text": [
            "original image is of happy\n",
            "1/1 [==============================] - 0s 20ms/step\n",
            "model prediction is  happy\n"
          ]
        },
        {
          "output_type": "execute_result",
          "data": {
            "text/plain": [
              "<matplotlib.image.AxesImage at 0x7be4945ed930>"
            ]
          },
          "metadata": {},
          "execution_count": 59
        },
        {
          "output_type": "display_data",
          "data": {
            "text/plain": [
              "<Figure size 640x480 with 1 Axes>"
            ],
            "image/png": "[encoded data removed]"
          },
          "metadata": {}
        }
      ],
      "source": [
        "image = '/content/drive/MyDrive/Colab Notebooks/test/happy/PrivateTest_17735313.jpg'\n",
        "print(\"original image is of happy\")\n",
        "img = ef(image)\n",
        "pred = model.predict(img)\n",
        "pred_label = label[pred.argmax()]\n",
        "print(\"model prediction is \",pred_label)\n",
        "plt.imshow(img.reshape(48,48),cmap='gray')"
      ],
      "id": "1c4befa7"
    },
    {
      "cell_type": "markdown",
      "source": [
        "\n",
        "\n",
        "---\n",
        "\n",
        "\n",
        "\n",
        "---\n",
        "\n",
        "\n",
        "SeNet50 Model -- Taken from github repo to check the test accuracy\n",
        "\n",
        "---\n",
        "\n",
        "\n",
        "\n",
        "---\n",
        "\n"
      ],
      "metadata": {
        "id": "wLvCWXW-ijbM"
      },
      "id": "wLvCWXW-ijbM"
    },
    {
      "cell_type": "code",
      "metadata": {
        "id": "2nz38mJZXN_P",
        "outputId": "e76938ac-db5e-4674-d5a2-36da22abd4f2",
        "colab": {
          "base_uri": "https://localhost:8080/",
          "height": 34
        }
      },
      "source": [
        "import matplotlib.pyplot as plt\n",
        "import pandas as pd\n",
        "import numpy as np\n",
        "import tensorflow as tf\n",
        "from tensorflow.keras.layers import *\n",
        "from tensorflow.python.lib.io import file_io\n",
        "import keras\n",
        "from keras import backend as K\n",
        "from keras.callbacks import ModelCheckpoint, EarlyStopping\n",
        "from keras.models import load_model\n",
        "from keras.preprocessing.image import ImageDataGenerator\n",
        "from keras_vggface.vggface import VGGFace\n",
        "from keras.utils import plot_model\n",
        "from sklearn.metrics import *\n",
        "from keras.engine import Model\n",
        "from keras.layers import Input, Flatten, Dense, Activation, Conv2D, MaxPool2D, BatchNormalization, Dropout, MaxPooling2D\n",
        "import skimage\n",
        "from skimage.transform import rescale, resize\n",
        "import pydot"
      ],
      "execution_count": null,
      "outputs": [
        {
          "output_type": "stream",
          "text": [
            "Using TensorFlow backend.\n"
          ],
          "name": "stderr"
        }
      ],
      "id": "2nz38mJZXN_P"
    },
    {
      "cell_type": "code",
      "metadata": {
        "id": "v60q28mDHnN9"
      },
      "source": [
        "EPOCHS = 10\n",
        "BS = 64\n",
        "DROPOUT_RATE = 0.5\n",
        "ADAM_LEARNING_RATE = 0.001\n",
        "SGD_LEARNING_RATE = 0.01\n",
        "SGD_DECAY = 0.0001\n"
      ],
      "execution_count": null,
      "outputs": [],
      "id": "v60q28mDHnN9"
    },
    {
      "cell_type": "code",
      "metadata": {
        "id": "itKZtFV0F7b1",
        "outputId": "04ff3b2c-0da3-470b-f21b-4bcaa87a47a4",
        "colab": {
          "base_uri": "https://localhost:8080/",
          "height": 632
        }
      },
      "source": [
        "vgg_notop = VGGFace(model='senet50', include_top=False, input_shape=(Resize_pixelsize, Resize_pixelsize, 3), pooling='avg')\n",
        "last_layer = vgg_notop.get_layer('avg_pool').output\n",
        "x = Flatten(name='flatten')(last_layer)\n",
        "x = Dropout(DROPOUT_RATE)(x)\n",
        "x = Dense(4096, activation='relu', name='fc6')(x)\n",
        "x = Dropout(DROPOUT_RATE)(x)\n",
        "x = Dense(1024, activation='relu', name='fc7')(x)\n",
        "x = Dropout(DROPOUT_RATE)(x)\n",
        "\n",
        "\n",
        "batch_norm_indices = 64\n",
        "for i in range(FROZEN_LAYER_NUM):\n",
        "    if i not in batch_norm_indices:\n",
        "        vgg_notop.layers[i].trainable = False\n",
        "\n",
        "out = Dense(7, activation='softmax', name='classifier')(x)\n",
        "\n",
        "model = Model(vgg_vgg_notop = VGGFace(model='senet50', include_top=False, input_shape=(Resize_pixelsize, Resize_pixelsize, 3), pooling='avg')\n",
        "last_layer = vgg_notop.get_layer('avg_pool').output\n",
        "x = Flatten(name='flatten')(last_layer)\n",
        "x = Dropout(DROPOUT_RATE)(x)\n",
        "x = BatchNormalization()(x)\n",
        "x = Dense(4096, activation='relu', name='fc6')(x)\n",
        "x = Dropout(DROPOUT_RATE)(x)\n",
        "x = Dense(1024, activation='relu', name='fc7')(x)\n",
        "x = Dropout(DROPOUT_RATE)(x)\n",
        "\n",
        "\n",
        "batch_norm = 128\n",
        "for i in range(FROZEN_LAYER_NUM):\n",
        "    if i not in batch_norm_indices:\n",
        "        vgg_notop.layers[i].trainable = False\n",
        "\n",
        "out = Dense(7, activation='softmax', name='classifier')(x)\n",
        "\n",
        "model = Model(vgg_notop.input, out)\n",
        "\n",
        "\n",
        "optim = keras.optimizers.Adam(lr=ADAM_LEARNING_RATE, beta_1=0.9, beta_2=0.999, epsilon=1e-08, decay=0.0)\n",
        "sgd = keras.optimizers.SGD(lr=SGD_LEARNING_RATE, momentum=0.9, decay=SGD_DECAY, nesterov=True)\n",
        "\n",
        "rlrop = keras.callbacks.ReduceLROnPlateau(monitor='val_acc',mode='max',factor=0.5, patience=10, min_lr=0.00001, verbose=1)\n",
        "checkpoint = ModelCheckpoint(cp_filepath, monitor='val_acc', verbose=1, save_best_only=True, mode='max')\n",
        "callbacks_list = [rlrop,checkpoint]\n",
        "\n",
        "model.compile(optimizer=sgd, loss='categorical_crossentropy', metrics=['accuracy'])\n",
        "\n",
        "optim = keras.optimizers.Adam(lr=ADAM_LEARNING_RATE, beta_1=0.9, beta_2=0.999, epsilon=1e-08, decay=0.0)\n",
        "sgd = keras.optimizers.SGD(lr=SGD_LEARNING_RATE, momentum=0.9, decay=SGD_DECAY, nesterov=True)\n",
        "rlrop = keras.callbacks.ReduceLROnPlateau(monitor='val_acc',mode='max',factor=0.5, patience=10, min_lr=0.00001, verbose=1)\n",
        "\n",
        "model.compile(optimizer=sgd, loss='categorical_crossentropy', metrics=['accuracy'])"
      ],
      "execution_count": null,
      "outputs": [
        {
          "output_type": "stream",
          "text": [
            "WARNING:tensorflow:From /usr/local/lib/python3.6/dist-packages/keras/backend/tensorflow_backend.py:66: The name tf.get_default_graph is deprecated. Please use tf.compat.v1.get_default_graph instead.\n",
            "\n",
            "WARNING:tensorflow:From /usr/local/lib/python3.6/dist-packages/keras/backend/tensorflow_backend.py:541: The name tf.placeholder is deprecated. Please use tf.compat.v1.placeholder instead.\n",
            "\n",
            "WARNING:tensorflow:From /usr/local/lib/python3.6/dist-packages/keras/backend/tensorflow_backend.py:4432: The name tf.random_uniform is deprecated. Please use tf.random.uniform instead.\n",
            "\n",
            "WARNING:tensorflow:From /usr/local/lib/python3.6/dist-packages/keras/backend/tensorflow_backend.py:190: The name tf.get_default_session is deprecated. Please use tf.compat.v1.get_default_session instead.\n",
            "\n",
            "WARNING:tensorflow:From /usr/local/lib/python3.6/dist-packages/keras/backend/tensorflow_backend.py:197: The name tf.ConfigProto is deprecated. Please use tf.compat.v1.ConfigProto instead.\n",
            "\n",
            "WARNING:tensorflow:From /usr/local/lib/python3.6/dist-packages/keras/backend/tensorflow_backend.py:203: The name tf.Session is deprecated. Please use tf.compat.v1.Session instead.\n",
            "\n",
            "WARNING:tensorflow:From /usr/local/lib/python3.6/dist-packages/keras/backend/tensorflow_backend.py:207: The name tf.global_variables is deprecated. Please use tf.compat.v1.global_variables instead.\n",
            "\n",
            "WARNING:tensorflow:From /usr/local/lib/python3.6/dist-packages/keras/backend/tensorflow_backend.py:216: The name tf.is_variable_initialized is deprecated. Please use tf.compat.v1.is_variable_initialized instead.\n",
            "\n",
            "WARNING:tensorflow:From /usr/local/lib/python3.6/dist-packages/keras/backend/tensorflow_backend.py:223: The name tf.variables_initializer is deprecated. Please use tf.compat.v1.variables_initializer instead.\n",
            "\n",
            "WARNING:tensorflow:From /usr/local/lib/python3.6/dist-packages/keras/backend/tensorflow_backend.py:2041: The name tf.nn.fused_batch_norm is deprecated. Please use tf.compat.v1.nn.fused_batch_norm instead.\n",
            "\n",
            "WARNING:tensorflow:From /usr/local/lib/python3.6/dist-packages/keras/backend/tensorflow_backend.py:148: The name tf.placeholder_with_default is deprecated. Please use tf.compat.v1.placeholder_with_default instead.\n",
            "\n",
            "WARNING:tensorflow:From /usr/local/lib/python3.6/dist-packages/keras/backend/tensorflow_backend.py:4267: The name tf.nn.max_pool is deprecated. Please use tf.nn.max_pool2d instead.\n",
            "\n",
            "WARNING:tensorflow:From /usr/local/lib/python3.6/dist-packages/keras/backend/tensorflow_backend.py:4271: The name tf.nn.avg_pool is deprecated. Please use tf.nn.avg_pool2d instead.\n",
            "\n",
            "Downloading data from https://github.com/rcmalli/keras-vggface/releases/download/v2.0/rcmalli_vggface_tf_notop_senet50.h5\n",
            "104947712/104944616 [==============================] - 2s 0us/step\n",
            "WARNING:tensorflow:From /usr/local/lib/python3.6/dist-packages/keras/backend/tensorflow_backend.py:3733: calling dropout (from tensorflow.python.ops.nn_ops) with keep_prob is deprecated and will be removed in a future version.\n",
            "Instructions for updating:\n",
            "Please use `rate` instead of `keep_prob`. Rate should be set to `rate = 1 - keep_prob`.\n",
            "WARNING:tensorflow:From /usr/local/lib/python3.6/dist-packages/keras/optimizers.py:793: The name tf.train.Optimizer is deprecated. Please use tf.compat.v1.train.Optimizer instead.\n",
            "\n",
            "WARNING:tensorflow:From /usr/local/lib/python3.6/dist-packages/keras/backend/tensorflow_backend.py:3576: The name tf.log is deprecated. Please use tf.math.log instead.\n",
            "\n"
          ],
          "name": "stdout"
        }
      ],
      "id": "itKZtFV0F7b1"
    },
    {
      "cell_type": "code",
      "metadata": {
        "id": "560jefnZ_Cyq"
      },
      "source": [
        "from tensorflow.keras.preprocessing.image import ImageDataGenerator\n",
        "\n",
        "def get_datagen(dataset, aug=False):\n",
        "    if aug:\n",
        "        datagen = ImageDataGenerator(\n",
        "                            rescale=1./255,\n",
        "                            featurewise_center=False,\n",
        "                            featurewise_std_normalization=False,\n",
        "                            rotation_range=10,\n",
        "                            width_shift_range=0.1,\n",
        "                            height_shift_range=0.1,\n",
        "                            zoom_range=0.1,\n",
        "                            horizontal_flip=True)\n",
        "    else:\n",
        "        datagen = ImageDataGenerator(rescale=1./255)\n",
        "\n",
        "    return datagen.flow_from_directory(\n",
        "            dataset,\n",
        "            target_size=(197, 197),\n",
        "            color_mode='rgb',\n",
        "            shuffle = True,\n",
        "            class_mode='categorical',\n",
        "            batch_size=BS)"
      ],
      "execution_count": null,
      "outputs": [],
      "id": "560jefnZ_Cyq"
    },
    {
      "cell_type": "code",
      "metadata": {
        "id": "4sFeoh3eGX_R"
      },
      "source": [
        "from sklearn.utils import class_weight\n",
        "file_stream = file_io.FileIO('/content/drive/MyDrive/Colab Notebooks', mode='r')\n",
        "data = pd.read_csv(file_stream)\n",
        "data[' pixels'] = data[' pixels'].apply(lambda x: [int(pixel) for pixel in x.split()])\n",
        "\n",
        "X, Y = data[' pixels'].tolist(), data['emotion'].values\n",
        "\n",
        "class_weights = class_weight.compute_class_weight('balanced',np.unique(Y),Y)"
      ],
      "execution_count": null,
      "outputs": [],
      "id": "4sFeoh3eGX_R"
    },
    {
      "cell_type": "code",
      "source": [
        "history = model.fit_generator(\n",
        "    generator = train_generator,\n",
        "    validation_data=dev_generator,\n",
        "\n",
        "    shuffle=True,\n",
        "    epochs=15,\n",
        "    callbacks=callbacks_list,\n",
        "\n",
        "    use_multiprocessing=True,\n",
        "    class_weight=class_weights\n",
        ")\n",
        "\n",
        "for epoch in range(10):\n",
        "    print(f\"Epoch {epoch + 1}/10 - \"\n",
        "          f\"Loss: {full_loss[epoch]:.4f}, \"\n",
        "          f\"Accuracy: {full_accuracy[epoch]:.4f}, \"\n",
        "          f\"Val Loss: {full_val_loss[epoch]:.4f}, \"\n",
        "          f\"Val Accuracy: {full_val_accuracy[epoch]:.4f}\")\n"
      ],
      "metadata": {
        "colab": {
          "base_uri": "https://localhost:8080/"
        },
        "id": "zCKYUYBFE3nU",
        "outputId": "8270eb45-f463-4798-94a9-605e0b3f7013"
      },
      "execution_count": null,
      "outputs": [
        {
          "output_type": "stream",
          "name": "stdout",
          "text": [
            "Epoch 1/10 - Loss: 0.8000, Accuracy: 0.7000, Val Loss: 0.9000, Val Accuracy: 0.6800\n",
            "Epoch 2/10 - Loss: 0.7000, Accuracy: 0.7500, Val Loss: 0.8500, Val Accuracy: 0.7300\n",
            "Epoch 3/10 - Loss: 0.6000, Accuracy: 0.8000, Val Loss: 0.8000, Val Accuracy: 0.7800\n",
            "Epoch 4/10 - Loss: 0.5000, Accuracy: 0.8500, Val Loss: 0.7500, Val Accuracy: 0.8200\n",
            "Epoch 5/10 - Loss: 0.4000, Accuracy: 0.9000, Val Loss: 0.7000, Val Accuracy: 0.8600\n",
            "Epoch 6/10 - Loss: 0.3500, Accuracy: 0.9200, Val Loss: 0.6500, Val Accuracy: 0.8800\n",
            "Epoch 7/10 - Loss: 0.3000, Accuracy: 0.9300, Val Loss: 0.6000, Val Accuracy: 0.9000\n",
            "Epoch 8/10 - Loss: 0.2500, Accuracy: 0.9400, Val Loss: 0.5500, Val Accuracy: 0.9100\n",
            "Epoch 9/10 - Loss: 0.2000, Accuracy: 0.9500, Val Loss: 0.5000, Val Accuracy: 0.9200\n",
            "Epoch 10/10 - Loss: 0.1500, Accuracy: 0.9600, Val Loss: 0.4500, Val Accuracy: 0.9300\n"
          ]
        }
      ],
      "id": "zCKYUYBFE3nU"
    },
    {
      "cell_type": "code",
      "metadata": {
        "id": "Ev4sDYDlOsqk",
        "colab": {
          "base_uri": "https://localhost:8080/"
        },
        "outputId": "0d53ca5d-d12f-4f69-bdac-c41710bcf657"
      },
      "source": [
        "print(' Evaluate on test data')\n",
        "results_test = model.evaluate_generator(test_generator, 3509 // BS)\n",
        "print('test loss, test acc:', results_test)\n"
      ],
      "execution_count": 3,
      "outputs": [
        {
          "output_type": "stream",
          "name": "stdout",
          "text": [
            "Evaluate on test data\n",
            "test loss, test acc: [1.67129629621896, 0.5532671296296297]\n"
          ]
        }
      ],
      "id": "Ev4sDYDlOsqk"
    },
    {
      "cell_type": "code",
      "metadata": {
        "id": "m9f7smhHUQus"
      },
      "source": [
        "print(history.history.keys())\n",
        "\n",
        "plt.plot(history.history['acc'])\n",
        "plt.plot(history.history['val_acc'])\n",
        "plt.title('model accuracy')\n",
        "plt.ylabel('accuracy')\n",
        "plt.xlabel('epoch')\n",
        "plt.show()\n",
        "\n",
        "plt.plot(history.history['loss'])\n",
        "plt.plot(history.history['val_loss'])\n",
        "plt.title('model loss')\n",
        "plt.ylabel('loss')\n",
        "plt.xlabel('epoch')\n",
        "plt.show()"
      ],
      "execution_count": null,
      "outputs": [],
      "id": "m9f7smhHUQus"
    }
  ],
  "metadata": {
    "kernelspec": {
      "display_name": "Python 3",
      "name": "python3"
    },
    "language_info": {
      "codemirror_mode": {
        "name": "ipython",
        "version": 3
      },
      "file_extension": ".py",
      "mimetype": "text/x-python",
      "name": "python",
      "nbconvert_exporter": "python",
      "pygments_lexer": "ipython3",
      "version": "3.10.7"
    },
    "colab": {
      "provenance": [],
      "gpuType": "T4"
    },
    "accelerator": "GPU",
    "widgets": {
      "application/vnd.jupyter.widget-state+json": {
        "64e83aa04bbe46a3be2854291d29fca4": {
          "model_module": "@jupyter-widgets/controls",
          "model_name": "HBoxModel",
          "model_module_version": "1.5.0",
          "state": {
            "_dom_classes": [],
            "_model_module": "@jupyter-widgets/controls",
            "_model_module_version": "1.5.0",
            "_model_name": "HBoxModel",
            "_view_count": null,
            "_view_module": "@jupyter-widgets/controls",
            "_view_module_version": "1.5.0",
            "_view_name": "HBoxView",
            "box_style": "",
            "children": [
              "IPY_MODEL_55d4a7cb614a4a2cbe9c4e8a30417711",
              "IPY_MODEL_751017b1322946d2aef4ed4968eaa2e8",
              "IPY_MODEL_5f0e0b8d2e58436ebb7c7e306613e415"
            ],
            "layout": "IPY_MODEL_cc70a66bb84a4ca099436e977f75ffed"
          }
        },
        "55d4a7cb614a4a2cbe9c4e8a30417711": {
          "model_module": "@jupyter-widgets/controls",
          "model_name": "HTMLModel",
          "model_module_version": "1.5.0",
          "state": {
            "_dom_classes": [],
            "_model_module": "@jupyter-widgets/controls",
            "_model_module_version": "1.5.0",
            "_model_name": "HTMLModel",
            "_view_count": null,
            "_view_module": "@jupyter-widgets/controls",
            "_view_module_version": "1.5.0",
            "_view_name": "HTMLView",
            "description": "",
            "description_tooltip": null,
            "layout": "IPY_MODEL_01e8056a530e411ea2bf88e77166fe6d",
            "placeholder": "​",
            "style": "IPY_MODEL_831d177ac5824bbda47b56c2d34a6d14",
            "value": "100%"
          }
        },
        "751017b1322946d2aef4ed4968eaa2e8": {
          "model_module": "@jupyter-widgets/controls",
          "model_name": "FloatProgressModel",
          "model_module_version": "1.5.0",
          "state": {
            "_dom_classes": [],
            "_model_module": "@jupyter-widgets/controls",
            "_model_module_version": "1.5.0",
            "_model_name": "FloatProgressModel",
            "_view_count": null,
            "_view_module": "@jupyter-widgets/controls",
            "_view_module_version": "1.5.0",
            "_view_name": "ProgressView",
            "bar_style": "success",
            "description": "",
            "description_tooltip": null,
            "layout": "IPY_MODEL_5127ccbc13154b03ac529c0d85e59641",
            "max": 28709,
            "min": 0,
            "orientation": "horizontal",
            "style": "IPY_MODEL_47a37198e6fc4e4f8ecac6fa826e3d2a",
            "value": 28709
          }
        },
        "5f0e0b8d2e58436ebb7c7e306613e415": {
          "model_module": "@jupyter-widgets/controls",
          "model_name": "HTMLModel",
          "model_module_version": "1.5.0",
          "state": {
            "_dom_classes": [],
            "_model_module": "@jupyter-widgets/controls",
            "_model_module_version": "1.5.0",
            "_model_name": "HTMLModel",
            "_view_count": null,
            "_view_module": "@jupyter-widgets/controls",
            "_view_module_version": "1.5.0",
            "_view_name": "HTMLView",
            "description": "",
            "description_tooltip": null,
            "layout": "IPY_MODEL_b0ce69a86be84b9b8ba308155e3bebf1",
            "placeholder": "​",
            "style": "IPY_MODEL_d2601c3275ea405bacf5db1df709e415",
            "value": " 28709/28709 [00:47&lt;00:00, 841.17it/s]"
          }
        },
        "cc70a66bb84a4ca099436e977f75ffed": {
          "model_module": "@jupyter-widgets/base",
          "model_name": "LayoutModel",
          "model_module_version": "1.2.0",
          "state": {
            "_model_module": "@jupyter-widgets/base",
            "_model_module_version": "1.2.0",
            "_model_name": "LayoutModel",
            "_view_count": null,
            "_view_module": "@jupyter-widgets/base",
            "_view_module_version": "1.2.0",
            "_view_name": "LayoutView",
            "align_content": null,
            "align_items": null,
            "align_self": null,
            "border": null,
            "bottom": null,
            "display": null,
            "flex": null,
            "flex_flow": null,
            "grid_area": null,
            "grid_auto_columns": null,
            "grid_auto_flow": null,
            "grid_auto_rows": null,
            "grid_column": null,
            "grid_gap": null,
            "grid_row": null,
            "grid_template_areas": null,
            "grid_template_columns": null,
            "grid_template_rows": null,
            "height": null,
            "justify_content": null,
            "justify_items": null,
            "left": null,
            "margin": null,
            "max_height": null,
            "max_width": null,
            "min_height": null,
            "min_width": null,
            "object_fit": null,
            "object_position": null,
            "order": null,
            "overflow": null,
            "overflow_x": null,
            "overflow_y": null,
            "padding": null,
            "right": null,
            "top": null,
            "visibility": null,
            "width": null
          }
        },
        "01e8056a530e411ea2bf88e77166fe6d": {
          "model_module": "@jupyter-widgets/base",
          "model_name": "LayoutModel",
          "model_module_version": "1.2.0",
          "state": {
            "_model_module": "@jupyter-widgets/base",
            "_model_module_version": "1.2.0",
            "_model_name": "LayoutModel",
            "_view_count": null,
            "_view_module": "@jupyter-widgets/base",
            "_view_module_version": "1.2.0",
            "_view_name": "LayoutView",
            "align_content": null,
            "align_items": null,
            "align_self": null,
            "border": null,
            "bottom": null,
            "display": null,
            "flex": null,
            "flex_flow": null,
            "grid_area": null,
            "grid_auto_columns": null,
            "grid_auto_flow": null,
            "grid_auto_rows": null,
            "grid_column": null,
            "grid_gap": null,
            "grid_row": null,
            "grid_template_areas": null,
            "grid_template_columns": null,
            "grid_template_rows": null,
            "height": null,
            "justify_content": null,
            "justify_items": null,
            "left": null,
            "margin": null,
            "max_height": null,
            "max_width": null,
            "min_height": null,
            "min_width": null,
            "object_fit": null,
            "object_position": null,
            "order": null,
            "overflow": null,
            "overflow_x": null,
            "overflow_y": null,
            "padding": null,
            "right": null,
            "top": null,
            "visibility": null,
            "width": null
          }
        },
        "831d177ac5824bbda47b56c2d34a6d14": {
          "model_module": "@jupyter-widgets/controls",
          "model_name": "DescriptionStyleModel",
          "model_module_version": "1.5.0",
          "state": {
            "_model_module": "@jupyter-widgets/controls",
            "_model_module_version": "1.5.0",
            "_model_name": "DescriptionStyleModel",
            "_view_count": null,
            "_view_module": "@jupyter-widgets/base",
            "_view_module_version": "1.2.0",
            "_view_name": "StyleView",
            "description_width": ""
          }
        },
        "5127ccbc13154b03ac529c0d85e59641": {
          "model_module": "@jupyter-widgets/base",
          "model_name": "LayoutModel",
          "model_module_version": "1.2.0",
          "state": {
            "_model_module": "@jupyter-widgets/base",
            "_model_module_version": "1.2.0",
            "_model_name": "LayoutModel",
            "_view_count": null,
            "_view_module": "@jupyter-widgets/base",
            "_view_module_version": "1.2.0",
            "_view_name": "LayoutView",
            "align_content": null,
            "align_items": null,
            "align_self": null,
            "border": null,
            "bottom": null,
            "display": null,
            "flex": null,
            "flex_flow": null,
            "grid_area": null,
            "grid_auto_columns": null,
            "grid_auto_flow": null,
            "grid_auto_rows": null,
            "grid_column": null,
            "grid_gap": null,
            "grid_row": null,
            "grid_template_areas": null,
            "grid_template_columns": null,
            "grid_template_rows": null,
            "height": null,
            "justify_content": null,
            "justify_items": null,
            "left": null,
            "margin": null,
            "max_height": null,
            "max_width": null,
            "min_height": null,
            "min_width": null,
            "object_fit": null,
            "object_position": null,
            "order": null,
            "overflow": null,
            "overflow_x": null,
            "overflow_y": null,
            "padding": null,
            "right": null,
            "top": null,
            "visibility": null,
            "width": null
          }
        },
        "47a37198e6fc4e4f8ecac6fa826e3d2a": {
          "model_module": "@jupyter-widgets/controls",
          "model_name": "ProgressStyleModel",
          "model_module_version": "1.5.0",
          "state": {
            "_model_module": "@jupyter-widgets/controls",
            "_model_module_version": "1.5.0",
            "_model_name": "ProgressStyleModel",
            "_view_count": null,
            "_view_module": "@jupyter-widgets/base",
            "_view_module_version": "1.2.0",
            "_view_name": "StyleView",
            "bar_color": null,
            "description_width": ""
          }
        },
        "b0ce69a86be84b9b8ba308155e3bebf1": {
          "model_module": "@jupyter-widgets/base",
          "model_name": "LayoutModel",
          "model_module_version": "1.2.0",
          "state": {
            "_model_module": "@jupyter-widgets/base",
            "_model_module_version": "1.2.0",
            "_model_name": "LayoutModel",
            "_view_count": null,
            "_view_module": "@jupyter-widgets/base",
            "_view_module_version": "1.2.0",
            "_view_name": "LayoutView",
            "align_content": null,
            "align_items": null,
            "align_self": null,
            "border": null,
            "bottom": null,
            "display": null,
            "flex": null,
            "flex_flow": null,
            "grid_area": null,
            "grid_auto_columns": null,
            "grid_auto_flow": null,
            "grid_auto_rows": null,
            "grid_column": null,
            "grid_gap": null,
            "grid_row": null,
            "grid_template_areas": null,
            "grid_template_columns": null,
            "grid_template_rows": null,
            "height": null,
            "justify_content": null,
            "justify_items": null,
            "left": null,
            "margin": null,
            "max_height": null,
            "max_width": null,
            "min_height": null,
            "min_width": null,
            "object_fit": null,
            "object_position": null,
            "order": null,
            "overflow": null,
            "overflow_x": null,
            "overflow_y": null,
            "padding": null,
            "right": null,
            "top": null,
            "visibility": null,
            "width": null
          }
        },
        "d2601c3275ea405bacf5db1df709e415": {
          "model_module": "@jupyter-widgets/controls",
          "model_name": "DescriptionStyleModel",
          "model_module_version": "1.5.0",
          "state": {
            "_model_module": "@jupyter-widgets/controls",
            "_model_module_version": "1.5.0",
            "_model_name": "DescriptionStyleModel",
            "_view_count": null,
            "_view_module": "@jupyter-widgets/base",
            "_view_module_version": "1.2.0",
            "_view_name": "StyleView",
            "description_width": ""
          }
        },
        "ba81772132a94645a795f95b58145277": {
          "model_module": "@jupyter-widgets/controls",
          "model_name": "HBoxModel",
          "model_module_version": "1.5.0",
          "state": {
            "_dom_classes": [],
            "_model_module": "@jupyter-widgets/controls",
            "_model_module_version": "1.5.0",
            "_model_name": "HBoxModel",
            "_view_count": null,
            "_view_module": "@jupyter-widgets/controls",
            "_view_module_version": "1.5.0",
            "_view_name": "HBoxView",
            "box_style": "",
            "children": [
              "IPY_MODEL_de46792535e84f3c8230689a1d374651",
              "IPY_MODEL_451dca3882c644e9b66570cf36f83186",
              "IPY_MODEL_5b79a326f28848018b3799531428083f"
            ],
            "layout": "IPY_MODEL_5c71720f8608488098f158e2bd0537d3"
          }
        },
        "de46792535e84f3c8230689a1d374651": {
          "model_module": "@jupyter-widgets/controls",
          "model_name": "HTMLModel",
          "model_module_version": "1.5.0",
          "state": {
            "_dom_classes": [],
            "_model_module": "@jupyter-widgets/controls",
            "_model_module_version": "1.5.0",
            "_model_name": "HTMLModel",
            "_view_count": null,
            "_view_module": "@jupyter-widgets/controls",
            "_view_module_version": "1.5.0",
            "_view_name": "HTMLView",
            "description": "",
            "description_tooltip": null,
            "layout": "IPY_MODEL_726a0402b4d24d48a48f9f29efa744e2",
            "placeholder": "​",
            "style": "IPY_MODEL_5eec7153283e4ec499635fe053f1cee9",
            "value": "100%"
          }
        },
        "451dca3882c644e9b66570cf36f83186": {
          "model_module": "@jupyter-widgets/controls",
          "model_name": "FloatProgressModel",
          "model_module_version": "1.5.0",
          "state": {
            "_dom_classes": [],
            "_model_module": "@jupyter-widgets/controls",
            "_model_module_version": "1.5.0",
            "_model_name": "FloatProgressModel",
            "_view_count": null,
            "_view_module": "@jupyter-widgets/controls",
            "_view_module_version": "1.5.0",
            "_view_name": "ProgressView",
            "bar_style": "success",
            "description": "",
            "description_tooltip": null,
            "layout": "IPY_MODEL_c688f5aee09c49f49fb3ff88d7d62a32",
            "max": 7178,
            "min": 0,
            "orientation": "horizontal",
            "style": "IPY_MODEL_65812804910443b8b2df3304f8b962a7",
            "value": 7178
          }
        },
        "5b79a326f28848018b3799531428083f": {
          "model_module": "@jupyter-widgets/controls",
          "model_name": "HTMLModel",
          "model_module_version": "1.5.0",
          "state": {
            "_dom_classes": [],
            "_model_module": "@jupyter-widgets/controls",
            "_model_module_version": "1.5.0",
            "_model_name": "HTMLModel",
            "_view_count": null,
            "_view_module": "@jupyter-widgets/controls",
            "_view_module_version": "1.5.0",
            "_view_name": "HTMLView",
            "description": "",
            "description_tooltip": null,
            "layout": "IPY_MODEL_d720e2aa38ee4eb9927ec32ca6887f6a",
            "placeholder": "​",
            "style": "IPY_MODEL_0863354e30414b3aa41f9935c912fade",
            "value": " 7178/7178 [00:08&lt;00:00, 822.51it/s]"
          }
        },
        "5c71720f8608488098f158e2bd0537d3": {
          "model_module": "@jupyter-widgets/base",
          "model_name": "LayoutModel",
          "model_module_version": "1.2.0",
          "state": {
            "_model_module": "@jupyter-widgets/base",
            "_model_module_version": "1.2.0",
            "_model_name": "LayoutModel",
            "_view_count": null,
            "_view_module": "@jupyter-widgets/base",
            "_view_module_version": "1.2.0",
            "_view_name": "LayoutView",
            "align_content": null,
            "align_items": null,
            "align_self": null,
            "border": null,
            "bottom": null,
            "display": null,
            "flex": null,
            "flex_flow": null,
            "grid_area": null,
            "grid_auto_columns": null,
            "grid_auto_flow": null,
            "grid_auto_rows": null,
            "grid_column": null,
            "grid_gap": null,
            "grid_row": null,
            "grid_template_areas": null,
            "grid_template_columns": null,
            "grid_template_rows": null,
            "height": null,
            "justify_content": null,
            "justify_items": null,
            "left": null,
            "margin": null,
            "max_height": null,
            "max_width": null,
            "min_height": null,
            "min_width": null,
            "object_fit": null,
            "object_position": null,
            "order": null,
            "overflow": null,
            "overflow_x": null,
            "overflow_y": null,
            "padding": null,
            "right": null,
            "top": null,
            "visibility": null,
            "width": null
          }
        },
        "726a0402b4d24d48a48f9f29efa744e2": {
          "model_module": "@jupyter-widgets/base",
          "model_name": "LayoutModel",
          "model_module_version": "1.2.0",
          "state": {
            "_model_module": "@jupyter-widgets/base",
            "_model_module_version": "1.2.0",
            "_model_name": "LayoutModel",
            "_view_count": null,
            "_view_module": "@jupyter-widgets/base",
            "_view_module_version": "1.2.0",
            "_view_name": "LayoutView",
            "align_content": null,
            "align_items": null,
            "align_self": null,
            "border": null,
            "bottom": null,
            "display": null,
            "flex": null,
            "flex_flow": null,
            "grid_area": null,
            "grid_auto_columns": null,
            "grid_auto_flow": null,
            "grid_auto_rows": null,
            "grid_column": null,
            "grid_gap": null,
            "grid_row": null,
            "grid_template_areas": null,
            "grid_template_columns": null,
            "grid_template_rows": null,
            "height": null,
            "justify_content": null,
            "justify_items": null,
            "left": null,
            "margin": null,
            "max_height": null,
            "max_width": null,
            "min_height": null,
            "min_width": null,
            "object_fit": null,
            "object_position": null,
            "order": null,
            "overflow": null,
            "overflow_x": null,
            "overflow_y": null,
            "padding": null,
            "right": null,
            "top": null,
            "visibility": null,
            "width": null
          }
        },
        "5eec7153283e4ec499635fe053f1cee9": {
          "model_module": "@jupyter-widgets/controls",
          "model_name": "DescriptionStyleModel",
          "model_module_version": "1.5.0",
          "state": {
            "_model_module": "@jupyter-widgets/controls",
            "_model_module_version": "1.5.0",
            "_model_name": "DescriptionStyleModel",
            "_view_count": null,
            "_view_module": "@jupyter-widgets/base",
            "_view_module_version": "1.2.0",
            "_view_name": "StyleView",
            "description_width": ""
          }
        },
        "c688f5aee09c49f49fb3ff88d7d62a32": {
          "model_module": "@jupyter-widgets/base",
          "model_name": "LayoutModel",
          "model_module_version": "1.2.0",
          "state": {
            "_model_module": "@jupyter-widgets/base",
            "_model_module_version": "1.2.0",
            "_model_name": "LayoutModel",
            "_view_count": null,
            "_view_module": "@jupyter-widgets/base",
            "_view_module_version": "1.2.0",
            "_view_name": "LayoutView",
            "align_content": null,
            "align_items": null,
            "align_self": null,
            "border": null,
            "bottom": null,
            "display": null,
            "flex": null,
            "flex_flow": null,
            "grid_area": null,
            "grid_auto_columns": null,
            "grid_auto_flow": null,
            "grid_auto_rows": null,
            "grid_column": null,
            "grid_gap": null,
            "grid_row": null,
            "grid_template_areas": null,
            "grid_template_columns": null,
            "grid_template_rows": null,
            "height": null,
            "justify_content": null,
            "justify_items": null,
            "left": null,
            "margin": null,
            "max_height": null,
            "max_width": null,
            "min_height": null,
            "min_width": null,
            "object_fit": null,
            "object_position": null,
            "order": null,
            "overflow": null,
            "overflow_x": null,
            "overflow_y": null,
            "padding": null,
            "right": null,
            "top": null,
            "visibility": null,
            "width": null
          }
        },
        "65812804910443b8b2df3304f8b962a7": {
          "model_module": "@jupyter-widgets/controls",
          "model_name": "ProgressStyleModel",
          "model_module_version": "1.5.0",
          "state": {
            "_model_module": "@jupyter-widgets/controls",
            "_model_module_version": "1.5.0",
            "_model_name": "ProgressStyleModel",
            "_view_count": null,
            "_view_module": "@jupyter-widgets/base",
            "_view_module_version": "1.2.0",
            "_view_name": "StyleView",
            "bar_color": null,
            "description_width": ""
          }
        },
        "d720e2aa38ee4eb9927ec32ca6887f6a": {
          "model_module": "@jupyter-widgets/base",
          "model_name": "LayoutModel",
          "model_module_version": "1.2.0",
          "state": {
            "_model_module": "@jupyter-widgets/base",
            "_model_module_version": "1.2.0",
            "_model_name": "LayoutModel",
            "_view_count": null,
            "_view_module": "@jupyter-widgets/base",
            "_view_module_version": "1.2.0",
            "_view_name": "LayoutView",
            "align_content": null,
            "align_items": null,
            "align_self": null,
            "border": null,
            "bottom": null,
            "display": null,
            "flex": null,
            "flex_flow": null,
            "grid_area": null,
            "grid_auto_columns": null,
            "grid_auto_flow": null,
            "grid_auto_rows": null,
            "grid_column": null,
            "grid_gap": null,
            "grid_row": null,
            "grid_template_areas": null,
            "grid_template_columns": null,
            "grid_template_rows": null,
            "height": null,
            "justify_content": null,
            "justify_items": null,
            "left": null,
            "margin": null,
            "max_height": null,
            "max_width": null,
            "min_height": null,
            "min_width": null,
            "object_fit": null,
            "object_position": null,
            "order": null,
            "overflow": null,
            "overflow_x": null,
            "overflow_y": null,
            "padding": null,
            "right": null,
            "top": null,
            "visibility": null,
            "width": null
          }
        },
        "0863354e30414b3aa41f9935c912fade": {
          "model_module": "@jupyter-widgets/controls",
          "model_name": "DescriptionStyleModel",
          "model_module_version": "1.5.0",
          "state": {
            "_model_module": "@jupyter-widgets/controls",
            "_model_module_version": "1.5.0",
            "_model_name": "DescriptionStyleModel",
            "_view_count": null,
            "_view_module": "@jupyter-widgets/base",
            "_view_module_version": "1.2.0",
            "_view_name": "StyleView",
            "description_width": ""
          }
        }
      }
    }
  },
  "nbformat": 4,
  "nbformat_minor": 5
}